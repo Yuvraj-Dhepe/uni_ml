{
 "cells": [
  {
   "cell_type": "markdown",
   "id": "c98a22f1-39e3-4d5f-b1a9-422fe9bda6b7",
   "metadata": {},
   "source": [
    "### Lab 4"
   ]
  },
  {
   "cell_type": "code",
   "execution_count": 1,
   "id": "ff131bc8-bd9e-4d10-89d7-10529c1573c2",
   "metadata": {
    "tags": []
   },
   "outputs": [
    {
     "ename": "NameError",
     "evalue": "name 'X' is not defined",
     "output_type": "error",
     "traceback": [
      "\u001b[0;31m---------------------------------------------------------------------------\u001b[0m",
      "\u001b[0;31mNameError\u001b[0m                                 Traceback (most recent call last)",
      "Cell \u001b[0;32mIn[1], line 6\u001b[0m\n\u001b[1;32m      3\u001b[0m \u001b[38;5;66;03m# split the data\u001b[39;00m\n\u001b[1;32m      4\u001b[0m \u001b[38;5;28;01mfrom\u001b[39;00m \u001b[38;5;21;01msklearn\u001b[39;00m\u001b[38;5;21;01m.\u001b[39;00m\u001b[38;5;21;01mmodel_selection\u001b[39;00m \u001b[38;5;28;01mimport\u001b[39;00m train_test_split\n\u001b[0;32m----> 6\u001b[0m X_train, X_test, y_train, y_test \u001b[38;5;241m=\u001b[39m train_test_split(\u001b[43mX\u001b[49m, y, train_size\u001b[38;5;241m=\u001b[39m \u001b[38;5;241m0.9\u001b[39m, random_state \u001b[38;5;241m=\u001b[39m \u001b[38;5;241m1\u001b[39m)\n\u001b[1;32m      7\u001b[0m X_train, X_validation, y_train, y_validation \u001b[38;5;241m=\u001b[39m train_test_split(X_train, y_train, train_size\u001b[38;5;241m=\u001b[39m \u001b[38;5;241m0.8\u001b[39m, random_state \u001b[38;5;241m=\u001b[39m \u001b[38;5;241m0\u001b[39m)\n\u001b[1;32m      9\u001b[0m accs \u001b[38;5;241m=\u001b[39m []\n",
      "\u001b[0;31mNameError\u001b[0m: name 'X' is not defined"
     ]
    }
   ],
   "source": [
    "from sklearn.tree import DecisionTreeClassifier\n",
    "\n",
    "# split the data\n",
    "from sklearn.model_selection import train_test_split\n",
    "\n",
    "X_train, X_test, y_train, y_test = train_test_split(X, y, train_size= 0.9, random_state = 1)\n",
    "X_train, X_validation, y_train, y_validation = train_test_split(X_train, y_train, train_size= 0.8, random_state = 0)\n",
    "\n",
    "accs = []\n",
    "accs_train = []\n",
    "for max_depth in range(1,50):\n",
    "    clf_tree = DecisionTreeClassifier(criterion='entropy', max_depth=max_depth)\n",
    "    clf_tree.fit(X_train, y_train)\n",
    "    accs.append(clf_tree.score(X_validation, y_validation))\n",
    "    accs_train.append(clf_tree.score(X_train, y_train))\n",
    "sns.lineplot(x= range(5,len(accs)+1), y=accs[4:], color= \"green\", label = \"validation accuracy\")\n",
    "sns.lineplot(x= range(5,len(accs_train)+1), y=accs_train[4:], color= \"red\", label = \"train accuracy\");\n",
    "# creating some more sophisticated classification data\n",
    "\n",
    "from sklearn.datasets import make_classification\n",
    "X, y = make_classification(n_samples=20000, n_features=15, n_informative=5, n_redundant=1, n_repeated=0, n_classes=2, n_clusters_per_class=5, random_state=1)\n",
    "\n",
    "sns.scatterplot(x= X[:,1], y= X[:,14], hue=y, palette=[\"blue\", \"orange\"]);\n",
    "# the data\n",
    "pd.concat([pd.DataFrame(X), pd.DataFrame({\"label\": y})], axis=1)"
   ]
  },
  {
   "cell_type": "code",
   "execution_count": null,
   "id": "86d46b91-b72d-4ce2-89a1-c53f3fbd51d4",
   "metadata": {},
   "outputs": [],
   "source": []
  }
 ],
 "metadata": {
  "kernelspec": {
   "display_name": "Python 3 (ipykernel)",
   "language": "python",
   "name": "python3"
  },
  "language_info": {
   "codemirror_mode": {
    "name": "ipython",
    "version": 3
   },
   "file_extension": ".py",
   "mimetype": "text/x-python",
   "name": "python",
   "nbconvert_exporter": "python",
   "pygments_lexer": "ipython3",
   "version": "3.11.3"
  }
 },
 "nbformat": 4,
 "nbformat_minor": 5
}
