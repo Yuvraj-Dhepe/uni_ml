{
 "cells": [
  {
   "cell_type": "markdown",
   "id": "186d97a3-5a2c-4aa5-b04e-a009ba7c6c2b",
   "metadata": {},
   "source": [
    "High Level Questions will be asked in the exams:\n",
    "    - Why you did what you did?\n",
    "    - Algorithm steps explanation?\n",
    "    - Different loss functions, Evaluation metrics, Conceptual definitions like entropy, information gain etc."
   ]
  },
  {
   "cell_type": "markdown",
   "id": "c98a22f1-39e3-4d5f-b1a9-422fe9bda6b7",
   "metadata": {
    "tags": []
   },
   "source": [
    "### Lab 4"
   ]
  },
  {
   "cell_type": "code",
   "execution_count": null,
   "id": "ff131bc8-bd9e-4d10-89d7-10529c1573c2",
   "metadata": {
    "tags": []
   },
   "outputs": [],
   "source": [
    "from sklearn.tree import DecisionTreeClassifier\n",
    "\n",
    "# split the data\n",
    "from sklearn.model_selection import train_test_split\n",
    "\n",
    "X_train, X_test, y_train, y_test = train_test_split(X, y, train_size= 0.9, random_state = 1)\n",
    "X_train, X_validation, y_train, y_validation = train_test_split(X_train, y_train, train_size= 0.8, random_state = 0)\n",
    "\n",
    "accs = []\n",
    "accs_train = []\n",
    "for max_depth in range(1,50):\n",
    "    clf_tree = DecisionTreeClassifier(criterion='entropy', max_depth=max_depth)\n",
    "    clf_tree.fit(X_train, y_train)\n",
    "    accs.append(clf_tree.score(X_validation, y_validation))\n",
    "    accs_train.append(clf_tree.score(X_train, y_train))\n",
    "sns.lineplot(x= range(5,len(accs)+1), y=accs[4:], color= \"green\", label = \"validation accuracy\")\n",
    "sns.lineplot(x= range(5,len(accs_train)+1), y=accs_train[4:], color= \"red\", label = \"train accuracy\");\n",
    "# creating some more sophisticated classification data\n",
    "\n",
    "from sklearn.datasets import make_classification\n",
    "X, y = make_classification(n_samples=20000, n_features=15, n_informative=5, n_redundant=1, n_repeated=0, n_classes=2, n_clusters_per_class=5, random_state=1)\n",
    "\n",
    "sns.scatterplot(x= X[:,1], y= X[:,14], hue=y, palette=[\"blue\", \"orange\"]);\n",
    "# the data\n",
    "pd.concat([pd.DataFrame(X), pd.DataFrame({\"label\": y})], axis=1)"
   ]
  },
  {
   "cell_type": "markdown",
   "id": "ccec0d37-a927-4b3e-84bf-4662e5c5a9a8",
   "metadata": {},
   "source": [
    "### Lab 5"
   ]
  },
  {
   "cell_type": "markdown",
   "id": "966e1fc6-1bb8-4fa4-a4a0-240a83bce29a",
   "metadata": {},
   "source": [
    "- Observing the scatter plot we can say that whether we will have a 100% accuracy or not."
   ]
  },
  {
   "cell_type": "markdown",
   "id": "6c5bdd3d-b2c2-42f9-902b-97017d7381d9",
   "metadata": {},
   "source": [
    "```python\n",
    "# Exercise 6\n",
    "# get dummy variables for the Area Code and the international plan\n",
    "churn_df[\"Area code\"] = churn_df[\"Area code\"].apply(str)\n",
    "churn_df = pd.get_dummies(churn_df, drop_first=True)\n",
    "```"
   ]
  }
 ],
 "metadata": {
  "kernelspec": {
   "display_name": "Python 3 (ipykernel)",
   "language": "python",
   "name": "python3"
  },
  "language_info": {
   "codemirror_mode": {
    "name": "ipython",
    "version": 3
   },
   "file_extension": ".py",
   "mimetype": "text/x-python",
   "name": "python",
   "nbconvert_exporter": "python",
   "pygments_lexer": "ipython3",
   "version": "3.10.9"
  }
 },
 "nbformat": 4,
 "nbformat_minor": 5
}
