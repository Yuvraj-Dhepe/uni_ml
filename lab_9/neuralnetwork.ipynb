{
 "cells": [
  {
   "cell_type": "markdown",
   "metadata": {
    "id": "m3YDtSxjptXt"
   },
   "source": [
    "# Neural Networks\n",
    "\n",
    "In this exercise you will learn how to implement a feedforward neural network and train it with backpropagation."
   ]
  },
  {
   "cell_type": "code",
   "execution_count": 1,
   "metadata": {
    "execution": {
     "iopub.execute_input": "2023-06-29T12:43:21.957448Z",
     "iopub.status.busy": "2023-06-29T12:43:21.957168Z",
     "iopub.status.idle": "2023-06-29T12:43:23.323698Z",
     "shell.execute_reply": "2023-06-29T12:43:23.322315Z",
     "shell.execute_reply.started": "2023-06-29T12:43:21.957423Z"
    },
    "id": "TOF5ehVhptXv",
    "tags": []
   },
   "outputs": [],
   "source": [
    "import numpy as np\n",
    "from numpy.random import multivariate_normal\n",
    "from numpy.random import uniform\n",
    "from scipy.stats import zscore"
   ]
  },
  {
   "cell_type": "markdown",
   "metadata": {
    "id": "jo6F_ZTVptXw"
   },
   "source": [
    "We define two helper functions \"init_toy_data\" and \"init_model\" to create a simple data set to work on and a 2 layer neural network. "
   ]
  },
  {
   "cell_type": "markdown",
   "metadata": {
    "id": "2rje5MYtptXx"
   },
   "source": [
    "First, we create toy data with categorical labels by sampling from different multivariate normal distributions for each class. "
   ]
  },
  {
   "cell_type": "code",
   "execution_count": 2,
   "metadata": {
    "execution": {
     "iopub.execute_input": "2023-06-29T12:43:26.943390Z",
     "iopub.status.busy": "2023-06-29T12:43:26.942949Z",
     "iopub.status.idle": "2023-06-29T12:43:26.955951Z",
     "shell.execute_reply": "2023-06-29T12:43:26.954196Z",
     "shell.execute_reply.started": "2023-06-29T12:43:26.943345Z"
    },
    "id": "82g8WBTXptXx"
   },
   "outputs": [],
   "source": [
    "def init_toy_data(num_samples,num_features, num_classes, seed=3):\n",
    "    # num_samples: number of samples *per class*\n",
    "    # num_features: number of features (excluding bias)\n",
    "    # num_classes: number of class labels\n",
    "    # seed: random seed\n",
    "    np.random.seed(seed)\n",
    "    X=np.zeros((num_samples*num_classes, num_features))\n",
    "    y=np.zeros(num_samples*num_classes)\n",
    "    for c in range(num_classes):\n",
    "        # initialize multivariate normal distribution for this class:\n",
    "        # choose a mean for each feature\n",
    "        means = uniform(low=-10, high=10, size=num_features)\n",
    "        # choose a variance for each feature\n",
    "        var = uniform(low=1.0, high=5, size=num_features)\n",
    "        # for simplicity, all features are uncorrelated (covariance between any two features is 0)\n",
    "        cov = var * np.eye(num_features)\n",
    "        # draw samples from normal distribution\n",
    "        X[c*num_samples:c*num_samples+num_samples,:] = multivariate_normal(means, cov, size=num_samples)\n",
    "        # set label\n",
    "        y[c*num_samples:c*num_samples+num_samples] = c\n",
    "    return X,y"
   ]
  },
  {
   "cell_type": "code",
   "execution_count": 3,
   "metadata": {
    "execution": {
     "iopub.execute_input": "2023-06-29T12:43:28.136751Z",
     "iopub.status.busy": "2023-06-29T12:43:28.136259Z",
     "iopub.status.idle": "2023-06-29T12:43:28.146122Z",
     "shell.execute_reply": "2023-06-29T12:43:28.145135Z",
     "shell.execute_reply.started": "2023-06-29T12:43:28.136712Z"
    },
    "id": "Y28dcb7bptXy"
   },
   "outputs": [],
   "source": [
    "def init_model(input_size,hidden_size,num_classes, seed=3):\n",
    "    # input size: number of input features\n",
    "    # hidden_size: number of units in the hidden layer\n",
    "    # num_classes: number of class labels, i.e., number of output units\n",
    "    np.random.seed(seed)\n",
    "    model = {}\n",
    "    # initialize weight matrices and biases randomly\n",
    "    model['W1'] = uniform(low=-1, high=1, size=(input_size, hidden_size))\n",
    "    model['b1'] = uniform(low=-1, high=1, size=hidden_size)\n",
    "    model['W2'] = uniform(low=-1, high=1, size=(hidden_size, num_classes))\n",
    "    model['b2'] = uniform(low=-1, high=1, size=num_classes)\n",
    "    return model"
   ]
  },
  {
   "cell_type": "code",
   "execution_count": 4,
   "metadata": {
    "execution": {
     "iopub.execute_input": "2023-06-29T12:43:29.210296Z",
     "iopub.status.busy": "2023-06-29T12:43:29.209378Z",
     "iopub.status.idle": "2023-06-29T12:43:29.229698Z",
     "shell.execute_reply": "2023-06-29T12:43:29.228548Z",
     "shell.execute_reply.started": "2023-06-29T12:43:29.210253Z"
    },
    "id": "2eip8kX7ptXz"
   },
   "outputs": [
    {
     "name": "stdout",
     "output_type": "stream",
     "text": [
      "X: [[ 0.39636145  1.09468144 -0.89360845  0.91815536]\n",
      " [ 0.94419323 -0.94027869  1.22268078  1.29597409]\n",
      " [-1.41577399  1.15477931 -0.62099631  0.08323307]\n",
      " [-1.35264614 -0.13598976 -1.14221784  0.26928935]\n",
      " [ 0.9352123   0.38225626  1.419864   -1.51152157]\n",
      " [ 0.49265316 -1.55544856  0.01427781 -1.0551303 ]]\n",
      "y: [0. 0. 1. 1. 2. 2.]\n"
     ]
    }
   ],
   "source": [
    "# create toy data\n",
    "X,y= init_toy_data(2,4,3) # 2 samples per class; 4 features, 3 classes\n",
    "# Normalize data\n",
    "X = zscore(X, axis=0)\n",
    "print('X: ' + str(X))\n",
    "print('y: ' + str(y))"
   ]
  },
  {
   "cell_type": "markdown",
   "metadata": {
    "id": "XpCCDC2mptXz"
   },
   "source": [
    "We now initialise our neural net with one hidden layer consisting of $10$ units and and an output layer consisting of $3$ units. Here we expect (any number of) training samples with $4$ features. We do not apply any activation functions yet. The following figure shows a graphical representation of this neuronal net. \n",
    "<img src=\"nn.graphviz.png\"  width=\"30%\" height=\"30%\">"
   ]
  },
  {
   "cell_type": "code",
   "execution_count": 5,
   "metadata": {
    "execution": {
     "iopub.execute_input": "2023-06-29T12:43:31.527032Z",
     "iopub.status.busy": "2023-06-29T12:43:31.526656Z",
     "iopub.status.idle": "2023-06-29T12:43:31.539875Z",
     "shell.execute_reply": "2023-06-29T12:43:31.538587Z",
     "shell.execute_reply.started": "2023-06-29T12:43:31.527003Z"
    },
    "id": "99BAxa6RptX0"
   },
   "outputs": [
    {
     "name": "stdout",
     "output_type": "stream",
     "text": [
      "model: {'W1': array([[ 0.10159581,  0.41629565, -0.41819052,  0.02165521,  0.78589391,\n",
      "         0.79258618, -0.74882938, -0.58551424, -0.89706559, -0.11838031],\n",
      "       [-0.94024758, -0.08633355,  0.2982881 , -0.44302543,  0.3525098 ,\n",
      "         0.18172563, -0.95203624,  0.11770818, -0.48149511, -0.16979761],\n",
      "       [-0.43294984,  0.38627584, -0.11909256, -0.68626452,  0.08929804,\n",
      "         0.56062953, -0.38727294, -0.55608423, -0.22405748,  0.8727673 ],\n",
      "       [ 0.95199084,  0.34476735,  0.80566822,  0.69150174, -0.24401192,\n",
      "        -0.81556598,  0.30682181,  0.11568152, -0.27687047, -0.54989099]]), 'b1': array([-0.18696017, -0.0621195 , -0.46152884, -0.41641445, -0.0846272 ,\n",
      "        0.72106783,  0.17250581, -0.43302428, -0.44404499, -0.09075585]), 'W2': array([[-0.58917931, -0.59724258,  0.02807012],\n",
      "       [-0.82554126, -0.03282894, -0.27564758],\n",
      "       [ 0.41537324,  0.49349245,  0.38218584],\n",
      "       [ 0.37836083, -0.25279975,  0.33626961],\n",
      "       [-0.32030267,  0.14558774, -0.34838568],\n",
      "       [-0.1097099 , -0.87694214, -0.51464916],\n",
      "       [ 0.94320521, -0.53883159,  0.38295502],\n",
      "       [ 0.30095372,  0.44787828, -0.04982278],\n",
      "       [ 0.19332755, -0.86606115, -0.85487572],\n",
      "       [-0.60204795, -0.69627801, -0.79979131]]), 'b2': array([-0.74141227,  0.10655546, -0.62437035])}\n",
      "model['W1'].shape: (4, 10)\n",
      "model['W2'].shape: (10, 3)\n",
      "model['b1'].shape: (10,)\n",
      "model['b12'].shape: (3,)\n",
      "number of parameters: 83\n"
     ]
    }
   ],
   "source": [
    "# initialize model\n",
    "model = init_model(input_size=4, hidden_size=10, num_classes=3)\n",
    "\n",
    "print('model: ' + str(model))\n",
    "print('model[\\'W1\\'].shape: ' + str(model['W1'].shape))\n",
    "print('model[\\'W2\\'].shape: ' + str(model['W2'].shape))\n",
    "print('model[\\'b1\\'].shape: ' + str(model['b1'].shape))\n",
    "print('model[\\'b12\\'].shape: ' + str(model['b2'].shape))\n",
    "print('number of parameters: ' + str((model['W1'].shape[0] * model['W1'].shape[1]) + \n",
    "     np.sum(model['W2'].shape[0] * model['W2'].shape[1]) + \n",
    "     np.sum(model['b1'].shape[0]) +\n",
    "     np.sum(model['b2'].shape[0] )))"
   ]
  },
  {
   "cell_type": "markdown",
   "metadata": {
    "id": "Ojs6ScguptX1"
   },
   "source": [
    "<b>Exercise 1</b>: Implement softmax layer.\n",
    "\n",
    "Implement the softmax function given by \n",
    "\n",
    "### $softmax(x_i) = \\frac{e^{x_i}}{{\\sum_{j\\in 1...J}e^{x_j}}}$, \n",
    "\n",
    "where $J$ is the total number of classes, i.e. the length of  **x** .\n",
    "\n",
    "Note: Implement the function such that it takes a matrix X of shape (N, J) as input rather than a single instance **x**; N is the number of instances."
   ]
  },
  {
   "cell_type": "code",
   "execution_count": 6,
   "metadata": {
    "execution": {
     "iopub.execute_input": "2023-06-29T12:43:33.776617Z",
     "iopub.status.busy": "2023-06-29T12:43:33.776218Z",
     "iopub.status.idle": "2023-06-29T12:43:33.782881Z",
     "shell.execute_reply": "2023-06-29T12:43:33.781728Z",
     "shell.execute_reply.started": "2023-06-29T12:43:33.776574Z"
    },
    "id": "GcgC5wMvptX1"
   },
   "outputs": [],
   "source": [
    "def softmax(X):\n",
    "    exp_vals = np.exp(X)\n",
    "    sum_exp_vals = np.sum(exp_vals, axis=1, keepdims=True)\n",
    "    softmax_vals = exp_vals / sum_exp_vals\n",
    "    return softmax_vals"
   ]
  },
  {
   "cell_type": "markdown",
   "metadata": {
    "id": "7-BcVCIqptX2"
   },
   "source": [
    "Check if everything is correct."
   ]
  },
  {
   "cell_type": "code",
   "execution_count": 7,
   "metadata": {
    "execution": {
     "iopub.execute_input": "2023-06-29T12:43:36.349576Z",
     "iopub.status.busy": "2023-06-29T12:43:36.348869Z",
     "iopub.status.idle": "2023-06-29T12:43:36.357356Z",
     "shell.execute_reply": "2023-06-29T12:43:36.356099Z",
     "shell.execute_reply.started": "2023-06-29T12:43:36.349534Z"
    },
    "id": "recCBdmqptX2"
   },
   "outputs": [
    {
     "name": "stdout",
     "output_type": "stream",
     "text": [
      "Testing successful.\n"
     ]
    }
   ],
   "source": [
    "x = np.array([[0.1, 0.7],[0.7,0.4]])\n",
    "exact_softmax = np.array([[ 0.35434369,  0.64565631],\n",
    "                         [ 0.57444252,  0.42555748]])\n",
    "sm = softmax(x)\n",
    "difference = np.sum(np.abs(exact_softmax - sm))\n",
    "try:\n",
    "    assert difference < 0.000001   \n",
    "    print(\"Testing successful.\")\n",
    "except:\n",
    "    print(\"Tests failed.\")"
   ]
  },
  {
   "cell_type": "code",
   "execution_count": 8,
   "metadata": {
    "execution": {
     "iopub.execute_input": "2023-06-29T12:43:37.926661Z",
     "iopub.status.busy": "2023-06-29T12:43:37.925953Z",
     "iopub.status.idle": "2023-06-29T12:43:37.935731Z",
     "shell.execute_reply": "2023-06-29T12:43:37.934580Z",
     "shell.execute_reply.started": "2023-06-29T12:43:37.926621Z"
    },
    "tags": []
   },
   "outputs": [
    {
     "data": {
      "text/plain": [
       "(2, 2)"
      ]
     },
     "execution_count": 8,
     "metadata": {},
     "output_type": "execute_result"
    }
   ],
   "source": [
    "sm.shape"
   ]
  },
  {
   "cell_type": "markdown",
   "metadata": {
    "id": "bO0gCmA3ptX3"
   },
   "source": [
    "<b>Exercise 2</b>: Implement the forward propagation algorithm for the model defined above.\n",
    "\n",
    "The activation function of the hidden neurons is a Rectified Linear Unit $relu(x)=max(0,x)$ (to be applied element-wise to the hidden units)\n",
    "The activation function of the output layer is a softmax function as (as implemented in Exercise 1).\n",
    "\n",
    "The function should return both the activation of the hidden units (after having applied the $relu$ activation function) (shape: $(N, num\\_hidden)$) and the softmax model output (shape: $(N, num\\_classes)$). "
   ]
  },
  {
   "cell_type": "code",
   "execution_count": 9,
   "metadata": {
    "execution": {
     "iopub.execute_input": "2023-06-29T12:43:39.460435Z",
     "iopub.status.busy": "2023-06-29T12:43:39.460067Z",
     "iopub.status.idle": "2023-06-29T12:43:39.466483Z",
     "shell.execute_reply": "2023-06-29T12:43:39.465575Z",
     "shell.execute_reply.started": "2023-06-29T12:43:39.460406Z"
    },
    "id": "pze-k4-XptX3"
   },
   "outputs": [],
   "source": [
    "def forward_prop(X,model):\n",
    "    W1=model['W1']\n",
    "    b1=model['b1']\n",
    "    W2=model['W2']\n",
    "    b2=model['b2']\n",
    "    ###############################################\n",
    "    hidden_activations = np.maximum(0,np.dot(X,W1)+b1)\n",
    "    probs = softmax(np.dot(hidden_activations, W2) + b2)\n",
    "    ###############################################\n",
    "    return hidden_activations, probs"
   ]
  },
  {
   "cell_type": "code",
   "execution_count": 10,
   "metadata": {
    "execution": {
     "iopub.execute_input": "2023-06-29T12:43:40.844941Z",
     "iopub.status.busy": "2023-06-29T12:43:40.843977Z",
     "iopub.status.idle": "2023-06-29T12:43:40.855931Z",
     "shell.execute_reply": "2023-06-29T12:43:40.854685Z",
     "shell.execute_reply.started": "2023-06-29T12:43:40.844888Z"
    },
    "id": "SHrLsiylptX3",
    "scrolled": true
   },
   "outputs": [
    {
     "name": "stdout",
     "output_type": "stream",
     "text": [
      "Testing successful.\n"
     ]
    }
   ],
   "source": [
    "acts,probs = forward_prop(X, model)\n",
    "correct_probs = np.array([[0.22836388, 0.51816433, 0.25347179],\n",
    "                            [0.15853289, 0.33057078, 0.51089632],\n",
    "                            [0.40710319, 0.41765056, 0.17524624],\n",
    "                            [0.85151353, 0.03656425, 0.11192222],\n",
    "                            [0.66016592, 0.19839791, 0.14143618],\n",
    "                            [0.70362036, 0.08667923, 0.20970041]])\n",
    "\n",
    "# the difference should be very small.\n",
    "difference =  np.sum(np.abs(probs - correct_probs))\n",
    "\n",
    "try:\n",
    "    assert probs.shape==(X.shape[0],len(set(y)))\n",
    "    assert difference < 0.00001   \n",
    "    print(\"Testing successful.\")\n",
    "except:\n",
    "    print(\"Tests failed.\")"
   ]
  },
  {
   "cell_type": "markdown",
   "metadata": {
    "id": "cGef2WaLptX4"
   },
   "source": [
    "<b>Exercise 3:</b> \n",
    "\n",
    "How would you train the above defined neural network? Which loss-function would you use? You do not need to implement this."
   ]
  },
  {
   "cell_type": "markdown",
   "metadata": {
    "id": "dSP8x8NEptX4"
   },
   "source": [
    "<b>Part 2 (Neural Net using Keras)</b>\n",
    "\n",
    "Instead of implementing the model learning ourselves, we can use the neural network library Keras for Python (https://keras.io/). Keras is an abstraction layer that either builds on top of Theano or Google's Tensorflow. So please install Keras and Tensorflow/Theano for this lab."
   ]
  },
  {
   "cell_type": "markdown",
   "metadata": {
    "id": "HKozKPKmptX4"
   },
   "source": [
    "<b>Exercise 4:</b>\n",
    "    Implement the same model as above using Keras:\n",
    "    \n",
    "    ** 1 hidden layer à 10 units\n",
    "    ** softmax output layer à three units\n",
    "    ** 4 input features\n",
    "    \n",
    "Compile the model using categorical cross-entropy (also referred to as 'softmax-loss') as loss function and using categorical crossentropy together with categorical accuracy as metrics for runtime evaluation during training.\n",
    "\n",
    "Hint 1: Use the Sequential Class API of Keras (https://keras.io/api/models/sequential/ or https://www.tensorflow.org/guide/keras/sequential_model)\n",
    "\n",
    "Hint 2: You can use the Adam optimizer of Keras for the model compilation"
   ]
  },
  {
   "cell_type": "code",
   "execution_count": 12,
   "metadata": {
    "execution": {
     "iopub.execute_input": "2023-06-29T12:43:57.703371Z",
     "iopub.status.busy": "2023-06-29T12:43:57.702604Z",
     "iopub.status.idle": "2023-06-29T12:43:57.711437Z",
     "shell.execute_reply": "2023-06-29T12:43:57.710292Z",
     "shell.execute_reply.started": "2023-06-29T12:43:57.703336Z"
    },
    "tags": []
   },
   "outputs": [],
   "source": [
    "import os\n",
    "import tensorflow as tf\n",
    "\n",
    "# Rest of your code"
   ]
  },
  {
   "cell_type": "code",
   "execution_count": 13,
   "metadata": {
    "execution": {
     "iopub.execute_input": "2023-06-29T12:44:01.222950Z",
     "iopub.status.busy": "2023-06-29T12:44:01.222499Z",
     "iopub.status.idle": "2023-06-29T12:44:04.348596Z",
     "shell.execute_reply": "2023-06-29T12:44:04.347626Z",
     "shell.execute_reply.started": "2023-06-29T12:44:01.222919Z"
    },
    "id": "pZqK7kxhptX5"
   },
   "outputs": [],
   "source": [
    "from keras.models import Model\n",
    "from keras.layers import Input, Dense\n",
    "\n",
    "# Define the model architecture\n",
    "################################################\n",
    "inputs = Input(shape=(X.shape[1],))\n",
    "hidden = Dense(10, activation='relu', name='Hidden_Layer')(inputs)\n",
    "output = Dense(3, activation='softmax', name='Final_Layer')(hidden)\n",
    "\n",
    "model = Model(inputs=inputs, outputs=output)\n",
    "################################################\n",
    "\n",
    "# Compile the model\n",
    "################################################\n",
    "model.compile(loss='categorical_crossentropy', optimizer='adam', metrics=['accuracy'])\n",
    "################################################"
   ]
  },
  {
   "cell_type": "code",
   "execution_count": 14,
   "metadata": {
    "execution": {
     "iopub.execute_input": "2023-06-29T12:44:06.404940Z",
     "iopub.status.busy": "2023-06-29T12:44:06.404574Z",
     "iopub.status.idle": "2023-06-29T12:44:06.425389Z",
     "shell.execute_reply": "2023-06-29T12:44:06.424604Z",
     "shell.execute_reply.started": "2023-06-29T12:44:06.404912Z"
    },
    "tags": []
   },
   "outputs": [
    {
     "name": "stdout",
     "output_type": "stream",
     "text": [
      "Model: \"model\"\n",
      "_________________________________________________________________\n",
      " Layer (type)                Output Shape              Param #   \n",
      "=================================================================\n",
      " input_1 (InputLayer)        [(None, 4)]               0         \n",
      "                                                                 \n",
      " Hidden_Layer (Dense)        (None, 10)                50        \n",
      "                                                                 \n",
      " Final_Layer (Dense)         (None, 3)                 33        \n",
      "                                                                 \n",
      "=================================================================\n",
      "Total params: 83\n",
      "Trainable params: 83\n",
      "Non-trainable params: 0\n",
      "_________________________________________________________________\n"
     ]
    }
   ],
   "source": [
    "model.summary()"
   ]
  },
  {
   "cell_type": "markdown",
   "metadata": {
    "id": "1QhNMmKGptX5"
   },
   "source": [
    "The description of the current network can always be looked at via the summary method. The layers can be accessed via model.layers and weights can be obtained with the method get_weights. Check if your model is as expected. "
   ]
  },
  {
   "cell_type": "code",
   "execution_count": 15,
   "metadata": {
    "execution": {
     "iopub.execute_input": "2023-06-29T12:44:09.324579Z",
     "iopub.status.busy": "2023-06-29T12:44:09.324022Z",
     "iopub.status.idle": "2023-06-29T12:44:09.387484Z",
     "shell.execute_reply": "2023-06-29T12:44:09.386594Z",
     "shell.execute_reply.started": "2023-06-29T12:44:09.324481Z"
    },
    "id": "abzHV5AxptX5"
   },
   "outputs": [
    {
     "name": "stdout",
     "output_type": "stream",
     "text": [
      "First layer weights: [[-0.5651259  -0.20433     0.45990098  0.18942297  0.4406742  -0.10213369\n",
      "   0.4586246   0.40635514  0.32672685 -0.46568662]\n",
      " [-0.3672455   0.11177224 -0.62255114  0.2945583  -0.18198457  0.15555996\n",
      "   0.5881398   0.39063966 -0.41717255  0.18291032]\n",
      " [-0.3703877  -0.42460796 -0.46447074  0.02396786  0.09293145  0.3156758\n",
      "  -0.02932227  0.3382488  -0.5498054  -0.11193842]\n",
      " [-0.01307338  0.61262333  0.41437852 -0.04776162  0.11645871 -0.42069548\n",
      "  -0.61116606  0.2479049   0.60212326  0.16359085]]; shape: (4, 10)\n",
      "First layer bias: [0. 0. 0. 0. 0. 0. 0. 0. 0. 0.]; shape: (10,)\n",
      "Second layer weights: [[-0.02877361  0.03660959  0.22494024]\n",
      " [-0.32835874  0.2879873   0.48327267]\n",
      " [ 0.42902398  0.01777303 -0.29487297]\n",
      " [ 0.6640779   0.45882714  0.30185568]\n",
      " [ 0.4933145   0.46283293  0.5993495 ]\n",
      " [-0.24955085 -0.5077888   0.31627226]\n",
      " [ 0.44583845  0.58992445 -0.31920463]\n",
      " [-0.17304975  0.02863288 -0.06941342]\n",
      " [-0.34623334  0.12324095 -0.25305012]\n",
      " [-0.03196728  0.43796575 -0.32501593]]; shape: (10, 3)\n",
      "Second layer bias: [0. 0. 0.]; shape: (3,)\n",
      "number of layes: 3\n",
      "Model: \"model\"\n",
      "_________________________________________________________________\n",
      " Layer (type)                Output Shape              Param #   \n",
      "=================================================================\n",
      " input_1 (InputLayer)        [(None, 4)]               0         \n",
      "                                                                 \n",
      " Hidden_Layer (Dense)        (None, 10)                50        \n",
      "                                                                 \n",
      " Final_Layer (Dense)         (None, 3)                 33        \n",
      "                                                                 \n",
      "=================================================================\n",
      "Total params: 83\n",
      "Trainable params: 83\n",
      "Non-trainable params: 0\n",
      "_________________________________________________________________\n"
     ]
    }
   ],
   "source": [
    "# Check model architecture and initial weights.\n",
    "W_1, b_1 = model.layers[1].get_weights()\n",
    "print(\"First layer weights: %s; shape: %s\" % (W_1,W_1.shape))\n",
    "print(\"First layer bias: %s; shape: %s\" % (b_1,b_1.shape))\n",
    "W_2, b_2 = model.layers[2].get_weights()\n",
    "print(\"Second layer weights: %s; shape: %s\" % (W_2,W_2.shape))\n",
    "print(\"Second layer bias: %s; shape: %s\" % (b_2,b_2.shape))\n",
    "print(\"number of layes: \" + str(len(model.layers)))\n",
    "model.summary()"
   ]
  },
  {
   "cell_type": "markdown",
   "metadata": {
    "id": "sk8x5Dy0ptX5"
   },
   "source": [
    "<b>Exercise 5:</b> Train the model on the toy data set generated below: \n",
    "\n",
    "Hints: \n",
    "\n",
    "* Keras expects one-hot-coded labels \n",
    "\n",
    "* Don't forget to normalize the data"
   ]
  },
  {
   "cell_type": "code",
   "execution_count": 16,
   "metadata": {
    "execution": {
     "iopub.execute_input": "2023-06-29T12:44:12.549804Z",
     "iopub.status.busy": "2023-06-29T12:44:12.549234Z",
     "iopub.status.idle": "2023-06-29T12:44:12.564327Z",
     "shell.execute_reply": "2023-06-29T12:44:12.562629Z",
     "shell.execute_reply.started": "2023-06-29T12:44:12.549755Z"
    },
    "tags": []
   },
   "outputs": [
    {
     "data": {
      "text/plain": [
       "[PhysicalDevice(name='/physical_device:GPU:0', device_type='GPU')]"
      ]
     },
     "execution_count": 16,
     "metadata": {},
     "output_type": "execute_result"
    }
   ],
   "source": [
    "import tensorflow as tf\n",
    "tf.config.list_physical_devices('GPU')"
   ]
  },
  {
   "cell_type": "code",
   "execution_count": 1,
   "metadata": {
    "id": "_4mu3twRptX6",
    "tags": []
   },
   "outputs": [
    {
     "ename": "KeyboardInterrupt",
     "evalue": "",
     "output_type": "error",
     "traceback": [
      "\u001b[0;31m---------------------------------------------------------------------------\u001b[0m",
      "\u001b[0;31mKeyboardInterrupt\u001b[0m                         Traceback (most recent call last)",
      "Cell \u001b[0;32mIn[1], line 4\u001b[0m\n\u001b[1;32m      2\u001b[0m \u001b[38;5;28;01mfrom\u001b[39;00m \u001b[38;5;21;01msklearn\u001b[39;00m\u001b[38;5;21;01m.\u001b[39;00m\u001b[38;5;21;01mpreprocessing\u001b[39;00m \u001b[38;5;28;01mimport\u001b[39;00m OneHotEncoder\n\u001b[1;32m      3\u001b[0m \u001b[38;5;28;01mfrom\u001b[39;00m \u001b[38;5;21;01msklearn\u001b[39;00m\u001b[38;5;21;01m.\u001b[39;00m\u001b[38;5;21;01mpreprocessing\u001b[39;00m \u001b[38;5;28;01mimport\u001b[39;00m StandardScaler\n\u001b[0;32m----> 4\u001b[0m \u001b[38;5;28;01mfrom\u001b[39;00m \u001b[38;5;21;01mkeras\u001b[39;00m\u001b[38;5;21;01m.\u001b[39;00m\u001b[38;5;21;01mmodels\u001b[39;00m \u001b[38;5;28;01mimport\u001b[39;00m Sequential\n\u001b[1;32m      5\u001b[0m \u001b[38;5;28;01mfrom\u001b[39;00m \u001b[38;5;21;01mkeras\u001b[39;00m\u001b[38;5;21;01m.\u001b[39;00m\u001b[38;5;21;01mlayers\u001b[39;00m \u001b[38;5;28;01mimport\u001b[39;00m Dense\n\u001b[1;32m      6\u001b[0m \u001b[38;5;28;01mfrom\u001b[39;00m \u001b[38;5;21;01msklearn\u001b[39;00m\u001b[38;5;21;01m.\u001b[39;00m\u001b[38;5;21;01mmodel_selection\u001b[39;00m \u001b[38;5;28;01mimport\u001b[39;00m train_test_split\n",
      "File \u001b[0;32m~/MSc_Life/Sem_two/uni_ml/venv/lib/python3.11/site-packages/keras/__init__.py:21\u001b[0m\n\u001b[1;32m     15\u001b[0m \u001b[38;5;124;03m\"\"\"Implementation of the Keras API, the high-level API of TensorFlow.\u001b[39;00m\n\u001b[1;32m     16\u001b[0m \n\u001b[1;32m     17\u001b[0m \u001b[38;5;124;03mDetailed documentation and user guides are available at\u001b[39;00m\n\u001b[1;32m     18\u001b[0m \u001b[38;5;124;03m[keras.io](https://keras.io).\u001b[39;00m\n\u001b[1;32m     19\u001b[0m \u001b[38;5;124;03m\"\"\"\u001b[39;00m\n\u001b[1;32m     20\u001b[0m \u001b[38;5;28;01mfrom\u001b[39;00m \u001b[38;5;21;01mkeras\u001b[39;00m \u001b[38;5;28;01mimport\u001b[39;00m distribute\n\u001b[0;32m---> 21\u001b[0m \u001b[38;5;28;01mfrom\u001b[39;00m \u001b[38;5;21;01mkeras\u001b[39;00m \u001b[38;5;28;01mimport\u001b[39;00m models\n\u001b[1;32m     22\u001b[0m \u001b[38;5;28;01mfrom\u001b[39;00m \u001b[38;5;21;01mkeras\u001b[39;00m\u001b[38;5;21;01m.\u001b[39;00m\u001b[38;5;21;01mengine\u001b[39;00m\u001b[38;5;21;01m.\u001b[39;00m\u001b[38;5;21;01minput_layer\u001b[39;00m \u001b[38;5;28;01mimport\u001b[39;00m Input\n\u001b[1;32m     23\u001b[0m \u001b[38;5;28;01mfrom\u001b[39;00m \u001b[38;5;21;01mkeras\u001b[39;00m\u001b[38;5;21;01m.\u001b[39;00m\u001b[38;5;21;01mengine\u001b[39;00m\u001b[38;5;21;01m.\u001b[39;00m\u001b[38;5;21;01msequential\u001b[39;00m \u001b[38;5;28;01mimport\u001b[39;00m Sequential\n",
      "File \u001b[0;32m~/MSc_Life/Sem_two/uni_ml/venv/lib/python3.11/site-packages/keras/models/__init__.py:18\u001b[0m\n\u001b[1;32m      1\u001b[0m \u001b[38;5;66;03m# Copyright 2022 The TensorFlow Authors. All Rights Reserved.\u001b[39;00m\n\u001b[1;32m      2\u001b[0m \u001b[38;5;66;03m#\u001b[39;00m\n\u001b[1;32m      3\u001b[0m \u001b[38;5;66;03m# Licensed under the Apache License, Version 2.0 (the \"License\");\u001b[39;00m\n\u001b[0;32m   (...)\u001b[0m\n\u001b[1;32m     13\u001b[0m \u001b[38;5;66;03m# limitations under the License.\u001b[39;00m\n\u001b[1;32m     14\u001b[0m \u001b[38;5;66;03m# ==============================================================================\u001b[39;00m\n\u001b[1;32m     15\u001b[0m \u001b[38;5;124;03m\"\"\"Keras models API.\"\"\"\u001b[39;00m\n\u001b[0;32m---> 18\u001b[0m \u001b[38;5;28;01mfrom\u001b[39;00m \u001b[38;5;21;01mkeras\u001b[39;00m\u001b[38;5;21;01m.\u001b[39;00m\u001b[38;5;21;01mengine\u001b[39;00m\u001b[38;5;21;01m.\u001b[39;00m\u001b[38;5;21;01mfunctional\u001b[39;00m \u001b[38;5;28;01mimport\u001b[39;00m Functional\n\u001b[1;32m     19\u001b[0m \u001b[38;5;28;01mfrom\u001b[39;00m \u001b[38;5;21;01mkeras\u001b[39;00m\u001b[38;5;21;01m.\u001b[39;00m\u001b[38;5;21;01mengine\u001b[39;00m\u001b[38;5;21;01m.\u001b[39;00m\u001b[38;5;21;01msequential\u001b[39;00m \u001b[38;5;28;01mimport\u001b[39;00m Sequential\n\u001b[1;32m     20\u001b[0m \u001b[38;5;28;01mfrom\u001b[39;00m \u001b[38;5;21;01mkeras\u001b[39;00m\u001b[38;5;21;01m.\u001b[39;00m\u001b[38;5;21;01mengine\u001b[39;00m\u001b[38;5;21;01m.\u001b[39;00m\u001b[38;5;21;01mtraining\u001b[39;00m \u001b[38;5;28;01mimport\u001b[39;00m Model\n",
      "File \u001b[0;32m~/MSc_Life/Sem_two/uni_ml/venv/lib/python3.11/site-packages/keras/engine/functional.py:24\u001b[0m\n\u001b[1;32m     21\u001b[0m \u001b[38;5;28;01mimport\u001b[39;00m \u001b[38;5;21;01mitertools\u001b[39;00m\n\u001b[1;32m     22\u001b[0m \u001b[38;5;28;01mimport\u001b[39;00m \u001b[38;5;21;01mwarnings\u001b[39;00m\n\u001b[0;32m---> 24\u001b[0m \u001b[38;5;28;01mimport\u001b[39;00m \u001b[38;5;21;01mtensorflow\u001b[39;00m\u001b[38;5;21;01m.\u001b[39;00m\u001b[38;5;21;01mcompat\u001b[39;00m\u001b[38;5;21;01m.\u001b[39;00m\u001b[38;5;21;01mv2\u001b[39;00m \u001b[38;5;28;01mas\u001b[39;00m \u001b[38;5;21;01mtf\u001b[39;00m\n\u001b[1;32m     26\u001b[0m \u001b[38;5;28;01mfrom\u001b[39;00m \u001b[38;5;21;01mkeras\u001b[39;00m \u001b[38;5;28;01mimport\u001b[39;00m backend\n\u001b[1;32m     27\u001b[0m \u001b[38;5;28;01mfrom\u001b[39;00m \u001b[38;5;21;01mkeras\u001b[39;00m\u001b[38;5;21;01m.\u001b[39;00m\u001b[38;5;21;01mdtensor\u001b[39;00m \u001b[38;5;28;01mimport\u001b[39;00m layout_map \u001b[38;5;28;01mas\u001b[39;00m layout_map_lib\n",
      "File \u001b[0;32m~/MSc_Life/Sem_two/uni_ml/venv/lib/python3.11/site-packages/tensorflow/__init__.py:37\u001b[0m\n\u001b[1;32m     34\u001b[0m \u001b[38;5;28;01mimport\u001b[39;00m \u001b[38;5;21;01msys\u001b[39;00m \u001b[38;5;28;01mas\u001b[39;00m \u001b[38;5;21;01m_sys\u001b[39;00m\n\u001b[1;32m     35\u001b[0m \u001b[38;5;28;01mimport\u001b[39;00m \u001b[38;5;21;01mtyping\u001b[39;00m \u001b[38;5;28;01mas\u001b[39;00m \u001b[38;5;21;01m_typing\u001b[39;00m\n\u001b[0;32m---> 37\u001b[0m \u001b[38;5;28;01mfrom\u001b[39;00m \u001b[38;5;21;01mtensorflow\u001b[39;00m\u001b[38;5;21;01m.\u001b[39;00m\u001b[38;5;21;01mpython\u001b[39;00m\u001b[38;5;21;01m.\u001b[39;00m\u001b[38;5;21;01mtools\u001b[39;00m \u001b[38;5;28;01mimport\u001b[39;00m module_util \u001b[38;5;28;01mas\u001b[39;00m _module_util\n\u001b[1;32m     38\u001b[0m \u001b[38;5;28;01mfrom\u001b[39;00m \u001b[38;5;21;01mtensorflow\u001b[39;00m\u001b[38;5;21;01m.\u001b[39;00m\u001b[38;5;21;01mpython\u001b[39;00m\u001b[38;5;21;01m.\u001b[39;00m\u001b[38;5;21;01mutil\u001b[39;00m\u001b[38;5;21;01m.\u001b[39;00m\u001b[38;5;21;01mlazy_loader\u001b[39;00m \u001b[38;5;28;01mimport\u001b[39;00m LazyLoader \u001b[38;5;28;01mas\u001b[39;00m _LazyLoader\n\u001b[1;32m     40\u001b[0m \u001b[38;5;66;03m# Make sure code inside the TensorFlow codebase can use tf2.enabled() at import.\u001b[39;00m\n",
      "File \u001b[0;32m~/MSc_Life/Sem_two/uni_ml/venv/lib/python3.11/site-packages/tensorflow/python/__init__.py:36\u001b[0m\n\u001b[1;32m     27\u001b[0m \u001b[38;5;28;01mimport\u001b[39;00m \u001b[38;5;21;01mtraceback\u001b[39;00m\n\u001b[1;32m     29\u001b[0m \u001b[38;5;66;03m# We aim to keep this file minimal and ideally remove completely.\u001b[39;00m\n\u001b[1;32m     30\u001b[0m \u001b[38;5;66;03m# If you are adding a new file with @tf_export decorators,\u001b[39;00m\n\u001b[1;32m     31\u001b[0m \u001b[38;5;66;03m# import it in modules_with_exports.py instead.\u001b[39;00m\n\u001b[1;32m     32\u001b[0m \n\u001b[1;32m     33\u001b[0m \u001b[38;5;66;03m# go/tf-wildcard-import\u001b[39;00m\n\u001b[1;32m     34\u001b[0m \u001b[38;5;66;03m# pylint: disable=wildcard-import,g-bad-import-order,g-import-not-at-top\u001b[39;00m\n\u001b[0;32m---> 36\u001b[0m \u001b[38;5;28;01mfrom\u001b[39;00m \u001b[38;5;21;01mtensorflow\u001b[39;00m\u001b[38;5;21;01m.\u001b[39;00m\u001b[38;5;21;01mpython\u001b[39;00m \u001b[38;5;28;01mimport\u001b[39;00m pywrap_tensorflow \u001b[38;5;28;01mas\u001b[39;00m _pywrap_tensorflow\n\u001b[1;32m     37\u001b[0m \u001b[38;5;28;01mfrom\u001b[39;00m \u001b[38;5;21;01mtensorflow\u001b[39;00m\u001b[38;5;21;01m.\u001b[39;00m\u001b[38;5;21;01mpython\u001b[39;00m\u001b[38;5;21;01m.\u001b[39;00m\u001b[38;5;21;01meager\u001b[39;00m \u001b[38;5;28;01mimport\u001b[39;00m context\n\u001b[1;32m     39\u001b[0m \u001b[38;5;66;03m# pylint: enable=wildcard-import\u001b[39;00m\n\u001b[1;32m     40\u001b[0m \n\u001b[1;32m     41\u001b[0m \u001b[38;5;66;03m# Bring in subpackages.\u001b[39;00m\n",
      "File \u001b[0;32m~/MSc_Life/Sem_two/uni_ml/venv/lib/python3.11/site-packages/tensorflow/python/pywrap_tensorflow.py:26\u001b[0m\n\u001b[1;32m     21\u001b[0m \u001b[38;5;28;01mfrom\u001b[39;00m \u001b[38;5;21;01mtensorflow\u001b[39;00m\u001b[38;5;21;01m.\u001b[39;00m\u001b[38;5;21;01mpython\u001b[39;00m\u001b[38;5;21;01m.\u001b[39;00m\u001b[38;5;21;01mplatform\u001b[39;00m \u001b[38;5;28;01mimport\u001b[39;00m self_check\n\u001b[1;32m     23\u001b[0m \u001b[38;5;66;03m# TODO(mdan): Cleanup antipattern: import for side effects.\u001b[39;00m\n\u001b[1;32m     24\u001b[0m \n\u001b[1;32m     25\u001b[0m \u001b[38;5;66;03m# Perform pre-load sanity checks in order to produce a more actionable error.\u001b[39;00m\n\u001b[0;32m---> 26\u001b[0m \u001b[43mself_check\u001b[49m\u001b[38;5;241;43m.\u001b[39;49m\u001b[43mpreload_check\u001b[49m\u001b[43m(\u001b[49m\u001b[43m)\u001b[49m\n\u001b[1;32m     28\u001b[0m \u001b[38;5;66;03m# pylint: disable=wildcard-import,g-import-not-at-top,unused-import,line-too-long\u001b[39;00m\n\u001b[1;32m     30\u001b[0m \u001b[38;5;28;01mtry\u001b[39;00m:\n\u001b[1;32m     31\u001b[0m   \u001b[38;5;66;03m# This import is expected to fail if there is an explicit shared object\u001b[39;00m\n\u001b[1;32m     32\u001b[0m   \u001b[38;5;66;03m# dependency (with_framework_lib=true), since we do not need RTLD_GLOBAL.\u001b[39;00m\n",
      "File \u001b[0;32m~/MSc_Life/Sem_two/uni_ml/venv/lib/python3.11/site-packages/tensorflow/python/platform/self_check.py:63\u001b[0m, in \u001b[0;36mpreload_check\u001b[0;34m()\u001b[0m\n\u001b[1;32m     50\u001b[0m       \u001b[38;5;28;01mraise\u001b[39;00m \u001b[38;5;167;01mImportError\u001b[39;00m(\n\u001b[1;32m     51\u001b[0m           \u001b[38;5;124m\"\u001b[39m\u001b[38;5;124mCould not find the DLL(s) \u001b[39m\u001b[38;5;132;01m%r\u001b[39;00m\u001b[38;5;124m. TensorFlow requires that these DLLs \u001b[39m\u001b[38;5;124m\"\u001b[39m\n\u001b[1;32m     52\u001b[0m           \u001b[38;5;124m\"\u001b[39m\u001b[38;5;124mbe installed in a directory that is named in your \u001b[39m\u001b[38;5;132;01m%%\u001b[39;00m\u001b[38;5;124mPATH\u001b[39m\u001b[38;5;132;01m%%\u001b[39;00m\u001b[38;5;124m \u001b[39m\u001b[38;5;124m\"\u001b[39m\n\u001b[0;32m   (...)\u001b[0m\n\u001b[1;32m     56\u001b[0m           \u001b[38;5;124m\"\u001b[39m\u001b[38;5;124mhttps://support.microsoft.com/help/2977003/the-latest-supported-visual-c-downloads\u001b[39m\u001b[38;5;124m\"\u001b[39m\n\u001b[1;32m     57\u001b[0m           \u001b[38;5;241m%\u001b[39m \u001b[38;5;124m\"\u001b[39m\u001b[38;5;124m or \u001b[39m\u001b[38;5;124m\"\u001b[39m\u001b[38;5;241m.\u001b[39mjoin(missing))\n\u001b[1;32m     58\u001b[0m \u001b[38;5;28;01melse\u001b[39;00m:\n\u001b[1;32m     59\u001b[0m   \u001b[38;5;66;03m# Load a library that performs CPU feature guard checking.  Doing this here\u001b[39;00m\n\u001b[1;32m     60\u001b[0m   \u001b[38;5;66;03m# as a preload check makes it more likely that we detect any CPU feature\u001b[39;00m\n\u001b[1;32m     61\u001b[0m   \u001b[38;5;66;03m# incompatibilities before we trigger them (which would typically result in\u001b[39;00m\n\u001b[1;32m     62\u001b[0m   \u001b[38;5;66;03m# SIGILL).\u001b[39;00m\n\u001b[0;32m---> 63\u001b[0m   \u001b[38;5;28;01mfrom\u001b[39;00m \u001b[38;5;21;01mtensorflow\u001b[39;00m\u001b[38;5;21;01m.\u001b[39;00m\u001b[38;5;21;01mpython\u001b[39;00m\u001b[38;5;21;01m.\u001b[39;00m\u001b[38;5;21;01mplatform\u001b[39;00m \u001b[38;5;28;01mimport\u001b[39;00m _pywrap_cpu_feature_guard\n\u001b[1;32m     64\u001b[0m   _pywrap_cpu_feature_guard\u001b[38;5;241m.\u001b[39mInfoAboutUnusedCPUFeatures()\n",
      "\u001b[0;31mKeyboardInterrupt\u001b[0m: "
     ]
    }
   ],
   "source": [
    "from sklearn.preprocessing import LabelEncoder\n",
    "from sklearn.preprocessing import OneHotEncoder\n",
    "from sklearn.preprocessing import StandardScaler\n",
    "from keras.models import Sequential\n",
    "from keras.layers import Dense\n",
    "from sklearn.model_selection import train_test_split\n",
    "\n",
    "X, y = init_toy_data(1000,4,3, seed=3)\n",
    "\n",
    "X_train, X_test, y_train, y_test = train_test_split(X,y,test_size=0.33,random_state=67)\n",
    "\n",
    "scaler = StandardScaler()\n",
    "X_train = scaler.fit_transform(X_train)\n",
    "X_test = scaler.fit_transform(X_test)\n",
    "\n",
    "label_encoder = LabelEncoder()\n",
    "y_train_encoded = label_encoder.fit_transform(y_train)\n",
    "y_test_encoded = label_encoder.fit_transform(y_test)\n",
    "num_classes = len(np.unique(y_train_encoded))\n",
    "\n",
    "onehot_encoder = OneHotEncoder(sparse=False, categories='auto')\n",
    "y_train_onehot = onehot_encoder.fit_transform(y_train_encoded.reshape(-1, 1))\n",
    "y_test_onehot = onehot_encoder.transform(y_test_encoded.reshape(-1, 1))\n",
    "\n",
    "##################################\n",
    "model = Sequential()\n",
    "model.add(Dense(10, activation='relu', input_shape=(X_train.shape[1],)))\n",
    "model.add(Dense(num_classes, activation='softmax'))\n",
    "\n",
    "model.compile(loss='categorical_crossentropy', optimizer='adam', metrics=['accuracy'])\n",
    "history = model.fit(X_train, y_train_onehot, validation_data=(X_test, y_test_onehot), epochs=10, batch_size=32)\n",
    "##################################"
   ]
  },
  {
   "cell_type": "markdown",
   "metadata": {
    "id": "Np35zqMPjrjo"
   },
   "source": [
    "Compare the test accuracy with the train accuracy. What can you see? Is the model performing well?"
   ]
  },
  {
   "cell_type": "code",
   "execution_count": 21,
   "metadata": {
    "execution": {
     "iopub.execute_input": "2023-06-29T12:46:48.970063Z",
     "iopub.status.busy": "2023-06-29T12:46:48.969549Z",
     "iopub.status.idle": "2023-06-29T12:46:48.975940Z",
     "shell.execute_reply": "2023-06-29T12:46:48.974548Z",
     "shell.execute_reply.started": "2023-06-29T12:46:48.970003Z"
    }
   },
   "outputs": [],
   "source": [
    "train_loss = history.history['loss']\n",
    "train_acc = history.history['accuracy']\n",
    "val_loss = history.history['val_loss']\n",
    "val_acc = history.history['val_accuracy']"
   ]
  },
  {
   "cell_type": "code",
   "execution_count": 27,
   "metadata": {
    "execution": {
     "iopub.execute_input": "2023-06-29T12:49:17.445264Z",
     "iopub.status.busy": "2023-06-29T12:49:17.444870Z",
     "iopub.status.idle": "2023-06-29T12:49:17.957566Z",
     "shell.execute_reply": "2023-06-29T12:49:17.956504Z",
     "shell.execute_reply.started": "2023-06-29T12:49:17.445231Z"
    }
   },
   "outputs": [
    {
     "data": {
      "image/png": "[encoded data removed]",
      "text/plain": [
       "<Figure size 1200x600 with 2 Axes>"
      ]
     },
     "metadata": {},
     "output_type": "display_data"
    }
   ],
   "source": [
    "import matplotlib.pyplot as plt\n",
    "fig, axs = plt.subplots(1,2,figsize = (12,6))\n",
    "axs = axs.ravel()\n",
    "axs[0].plot(train_loss, label = 'train_loss')\n",
    "axs[0].plot(val_loss,label = 'val_loss')\n",
    "axs[0].legend()\n",
    "\n",
    "\n",
    "axs[1].plot(train_acc, label = 'train_acc')\n",
    "axs[1].plot(val_acc,label = 'val_acc')\n",
    "axs[1].legend()\n",
    "plt.show()"
   ]
  }
 ],
 "metadata": {
  "anaconda-cloud": {},
  "colab": {
   "name": "NeuralNetworks.ipynb",
   "provenance": []
  },
  "kernelspec": {
   "display_name": "Python 3 (ipykernel)",
   "language": "python",
   "name": "python3"
  },
  "language_info": {
   "codemirror_mode": {
    "name": "ipython",
    "version": 3
   },
   "file_extension": ".py",
   "mimetype": "text/x-python",
   "name": "python",
   "nbconvert_exporter": "python",
   "pygments_lexer": "ipython3",
   "version": "3.11.3"
  }
 },
 "nbformat": 4,
 "nbformat_minor": 4
}
