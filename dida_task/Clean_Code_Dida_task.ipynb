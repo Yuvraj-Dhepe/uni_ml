{
  "cells": [
    {
      "cell_type": "markdown",
      "metadata": {
        "id": "view-in-github",
        "colab_type": "text"
      },
      "source": [
        "<a href=\"https://colab.research.google.com/github/Yuvraj-Dhepe/uni_ml/blob/main/dida_task/Clean_Code_Dida_task.ipynb\" target=\"_parent\"><img src=\"https://colab.research.google.com/assets/colab-badge.svg\" alt=\"Open In Colab\"/></a>"
      ]
    },
    {
      "cell_type": "markdown",
      "metadata": {
        "id": "Wpm8tE8LQwA-"
      },
      "source": [
        "## Loading G-Drive"
      ]
    },
    {
      "cell_type": "code",
      "execution_count": 93,
      "metadata": {
        "colab": {
          "base_uri": "https://localhost:8080/"
        },
        "id": "znz8tjqtlIPM",
        "outputId": "24c10e71-87cc-42b4-b4b6-c40143d9bfe2",
        "tags": []
      },
      "outputs": [
        {
          "output_type": "stream",
          "name": "stdout",
          "text": [
            "Mounted at /content/gdrive\n"
          ]
        }
      ],
      "source": [
        "from google.colab import drive\n",
        "drive.mount('/content/gdrive', force_remount=True)"
      ]
    },
    {
      "cell_type": "markdown",
      "metadata": {
        "id": "3I8Xn6yulffV",
        "tags": []
      },
      "source": [
        "## Importing and Installing the required Libraries"
      ]
    },
    {
      "cell_type": "code",
      "execution_count": null,
      "metadata": {
        "id": "1ROSUj9GLHLo",
        "tags": []
      },
      "outputs": [],
      "source": [
        "!pip install albumentations\n",
        "!pip install ipympl\n",
        "!apt remove git -y\n",
        "!apt-get install git -y && git clone https://github.com/tensorflow/examples.git"
      ]
    },
    {
      "cell_type": "code",
      "execution_count": 95,
      "metadata": {
        "id": "wKX8OdaAlL4v"
      },
      "outputs": [],
      "source": [
        "import os\n",
        "import cv2\n",
        "import keras\n",
        "import warnings\n",
        "import numpy as np\n",
        "import pandas as pd\n",
        "import seaborn as sns\n",
        "sns.set_style('darkgrid')\n",
        "import tensorflow as tf\n",
        "import albumentations as A\n",
        "import matplotlib.pyplot as plt\n",
        "# Ignore the warnings of Matplotlib\n",
        "warnings.filterwarnings(\"ignore\", category=UserWarning)\n",
        "\n",
        "from skimage.transform import resize\n",
        "from sklearn.model_selection import KFold\n",
        "\n",
        "from sklearn.metrics import accuracy_score\n",
        "from tensorflow.keras.optimizers import Adam\n",
        "from sklearn.metrics import confusion_matrix\n",
        "from scipy.spatial.distance import euclidean\n",
        "from tensorflow.keras.utils import plot_model\n",
        "from tensorflow.keras.layers import LeakyReLU\n",
        "from sklearn.model_selection import GridSearchCV\n",
        "from sklearn.model_selection import train_test_split\n",
        "\n",
        "\n",
        "from keras.callbacks import EarlyStopping, ModelCheckpoint\n",
        "from tensorflow.keras.applications import vgg16, MobileNetV2\n",
        "from examples.tensorflow_examples.models.pix2pix import pix2pix\n",
        "from tensorflow.keras.wrappers.scikit_learn import KerasRegressor\n",
        "from tensorflow.keras.models import Sequential, Model, load_model\n",
        "from tensorflow.keras.wrappers.scikit_learn import KerasClassifier\n",
        "from tensorflow.keras.preprocessing.image import ImageDataGenerator\n",
        "\n",
        "from sklearn.ensemble import RandomForestClassifier, GradientBoostingClassifier\n",
        "from tensorflow.keras.layers import Conv2D, MaxPooling2D, Flatten, Dense, BatchNormalization,GlobalMaxPooling2D,\\\n",
        " GlobalAveragePooling2D, Conv2DTranspose, ZeroPadding2D, concatenate, Input, Activation, Dropout\n",
        "\n",
        "#import ipympl\n",
        "# Enables Use of Ipympl to zoom in and out of the plots\n",
        "# from google.colab import output\n",
        "# output.enable_custom_widget_manager()\n",
        "# from google.colab import output\n",
        "# output.disable_custom_widget_manager()"
      ]
    },
    {
      "cell_type": "code",
      "execution_count": null,
      "metadata": {
        "colab": {
          "base_uri": "https://localhost:8080/"
        },
        "id": "UIKgFmtiY36A",
        "outputId": "f885a473-4b04-4878-c29d-3ed437b0efb1"
      },
      "outputs": [
        {
          "output_type": "stream",
          "name": "stderr",
          "text": [
            "ERROR:root:Internal Python error in the inspect module.\n",
            "Below is the traceback from this internal error.\n",
            "\n",
            "ERROR:root:Internal Python error in the inspect module.\n",
            "Below is the traceback from this internal error.\n",
            "\n",
            "ERROR:root:Internal Python error in the inspect module.\n",
            "Below is the traceback from this internal error.\n",
            "\n"
          ]
        },
        {
          "output_type": "stream",
          "name": "stdout",
          "text": [
            "Traceback (most recent call last):\n",
            "  File \"/usr/local/lib/python3.10/dist-packages/IPython/core/interactiveshell.py\", line 3553, in run_code\n",
            "    exec(code_obj, self.user_global_ns, self.user_ns)\n",
            "  File \"<ipython-input-96-7495f60ecaee>\", line 1, in <cell line: 1>\n",
            "    get_ipython().run_line_magic('cd', '/content/gdrive/MyDrive/images/Dida_task')\n",
            "  File \"/usr/local/lib/python3.10/dist-packages/IPython/core/interactiveshell.py\", line 2418, in run_line_magic\n",
            "    result = fn(*args, **kwargs)\n",
            "  File \"<decorator-gen-85>\", line 2, in cd\n",
            "  File \"/usr/local/lib/python3.10/dist-packages/IPython/core/magic.py\", line 187, in <lambda>\n",
            "    call = lambda f, *a, **k: f(*a, **k)\n",
            "  File \"/usr/local/lib/python3.10/dist-packages/IPython/core/magics/osm.py\", line 342, in cd\n",
            "    oldcwd = os.getcwd()\n",
            "OSError: [Errno 107] Transport endpoint is not connected\n",
            "\n",
            "During handling of the above exception, another exception occurred:\n",
            "\n",
            "Traceback (most recent call last):\n",
            "  File \"/usr/local/lib/python3.10/dist-packages/IPython/core/interactiveshell.py\", line 2099, in showtraceback\n",
            "    stb = value._render_traceback_()\n",
            "AttributeError: 'OSError' object has no attribute '_render_traceback_'\n",
            "\n",
            "During handling of the above exception, another exception occurred:\n",
            "\n",
            "Traceback (most recent call last):\n",
            "  File \"/usr/local/lib/python3.10/dist-packages/IPython/core/ultratb.py\", line 1101, in get_records\n",
            "    return _fixed_getinnerframes(etb, number_of_lines_of_context, tb_offset)\n",
            "  File \"/usr/local/lib/python3.10/dist-packages/IPython/core/ultratb.py\", line 248, in wrapped\n",
            "    return f(*args, **kwargs)\n",
            "  File \"/usr/local/lib/python3.10/dist-packages/IPython/core/ultratb.py\", line 281, in _fixed_getinnerframes\n",
            "    records = fix_frame_records_filenames(inspect.getinnerframes(etb, context))\n",
            "  File \"/usr/lib/python3.10/inspect.py\", line 1662, in getinnerframes\n",
            "    frameinfo = (tb.tb_frame,) + getframeinfo(tb, context)\n",
            "  File \"/usr/lib/python3.10/inspect.py\", line 1620, in getframeinfo\n",
            "    filename = getsourcefile(frame) or getfile(frame)\n",
            "  File \"/usr/lib/python3.10/inspect.py\", line 829, in getsourcefile\n",
            "    module = getmodule(object, filename)\n",
            "  File \"/usr/lib/python3.10/inspect.py\", line 861, in getmodule\n",
            "    file = getabsfile(object, _filename)\n",
            "  File \"/usr/lib/python3.10/inspect.py\", line 845, in getabsfile\n",
            "    return os.path.normcase(os.path.abspath(_filename))\n",
            "  File \"/usr/lib/python3.10/posixpath.py\", line 384, in abspath\n",
            "    cwd = os.getcwd()\n",
            "OSError: [Errno 107] Transport endpoint is not connected\n",
            "Traceback (most recent call last):\n",
            "  File \"/usr/local/lib/python3.10/dist-packages/IPython/core/interactiveshell.py\", line 3553, in run_code\n",
            "    exec(code_obj, self.user_global_ns, self.user_ns)\n",
            "  File \"<ipython-input-96-7495f60ecaee>\", line 1, in <cell line: 1>\n",
            "    get_ipython().run_line_magic('cd', '/content/gdrive/MyDrive/images/Dida_task')\n",
            "  File \"/usr/local/lib/python3.10/dist-packages/IPython/core/interactiveshell.py\", line 2418, in run_line_magic\n",
            "    result = fn(*args, **kwargs)\n",
            "  File \"<decorator-gen-85>\", line 2, in cd\n",
            "  File \"/usr/local/lib/python3.10/dist-packages/IPython/core/magic.py\", line 187, in <lambda>\n",
            "    call = lambda f, *a, **k: f(*a, **k)\n",
            "  File \"/usr/local/lib/python3.10/dist-packages/IPython/core/magics/osm.py\", line 342, in cd\n",
            "    oldcwd = os.getcwd()\n",
            "OSError: [Errno 107] Transport endpoint is not connected\n",
            "\n",
            "During handling of the above exception, another exception occurred:\n",
            "\n",
            "Traceback (most recent call last):\n",
            "  File \"/usr/local/lib/python3.10/dist-packages/IPython/core/interactiveshell.py\", line 2099, in showtraceback\n",
            "    stb = value._render_traceback_()\n",
            "AttributeError: 'OSError' object has no attribute '_render_traceback_'\n",
            "\n",
            "During handling of the above exception, another exception occurred:\n",
            "\n",
            "Traceback (most recent call last):\n",
            "  File \"/usr/local/lib/python3.10/dist-packages/IPython/core/interactiveshell.py\", line 3473, in run_ast_nodes\n",
            "    if (await self.run_code(code, result,  async_=asy)):\n",
            "  File \"/usr/local/lib/python3.10/dist-packages/IPython/core/interactiveshell.py\", line 3575, in run_code\n",
            "    self.showtraceback(running_compiled_code=True)\n",
            "  File \"/usr/local/lib/python3.10/dist-packages/IPython/core/interactiveshell.py\", line 2101, in showtraceback\n",
            "    stb = self.InteractiveTB.structured_traceback(etype,\n",
            "  File \"/usr/local/lib/python3.10/dist-packages/IPython/core/ultratb.py\", line 1367, in structured_traceback\n",
            "    return FormattedTB.structured_traceback(\n",
            "  File \"/usr/local/lib/python3.10/dist-packages/IPython/core/ultratb.py\", line 1267, in structured_traceback\n",
            "    return VerboseTB.structured_traceback(\n",
            "  File \"/usr/local/lib/python3.10/dist-packages/IPython/core/ultratb.py\", line 1124, in structured_traceback\n",
            "    formatted_exception = self.format_exception_as_a_whole(etype, evalue, etb, number_of_lines_of_context,\n",
            "  File \"/usr/local/lib/python3.10/dist-packages/IPython/core/ultratb.py\", line 1082, in format_exception_as_a_whole\n",
            "    last_unique, recursion_repeat = find_recursion(orig_etype, evalue, records)\n",
            "  File \"/usr/local/lib/python3.10/dist-packages/IPython/core/ultratb.py\", line 382, in find_recursion\n",
            "    return len(records), 0\n",
            "TypeError: object of type 'NoneType' has no len()\n",
            "\n",
            "During handling of the above exception, another exception occurred:\n",
            "\n",
            "Traceback (most recent call last):\n",
            "  File \"/usr/local/lib/python3.10/dist-packages/IPython/core/interactiveshell.py\", line 2099, in showtraceback\n",
            "    stb = value._render_traceback_()\n",
            "AttributeError: 'TypeError' object has no attribute '_render_traceback_'\n",
            "\n",
            "During handling of the above exception, another exception occurred:\n",
            "\n",
            "Traceback (most recent call last):\n",
            "  File \"/usr/local/lib/python3.10/dist-packages/IPython/core/ultratb.py\", line 1101, in get_records\n",
            "    return _fixed_getinnerframes(etb, number_of_lines_of_context, tb_offset)\n",
            "  File \"/usr/local/lib/python3.10/dist-packages/IPython/core/ultratb.py\", line 248, in wrapped\n",
            "    return f(*args, **kwargs)\n",
            "  File \"/usr/local/lib/python3.10/dist-packages/IPython/core/ultratb.py\", line 281, in _fixed_getinnerframes\n",
            "    records = fix_frame_records_filenames(inspect.getinnerframes(etb, context))\n",
            "  File \"/usr/lib/python3.10/inspect.py\", line 1662, in getinnerframes\n",
            "    frameinfo = (tb.tb_frame,) + getframeinfo(tb, context)\n",
            "  File \"/usr/lib/python3.10/inspect.py\", line 1620, in getframeinfo\n",
            "    filename = getsourcefile(frame) or getfile(frame)\n",
            "  File \"/usr/lib/python3.10/inspect.py\", line 829, in getsourcefile\n",
            "    module = getmodule(object, filename)\n",
            "  File \"/usr/lib/python3.10/inspect.py\", line 861, in getmodule\n",
            "    file = getabsfile(object, _filename)\n",
            "  File \"/usr/lib/python3.10/inspect.py\", line 845, in getabsfile\n",
            "    return os.path.normcase(os.path.abspath(_filename))\n",
            "  File \"/usr/lib/python3.10/posixpath.py\", line 384, in abspath\n",
            "    cwd = os.getcwd()\n",
            "OSError: [Errno 107] Transport endpoint is not connected\n",
            "Traceback (most recent call last):\n",
            "  File \"/usr/local/lib/python3.10/dist-packages/IPython/core/interactiveshell.py\", line 3553, in run_code\n",
            "    exec(code_obj, self.user_global_ns, self.user_ns)\n",
            "  File \"<ipython-input-96-7495f60ecaee>\", line 1, in <cell line: 1>\n",
            "    get_ipython().run_line_magic('cd', '/content/gdrive/MyDrive/images/Dida_task')\n",
            "  File \"/usr/local/lib/python3.10/dist-packages/IPython/core/interactiveshell.py\", line 2418, in run_line_magic\n",
            "    result = fn(*args, **kwargs)\n",
            "  File \"<decorator-gen-85>\", line 2, in cd\n",
            "  File \"/usr/local/lib/python3.10/dist-packages/IPython/core/magic.py\", line 187, in <lambda>\n",
            "    call = lambda f, *a, **k: f(*a, **k)\n",
            "  File \"/usr/local/lib/python3.10/dist-packages/IPython/core/magics/osm.py\", line 342, in cd\n",
            "    oldcwd = os.getcwd()\n",
            "OSError: [Errno 107] Transport endpoint is not connected\n",
            "\n",
            "During handling of the above exception, another exception occurred:\n",
            "\n",
            "Traceback (most recent call last):\n",
            "  File \"/usr/local/lib/python3.10/dist-packages/IPython/core/interactiveshell.py\", line 2099, in showtraceback\n",
            "    stb = value._render_traceback_()\n",
            "AttributeError: 'OSError' object has no attribute '_render_traceback_'\n",
            "\n",
            "During handling of the above exception, another exception occurred:\n",
            "\n",
            "Traceback (most recent call last):\n",
            "  File \"/usr/local/lib/python3.10/dist-packages/IPython/core/interactiveshell.py\", line 3473, in run_ast_nodes\n",
            "    if (await self.run_code(code, result,  async_=asy)):\n",
            "  File \"/usr/local/lib/python3.10/dist-packages/IPython/core/interactiveshell.py\", line 3575, in run_code\n",
            "    self.showtraceback(running_compiled_code=True)\n",
            "  File \"/usr/local/lib/python3.10/dist-packages/IPython/core/interactiveshell.py\", line 2101, in showtraceback\n",
            "    stb = self.InteractiveTB.structured_traceback(etype,\n",
            "  File \"/usr/local/lib/python3.10/dist-packages/IPython/core/ultratb.py\", line 1367, in structured_traceback\n",
            "    return FormattedTB.structured_traceback(\n",
            "  File \"/usr/local/lib/python3.10/dist-packages/IPython/core/ultratb.py\", line 1267, in structured_traceback\n",
            "    return VerboseTB.structured_traceback(\n",
            "  File \"/usr/local/lib/python3.10/dist-packages/IPython/core/ultratb.py\", line 1124, in structured_traceback\n",
            "    formatted_exception = self.format_exception_as_a_whole(etype, evalue, etb, number_of_lines_of_context,\n",
            "  File \"/usr/local/lib/python3.10/dist-packages/IPython/core/ultratb.py\", line 1082, in format_exception_as_a_whole\n",
            "    last_unique, recursion_repeat = find_recursion(orig_etype, evalue, records)\n",
            "  File \"/usr/local/lib/python3.10/dist-packages/IPython/core/ultratb.py\", line 382, in find_recursion\n",
            "    return len(records), 0\n",
            "TypeError: object of type 'NoneType' has no len()\n",
            "\n",
            "During handling of the above exception, another exception occurred:\n",
            "\n",
            "Traceback (most recent call last):\n",
            "  File \"/usr/local/lib/python3.10/dist-packages/IPython/core/interactiveshell.py\", line 2099, in showtraceback\n",
            "    stb = value._render_traceback_()\n",
            "AttributeError: 'TypeError' object has no attribute '_render_traceback_'\n",
            "\n",
            "During handling of the above exception, another exception occurred:\n",
            "\n",
            "Traceback (most recent call last):\n",
            "  File \"/usr/local/lib/python3.10/dist-packages/IPython/core/interactiveshell.py\", line 3030, in _run_cell\n",
            "    return runner(coro)\n",
            "  File \"/usr/local/lib/python3.10/dist-packages/IPython/core/async_helpers.py\", line 78, in _pseudo_sync_runner\n",
            "    coro.send(None)\n",
            "  File \"/usr/local/lib/python3.10/dist-packages/IPython/core/interactiveshell.py\", line 3257, in run_cell_async\n",
            "    has_raised = await self.run_ast_nodes(code_ast.body, cell_name,\n",
            "  File \"/usr/local/lib/python3.10/dist-packages/IPython/core/interactiveshell.py\", line 3492, in run_ast_nodes\n",
            "    self.showtraceback()\n",
            "  File \"/usr/local/lib/python3.10/dist-packages/IPython/core/interactiveshell.py\", line 2101, in showtraceback\n",
            "    stb = self.InteractiveTB.structured_traceback(etype,\n",
            "  File \"/usr/local/lib/python3.10/dist-packages/IPython/core/ultratb.py\", line 1367, in structured_traceback\n",
            "    return FormattedTB.structured_traceback(\n",
            "  File \"/usr/local/lib/python3.10/dist-packages/IPython/core/ultratb.py\", line 1267, in structured_traceback\n",
            "    return VerboseTB.structured_traceback(\n",
            "  File \"/usr/local/lib/python3.10/dist-packages/IPython/core/ultratb.py\", line 1142, in structured_traceback\n",
            "    formatted_exceptions += self.format_exception_as_a_whole(etype, evalue, etb, lines_of_context,\n",
            "  File \"/usr/local/lib/python3.10/dist-packages/IPython/core/ultratb.py\", line 1082, in format_exception_as_a_whole\n",
            "    last_unique, recursion_repeat = find_recursion(orig_etype, evalue, records)\n",
            "  File \"/usr/local/lib/python3.10/dist-packages/IPython/core/ultratb.py\", line 382, in find_recursion\n",
            "    return len(records), 0\n",
            "TypeError: object of type 'NoneType' has no len()\n",
            "\n",
            "During handling of the above exception, another exception occurred:\n",
            "\n",
            "Traceback (most recent call last):\n",
            "  File \"/usr/local/lib/python3.10/dist-packages/IPython/core/interactiveshell.py\", line 2099, in showtraceback\n",
            "    stb = value._render_traceback_()\n",
            "AttributeError: 'TypeError' object has no attribute '_render_traceback_'\n",
            "\n",
            "During handling of the above exception, another exception occurred:\n",
            "\n",
            "Traceback (most recent call last):\n",
            "  File \"/usr/local/lib/python3.10/dist-packages/IPython/core/ultratb.py\", line 1101, in get_records\n",
            "    return _fixed_getinnerframes(etb, number_of_lines_of_context, tb_offset)\n",
            "  File \"/usr/local/lib/python3.10/dist-packages/IPython/core/ultratb.py\", line 248, in wrapped\n",
            "    return f(*args, **kwargs)\n",
            "  File \"/usr/local/lib/python3.10/dist-packages/IPython/core/ultratb.py\", line 281, in _fixed_getinnerframes\n",
            "    records = fix_frame_records_filenames(inspect.getinnerframes(etb, context))\n",
            "  File \"/usr/lib/python3.10/inspect.py\", line 1662, in getinnerframes\n",
            "    frameinfo = (tb.tb_frame,) + getframeinfo(tb, context)\n",
            "  File \"/usr/lib/python3.10/inspect.py\", line 1620, in getframeinfo\n",
            "    filename = getsourcefile(frame) or getfile(frame)\n",
            "  File \"/usr/lib/python3.10/inspect.py\", line 829, in getsourcefile\n",
            "    module = getmodule(object, filename)\n",
            "  File \"/usr/lib/python3.10/inspect.py\", line 861, in getmodule\n",
            "    file = getabsfile(object, _filename)\n",
            "  File \"/usr/lib/python3.10/inspect.py\", line 845, in getabsfile\n",
            "    return os.path.normcase(os.path.abspath(_filename))\n",
            "  File \"/usr/lib/python3.10/posixpath.py\", line 384, in abspath\n",
            "    cwd = os.getcwd()\n",
            "OSError: [Errno 107] Transport endpoint is not connected\n"
          ]
        }
      ],
      "source": [
        "%cd /content/gdrive/MyDrive/images/Dida_task"
      ]
    },
    {
      "cell_type": "markdown",
      "metadata": {
        "id": "LAszbrEDJCp2",
        "tags": []
      },
      "source": [
        "## Utility Functions & Variables"
      ]
    },
    {
      "cell_type": "code",
      "execution_count": 96,
      "metadata": {
        "id": "YVLDVtSKpZDj"
      },
      "outputs": [],
      "source": [
        "model_histories = {} # {model_name: training_history}\n",
        "models = {} # {model_name:[model,tprs,fprs]} Used for simultaneous predictions and plotting roc curves."
      ]
    },
    {
      "cell_type": "markdown",
      "metadata": {
        "id": "Fd1amPZscNbB",
        "tags": []
      },
      "source": [
        "### Preprocessing Functions"
      ]
    },
    {
      "cell_type": "markdown",
      "metadata": {
        "id": "bdZQxLQ7c3ap",
        "tags": []
      },
      "source": [
        "#### Changing Image Numbers for better tracking Function"
      ]
    },
    {
      "cell_type": "code",
      "execution_count": 97,
      "metadata": {
        "id": "xOH5U9OxdAE7"
      },
      "outputs": [],
      "source": [
        "# # Set the path to your train directories\n",
        "# train_image_path = '/content/gdrive/MyDrive/images/dida_task/train/images'\n",
        "# train_label_path = '/content/gdrive/MyDrive/images/dida_task/train/labels'\n",
        "\n",
        "# # Rename the image files\n",
        "# image_files = sorted(os.listdir(train_image_path))\n",
        "# for i, file in enumerate(image_files):\n",
        "#     src = os.path.join(train_image_path, file)\n",
        "#     dst = os.path.join(train_image_path, f\"{i+1}.png\")\n",
        "#     os.rename(src, dst)\n",
        "\n",
        "# # Rename the label files\n",
        "# label_files = sorted(os.listdir(train_label_path))\n",
        "# for i, file in enumerate(label_files):\n",
        "#     src = os.path.join(train_label_path, file)\n",
        "#     dst = os.path.join(train_label_path, f\"{i+1}.png\")\n",
        "#     os.rename(src, dst)"
      ]
    },
    {
      "cell_type": "markdown",
      "metadata": {
        "id": "5LCpEsRkcSUr",
        "tags": []
      },
      "source": [
        "#### Image Loading and Preprocessing Functions"
      ]
    },
    {
      "cell_type": "code",
      "execution_count": 98,
      "metadata": {
        "id": "1q_-083bcaY-"
      },
      "outputs": [],
      "source": [
        "def train_test_img_loader(path:str, size:int)-> np.array:\n",
        "  '''\n",
        "  Load images from folders\n",
        "  @param: path: directory path\n",
        "  @param: size: new size for images\n",
        "  '''\n",
        "  # Getting Names of images\n",
        "  image_files = sorted(os.listdir(path)) \n",
        "  # Blank array to store images\n",
        "  images = []\n",
        "  # Iterating through every image location, reading it and storing it in an array\n",
        "  for file in image_files:\n",
        "    image_path = os.path.join(path, file)\n",
        "    image = cv2.imread(image_path)\n",
        "    image = cv2.cvtColor(image, cv2.COLOR_BGR2RGB)\n",
        "    resized_image = resize(image, (size,size))\n",
        "    images.append(resized_image)\n",
        "  return np.array(images)\n",
        "\n",
        "def label_img_loader(path:str, size:int)-> np.array:\n",
        "  '''\n",
        "  Load labels from folders\n",
        "  @param: path: directory path\n",
        "  @param: size: new size for images\n",
        "  '''\n",
        "  # Getting Names of images\n",
        "  image_files = sorted(os.listdir(path)) \n",
        "  # Blank array to store images\n",
        "  images = []\n",
        "  # Iterating through every image location, reading it and storing it in an array\n",
        "  for file in image_files:\n",
        "    image_path = os.path.join(path, file)\n",
        "    image = cv2.imread(image_path)\n",
        "    gray_label = cv2.cvtColor(image,cv2.COLOR_RGB2GRAY)\n",
        "    resized_label = resize(gray_label, (size,size))\n",
        "    extended_image = tf.expand_dims(resized_label, axis = -1) # Grayscale channel\n",
        "    binary_image = np.where(extended_image>0.5,1,0) # Binary Masking for the pixels, going with general condition that any pixel value greater than 0.5 is considered as part of roof else not roof.\n",
        "    images.append(binary_image)\n",
        "  return np.array(images)"
      ]
    },
    {
      "cell_type": "markdown",
      "metadata": {
        "id": "DUPSNDD1cWr1",
        "tags": []
      },
      "source": [
        "#### Image Augmentation Function"
      ]
    },
    {
      "cell_type": "code",
      "execution_count": 99,
      "metadata": {
        "id": "YdPbhIOqcoAU"
      },
      "outputs": [],
      "source": [
        "def augment_images(images: np.array, labels:np.array, num_aug:int=6) -> tuple():\n",
        "  '''\n",
        "  Generate augmented images, per given image, this function generates num_aug images\n",
        "  @param: images: Images to be augmented \n",
        "  @param: labels: Corresponding labels of images\n",
        "  '''\n",
        "\n",
        "  # Define the transforms to apply on both the images and the labels\n",
        "  transforms = A.Compose([\n",
        "      A.Resize(224, 224,interpolation = cv2.INTER_NEAREST), #Interpolation of image to preserve pixel values\n",
        "      A.HorizontalFlip(p=0.5),\n",
        "      A.VerticalFlip(p=0.5),\n",
        "      A.Rotate(limit=45, p=0.5),\n",
        "  ])\n",
        "\n",
        "  # Get the list of images and labels\n",
        "  images_list = images\n",
        "  labels_list = labels\n",
        "    \n",
        "  # Define empty numpy arrays to store the augmented images and labels, uint 8 is used for efficient processing of images\n",
        "  aug_image_list = np.empty((0,224,224,3),dtype = np.uint8)\n",
        "  aug_label_list = np.empty((0,224,224,1),dtype = np.uint8)\n",
        "\n",
        "  # Apply the transforms to each image and label pair and store them in corressponding arrays\n",
        "  for i in range(len(images_list)):\n",
        "    # Load the image and label and put it in our augmented list\n",
        "    image = images_list[i]\n",
        "    label = labels_list[i]\n",
        "    aug_image_list = np.append(aug_image_list,[image],axis = 0)\n",
        "    aug_label_list = np.append(aug_label_list,[label],axis = 0)\n",
        "\n",
        "    for j in range(num_aug):\n",
        "      # Apply the transforms to both the image and the label\n",
        "      transformed = transforms(image=image, mask=label)\n",
        "      image_transformed = transformed['image']\n",
        "      label_transformed = transformed['mask']\n",
        "      \n",
        "      aug_image_list = np.append(aug_image_list,[image_transformed],axis = 0)\n",
        "      aug_label_list = np.append(aug_label_list,[label_transformed],axis = 0)\n",
        "  \n",
        "  return aug_image_list, aug_label_list"
      ]
    },
    {
      "cell_type": "markdown",
      "metadata": {
        "id": "hixWZMuzeLpg",
        "tags": []
      },
      "source": [
        "#### Return Images to model.fit Function"
      ]
    },
    {
      "cell_type": "code",
      "execution_count": 100,
      "metadata": {
        "id": "CoRQhvUteJ6k"
      },
      "outputs": [],
      "source": [
        "def img(ip_type:str = 'augmented') -> tuple:\n",
        "  '''\n",
        "  Returns the images to the fit function\n",
        "  @param: ip_type: Image Set to be Returned either normal images or augmented images\n",
        "  '''\n",
        "  if ip_type == 'normal':\n",
        "    return processed_train_images,processed_train_labels,processed_val_images, processed_val_labels\n",
        "  elif ip_type== 'augmented':\n",
        "    return train_aug_images, train_aug_labels, val_aug_images, val_aug_labels"
      ]
    },
    {
      "cell_type": "markdown",
      "metadata": {
        "id": "d8fT28wpbHfF",
        "tags": []
      },
      "source": [
        "### Metrics Functions"
      ]
    },
    {
      "cell_type": "markdown",
      "metadata": {
        "id": "NSgL-LaQb4GA",
        "tags": []
      },
      "source": [
        "#### Cross Validation Scores Generating Function"
      ]
    },
    {
      "cell_type": "code",
      "execution_count": 101,
      "metadata": {
        "id": "4B6fsuSkb8oX"
      },
      "outputs": [],
      "source": [
        "def cv(model:Model ,folds:int,dataset:str) -> None:\n",
        "  '''\n",
        "  Prints CV scores per fold and generate a viz, depicting the cv scores\n",
        "  @param: model: A trained neural network\n",
        "  @param: folds: Number of folds to divide the dataset\n",
        "  @param: dataset: Type of dataset on which cross validation has to be performed\n",
        "  '''\n",
        "  # Load your data\n",
        "  imgs = img(dataset)\n",
        "\n",
        "  X = imgs[0]\n",
        "  y = imgs[1]\n",
        "\n",
        "  # Define the K-Fold cross-validation iterator\n",
        "  kfold = KFold(n_splits=folds, shuffle=False, random_state=None)\n",
        "  scores =  []\n",
        "  fold_indices = []\n",
        "  \n",
        "  # Defining the splits indexes  \n",
        "  for train_index, val_index in kfold.split(X):\n",
        "      fold_indices.append((train_index, val_index))\n",
        "\n",
        "  # Perform cross-validation\n",
        "  for fold, (train_indices, val_indices) in enumerate(fold_indices):\n",
        "      model = model\n",
        "      print(f\"Fold {fold+1}:\")\n",
        "\n",
        "      # Split the data into training and validation sets\n",
        "      X_train, y_train = X[train_indices], y[train_indices]\n",
        "      X_val, y_val = X[val_indices], y[val_indices]\n",
        "\n",
        "      # Fit the model on the training set\n",
        "      model.fit(X_train, y_train, epochs=15, batch_size=5, validation_data=(X_val, y_val), verbose=0)\n",
        "      \n",
        "      # Evaluate the model on the validation set\n",
        "      score = model.evaluate(X_val, y_val, verbose=0)\n",
        "      scores.append(score)\n",
        "      print(f\"Validation accuracy: {score[1]*100}%\")\n",
        "      print(f\"Validation Loss: {score[0]*100}%\")\n",
        "\n",
        "  # Plot validation accuracy\n",
        "  # Generate x-axis tick labels as integers\n",
        "  scores = np.array(scores)\n",
        "  xticks = np.arange(scores.shape[0])\n",
        "  #print(fold_indices)\n",
        "  # Plot the scores with integer xticks\n",
        "  plt.plot(xticks, scores[:, 1], label='Val Accuracy')\n",
        "  plt.plot(xticks, scores[:, 0], label='Val Loss')\n",
        "  plt.xticks(xticks)\n",
        "  plt.title('Validation Scores for Cross Validation')\n",
        "  plt.legend()\n",
        "  plt.show()"
      ]
    },
    {
      "cell_type": "markdown",
      "metadata": {
        "id": "zAtYZ0ZWbKSA",
        "tags": []
      },
      "source": [
        "#### ROC Curve, Threshold, F1-Score, Recall, Precision Generating Functions"
      ]
    },
    {
      "cell_type": "code",
      "execution_count": 102,
      "metadata": {
        "id": "hfvVn-SUbqci"
      },
      "outputs": [],
      "source": [
        "def joint_metrics(models:dict) -> None:\n",
        "  '''\n",
        "  Prints Precision, Recall and F1-Score for all models\n",
        "  @params: models: A dictionary of models consisting of trained model, it's tprs and fprs on validation data\n",
        "  '''  \n",
        "  for name,vals in models.items():\n",
        "    val_imgs = processed_val_images\n",
        "    val_labs = processed_val_labels\n",
        "    model_name = name\n",
        "    model = vals[0]\n",
        "    tprs = vals[1]\n",
        "    fprs = vals[2]\n",
        "    print(f\"{model_name} metrics\")\n",
        "    model_score(model,val_imgs,val_labs,tprs,fprs)\n",
        "    print(\"==================================================\")\n",
        "\n",
        "def model_score(model: Model,val_images: np.array,val_labels: np.array,tprs: list, fprs:list) -> None:\n",
        "  '''\n",
        "  Prints the Precision, Recall and F1-Score for a given model\n",
        "  @params: model: A trained neural network\n",
        "  @params: val_images: The validation images to generate preds\n",
        "  @params: val_labels: The validation labels to compare with preds \n",
        "  @params: tprs: True Positive rate, generated from ROC \n",
        "  @params: fprs: False Positive rate, generate from ROC\n",
        "  '''\n",
        "  # Get best threshold\n",
        "  threshold = thr_calc(tprs,fprs)\n",
        "\n",
        "  # Make predictions on validation set\n",
        "  predicted_images = model.predict(val_images,verbose = 0)\n",
        "\n",
        "  # Convert image to binary values depending on threshold\n",
        "  binary_preds = (predicted_images>threshold).astype('uint8')\n",
        "  binary_preds = np.reshape(binary_preds,(-1,224,224,1)) \n",
        "\n",
        "  # Calculate true positives, true negatives, false positives, and false negatives\n",
        "  cm = confusion_matrix(val_labels.flatten(),binary_preds.flatten())\n",
        "  tn,fp,fn,tp = cm.ravel()\n",
        "\n",
        "  # Calculate precision, recall, and F1 score\n",
        "  precision = tp/(tp+fp)\n",
        "  recall = tp/(tp+fn)\n",
        "  f1_score = 2*(precision*recall)/(precision+recall)\n",
        "  \n",
        "  # Print the results\n",
        "  print(f\"Precision: {precision}\")\n",
        "  print(f\"Recall: {recall}\")\n",
        "  print(f\"F1 Score: {f1_score}\")\n",
        "\n",
        "def roc_curve(model: Model,val_images: np.array,val_labels: np.array) -> tuple:\n",
        "  '''\n",
        "  Build an ROC curve for various thresholds based on validation set and return corresponding tprs and fprs\n",
        "  @param: model: A trained neural network\n",
        "  @params: val_images: The validation images to generate preds\n",
        "  @params: val_labels: The validation labels to compare with preds \n",
        "  '''\n",
        "  # Make predictions on validation set\n",
        "  predicted_images = model.predict(val_images,verbose = 0)\n",
        "\n",
        "  # Threshold the predicted images using different threshold values\n",
        "  thresholds = np.arange(0, 1.05, 0.05) # check all thresholds from 0-1 in 0.05 interval\n",
        "  tprs = []\n",
        "  fprs = []\n",
        "\n",
        "  for threshold in thresholds:\n",
        "      # apply threshold and convert to binary images\n",
        "      \n",
        "      binary_images = (predicted_images > threshold).astype('uint8')\n",
        "      binary_images = np.reshape(binary_images, (-1, 224, 224, 1))\n",
        "      \n",
        "      # calculate confusion matrix\n",
        "      cm = confusion_matrix(val_labels.flatten(), binary_images.flatten())\n",
        "      tn, fp, fn, tp = cm.ravel()\n",
        "      \n",
        "      # calculate TPR and FPR\n",
        "      tpr = tp / (tp + fn)\n",
        "      fpr = fp / (fp + tn)\n",
        "      \n",
        "      tprs.append(tpr)\n",
        "      fprs.append(fpr)\n",
        "\n",
        "  # plot the ROC curve\n",
        "  plt.plot(fprs, tprs)\n",
        "  plt.xlabel('False Positive Rate')\n",
        "  plt.ylabel('True Positive Rate')\n",
        "  plt.title('ROC Curve')\n",
        "  plt.show()\n",
        "\n",
        "  return tprs,fprs\n",
        "\n",
        "\n",
        "def thr_calc(tprs:list, fprs:list) -> float:\n",
        "  '''\n",
        "  Calculate the best threshold value on base of TPRS and FPRS from ROC curve\n",
        "  @param: tprs: True Positive Rate\n",
        "  @param: fprs: False Positive Rate\n",
        "  '''\n",
        "  # Threshold the predicted images using different threshold values\n",
        "  thresholds = np.arange(0, 1.05, 0.05) # check all thresholds from 0-1 in 0.05 interval\n",
        "\n",
        "  # calculate distance to top left corner for each point on the ROC curve\n",
        "  distances = [euclidean([0, 1], [fprs[i], tprs[i]]) for i in range(len(fprs))]\n",
        "\n",
        "  # find index of point with smallest distance\n",
        "  best_index = np.argmin(distances)\n",
        "\n",
        "  # get corresponding threshold value which will be use to highlight the image\n",
        "  best_threshold = thresholds[best_index]\n",
        "  return best_threshold"
      ]
    },
    {
      "cell_type": "markdown",
      "metadata": {
        "id": "ZjloPmupPd7Y",
        "tags": []
      },
      "source": [
        "### Metric Visualization Functions"
      ]
    },
    {
      "cell_type": "markdown",
      "source": [
        "#### Prediction Viz"
      ],
      "metadata": {
        "id": "Ta38fNi20ndq"
      }
    },
    {
      "cell_type": "code",
      "source": [
        "def joint_preds(models:dict) -> None:\n",
        "  '''\n",
        "  Visualize predictions on test images by all models\n",
        "  @param: models: A dictionary of models consisting of trained model, it's tprs and fprs on validation data\n",
        "  '''\n",
        "  for name,vals in models.items():\n",
        "    test_images = processed_test_images\n",
        "    model_name = name\n",
        "    model = vals[0]\n",
        "    tprs = vals[1]\n",
        "    fprs = vals[2]\n",
        "    \n",
        "    test_predictions(model,processed_test_images,tprs,fprs,model_name)\n",
        "\n",
        "def test_predictions(model: Model,test_images,tprs:list,fprs:list, model_name:str = None) -> None:\n",
        "  '''\n",
        "  Generate predictions on the test set\n",
        "  @param: model: A trained neural network\n",
        "  @params: tprs: True Positive rate, generated from ROC \n",
        "  @params: fprs: False Positive rate, generate from ROC \n",
        "  '''\n",
        "  # Get Best Threshold\n",
        "  best_threshold = thr_calc(tprs,fprs)\n",
        "  threshold = best_threshold \n",
        "  \n",
        "  # Generate predictions with the model\n",
        "  predicted_images = model.predict(test_images,verbose = 0) # predict on test images\n",
        "  \n",
        "  # apply threshold and convert to binary images\n",
        "  binary_images = (predicted_images > threshold).astype('uint8')\n",
        "  binary_images = np.reshape(binary_images, (-1, 224, 224, 1))\n",
        "  \n",
        "  # highlight rooftops in binary images\n",
        "  if model_name !=None:\n",
        "    print(f\" {model_name} predictions for threshold value: {best_threshold}\")\n",
        "  else: \n",
        "    print(f\"Predictions for best threshold value: {best_threshold}\")\n",
        "\n",
        "  fig, axs = plt.subplots(1,5,figsize = (18,18),sharey = True,dpi = 150)\n",
        "  for i in range(binary_images.shape[0]):\n",
        "    test_image = test_images[i]\n",
        "    binary_image = binary_images[i].squeeze()\n",
        "    \n",
        "    # Create an image with only the rooftop pixels highlighted\n",
        "    rooftop_image = np.zeros_like(test_image)\n",
        "    rooftop_image[:,:,0] = binary_image*255 # set red channel to binary image\n",
        "    \n",
        "    # Blend the original image and the rooftop image to highlight rooftops\n",
        "    final_image = cv2.addWeighted(test_image, 0.8, rooftop_image, 0.2, 0)  # 80% contribution of test image and 20% contribution of predicted image\n",
        "  \n",
        "    # Adjusting the datarange to have no warnings with imshow  \n",
        "    final_image = np.clip(final_image,0,1)\n",
        "\n",
        "    axs[i].imshow(final_image)\n",
        "\n",
        "  # Giving an appropriate title \n",
        "  if model_name !=None:\n",
        "    plt.title(f\"{model_name} predictions\")\n",
        "  plt.show()\n",
        "  fig.tight_layout()   "
      ],
      "metadata": {
        "id": "5zNnI0Lx0iJM"
      },
      "execution_count": 103,
      "outputs": []
    },
    {
      "cell_type": "markdown",
      "metadata": {
        "id": "lEQCZAw4MVzX",
        "tags": []
      },
      "source": [
        "#### Joint Plots Functions"
      ]
    },
    {
      "cell_type": "code",
      "execution_count": 104,
      "metadata": {
        "id": "IyYPkAt9JCp4"
      },
      "outputs": [],
      "source": [
        "def joint_plots(model_histories:dict) -> None:\n",
        "  '''\n",
        "  Function to plot accuracy and loss from model histories, collected after every model training\n",
        "  @param: model_histories: Dict(key:model_name -> val: model_history)\n",
        "  '''\n",
        "  model_histories = model_histories\n",
        "  \n",
        "  # Null Dictionaries to store the history\n",
        "  train_loss = {}\n",
        "  train_acc = {}\n",
        "  val_loss = {}\n",
        "  val_acc = {}\n",
        "\n",
        "  # Storing Loss and Accuracy Metrics in appropriate dictionaries model wise\n",
        "  for model, history in model_histories.items():\n",
        "    train_loss[model] = history.history['loss'] \n",
        "    val_loss[model] = history.history['val_loss']\n",
        "    train_acc[model] = history.history['accuracy']\n",
        "    val_acc[model] = history.history['val_accuracy']\n",
        "\n",
        "  # Degining the figure, and a join dictionary consisting of individual category metrics.\n",
        "  fig,axs = plt.subplots(2,2,figsize = (18,12),dpi = 150)\n",
        "  categories = {'Val Accuracy':val_acc, 'Val Loss': val_loss,'Train Accuracy':train_acc,'Train Loss':train_loss,}\n",
        "\n",
        "  # Axes Logic for Plotting\n",
        "  # 1 -> 0,0\n",
        "  # 2 -> 0,1\n",
        "  # 3 -> 1,0\n",
        "  # 4 -> 1,1\n",
        "\n",
        "  l,m = 0,0\n",
        "  \n",
        "  # Going through every category metrics of val acc, val loss, train acc and train loss\n",
        "  for category in categories:\n",
        "    # In each category we iterate through a model and it's corresponding metric values.\n",
        "    for model, val in categories[category].items():\n",
        "      sns.lineplot(x = range(1,len(val)+1), y = val, label = model, ax = axs[l][m])\n",
        "    axs[l][m].set_xticks([i for i in range(1,16)])\n",
        "    axs[l][m].set_title(category)\n",
        "    axs[l][m].set_xlabel('Epochs')\n",
        "    axs[l][m].set_ylabel(category.split()[-1]) #Sets the label to Loss or Accuracy depending on category\n",
        "    m+=1\n",
        "    if m>1:\n",
        "      l = 1\n",
        "      m = 0\n",
        "\n",
        "  plt.show()\n",
        "  fig.tight_layout()\n",
        "\n",
        "def joint_roc(models:dict) -> None:\n",
        "  '''\n",
        "  Generate a ROC Curve for all the models in a single plot\n",
        "  @params: models: A dictionary of models consisting of trained model, it's tprs and fprs on validation data\n",
        "  '''\n",
        "  fig  = plt.figure(figsize=(18,6),dpi=150)\n",
        "  for name,vals in models.items():\n",
        "    test_images = processed_test_images\n",
        "    model_name = name\n",
        "    model = vals[0]\n",
        "    tprs = vals[1]\n",
        "    fprs = vals[2]\n",
        "    plt.plot(fprs,tprs,label = model_name)\n",
        "  \n",
        "  plt.title(f'Combined ROC')\n",
        "  plt.legend()\n",
        "  plt.xlabel('FPR')\n",
        "  plt.ylabel('TPR')\n",
        "  plt.show()"
      ]
    },
    {
      "cell_type": "markdown",
      "metadata": {
        "id": "vvT8ObIqdtTK"
      },
      "source": [
        "#### Single Model Metrics Plot Function"
      ]
    },
    {
      "cell_type": "code",
      "execution_count": 105,
      "metadata": {
        "id": "FejkNwxkdqe4"
      },
      "outputs": [],
      "source": [
        "def acc_loss_plot(history:list):\n",
        "  '''\n",
        "  Function that plots accuracy and loss metrics from an Models History\n",
        "  @param: history : Any model History\n",
        "  '''\n",
        "  # Get the loss from history object\n",
        "  train_loss = history.history['loss']\n",
        "  val_loss = history.history['val_loss']\n",
        "  train_acc = history.history['accuracy']\n",
        "  val_acc = history.history['val_accuracy']\n",
        "  \n",
        "  # create figure and axis objects\n",
        "  fig, ax = plt.subplots(nrows=2, ncols=1, figsize=(8, 8),dpi = 150)\n",
        "\n",
        "  # plot the training and validation loss\n",
        "  sns.lineplot(x=range(len(train_loss)), y=train_loss, ax=ax[0], label='train')\n",
        "  sns.lineplot(x=range(len(val_loss)), y=val_loss, ax=ax[0], label='val')\n",
        "  ax[0].set_title('Loss')\n",
        "  ax[0].set_xlabel('Epoch')\n",
        "  ax[0].set_ylabel('Loss')\n",
        "\n",
        "  # plot the training and validation accuracy\n",
        "  sns.lineplot(x=range(len(train_acc)), y=train_acc, ax=ax[1], label='train')\n",
        "  sns.lineplot(x=range(len(val_acc)), y=val_acc, ax=ax[1], label='val')\n",
        "  ax[1].set_title('Accuracy')\n",
        "  ax[1].set_xlabel('Epoch')\n",
        "  ax[1].set_ylabel('Accuracy')\n",
        "\n",
        "  # show the plot\n",
        "  plt.tight_layout()\n",
        "  plt.show()"
      ]
    },
    {
      "cell_type": "markdown",
      "metadata": {
        "id": "Ko9iIW6GJCp5",
        "tags": []
      },
      "source": [
        "### Model Info and All Remaining Use Case Functions"
      ]
    },
    {
      "cell_type": "code",
      "execution_count": 106,
      "metadata": {
        "id": "ahPjaMiWJCp5"
      },
      "outputs": [],
      "source": [
        "def model_info(model: Model):\n",
        "  '''\n",
        "  Returns the whole architecture information for a model\n",
        "  @param: model: A neural network architecture\n",
        "  '''\n",
        "  plot_model(model, to_file=f'{model.name}.png', show_shapes=True, rankdir='TB')\n",
        "  layers = [(layer, layer.name, layer.trainable,layer.output.shape) for layer in model.layers]\n",
        "  df = pd.DataFrame(layers, columns=['Layer Type', 'Layer Name', 'Layer Trainable', 'Layer Op'])\n",
        "  return df"
      ]
    },
    {
      "cell_type": "markdown",
      "metadata": {
        "id": "OR0xMSJKP4DC",
        "tags": []
      },
      "source": [
        "## Loading, Augmenting n Visualizing images"
      ]
    },
    {
      "cell_type": "markdown",
      "metadata": {
        "id": "n64jFX78JCp6",
        "tags": []
      },
      "source": [
        "### Loading Images"
      ]
    },
    {
      "cell_type": "code",
      "execution_count": null,
      "metadata": {
        "id": "9YvqzY0opnw6",
        "colab": {
          "base_uri": "https://localhost:8080/"
        },
        "outputId": "04e36c81-7655-46fd-c3db-764f18982d22"
      },
      "outputs": [
        {
          "output_type": "stream",
          "name": "stderr",
          "text": [
            "ERROR:root:Internal Python error in the inspect module.\n",
            "Below is the traceback from this internal error.\n",
            "\n"
          ]
        },
        {
          "output_type": "stream",
          "name": "stdout",
          "text": [
            "Traceback (most recent call last):\n",
            "  File \"/usr/local/lib/python3.10/dist-packages/IPython/core/interactiveshell.py\", line 3553, in run_code\n",
            "    exec(code_obj, self.user_global_ns, self.user_ns)\n",
            "  File \"<ipython-input-107-0b6a69bff807>\", line 9, in <cell line: 9>\n",
            "    train_images = train_test_img_loader(train_image_path,224) # We are choosing this size so that Maxpooling works well\n",
            "  File \"<ipython-input-98-5d94ab944490>\", line 8, in train_test_img_loader\n",
            "    image_files = sorted(os.listdir(path))\n",
            "OSError: [Errno 107] Transport endpoint is not connected: './train/images/'\n",
            "\n",
            "During handling of the above exception, another exception occurred:\n",
            "\n",
            "Traceback (most recent call last):\n",
            "  File \"/usr/local/lib/python3.10/dist-packages/IPython/core/interactiveshell.py\", line 2099, in showtraceback\n",
            "    stb = value._render_traceback_()\n",
            "AttributeError: 'OSError' object has no attribute '_render_traceback_'\n",
            "\n",
            "During handling of the above exception, another exception occurred:\n",
            "\n",
            "Traceback (most recent call last):\n",
            "  File \"/usr/local/lib/python3.10/dist-packages/IPython/core/ultratb.py\", line 1101, in get_records\n",
            "    return _fixed_getinnerframes(etb, number_of_lines_of_context, tb_offset)\n",
            "  File \"/usr/local/lib/python3.10/dist-packages/IPython/core/ultratb.py\", line 248, in wrapped\n",
            "    return f(*args, **kwargs)\n",
            "  File \"/usr/local/lib/python3.10/dist-packages/IPython/core/ultratb.py\", line 281, in _fixed_getinnerframes\n",
            "    records = fix_frame_records_filenames(inspect.getinnerframes(etb, context))\n",
            "  File \"/usr/lib/python3.10/inspect.py\", line 1662, in getinnerframes\n",
            "    frameinfo = (tb.tb_frame,) + getframeinfo(tb, context)\n",
            "  File \"/usr/lib/python3.10/inspect.py\", line 1620, in getframeinfo\n",
            "    filename = getsourcefile(frame) or getfile(frame)\n",
            "  File \"/usr/lib/python3.10/inspect.py\", line 829, in getsourcefile\n",
            "    module = getmodule(object, filename)\n",
            "  File \"/usr/lib/python3.10/inspect.py\", line 861, in getmodule\n",
            "    file = getabsfile(object, _filename)\n",
            "  File \"/usr/lib/python3.10/inspect.py\", line 845, in getabsfile\n",
            "    return os.path.normcase(os.path.abspath(_filename))\n",
            "  File \"/usr/lib/python3.10/posixpath.py\", line 384, in abspath\n",
            "    cwd = os.getcwd()\n",
            "OSError: [Errno 107] Transport endpoint is not connected\n"
          ]
        },
        {
          "output_type": "stream",
          "name": "stderr",
          "text": [
            "ERROR:root:Internal Python error in the inspect module.\n",
            "Below is the traceback from this internal error.\n",
            "\n",
            "ERROR:root:Internal Python error in the inspect module.\n",
            "Below is the traceback from this internal error.\n",
            "\n"
          ]
        },
        {
          "output_type": "stream",
          "name": "stdout",
          "text": [
            "Traceback (most recent call last):\n",
            "  File \"/usr/local/lib/python3.10/dist-packages/IPython/core/interactiveshell.py\", line 3553, in run_code\n",
            "    exec(code_obj, self.user_global_ns, self.user_ns)\n",
            "  File \"<ipython-input-107-0b6a69bff807>\", line 9, in <cell line: 9>\n",
            "    train_images = train_test_img_loader(train_image_path,224) # We are choosing this size so that Maxpooling works well\n",
            "  File \"<ipython-input-98-5d94ab944490>\", line 8, in train_test_img_loader\n",
            "    image_files = sorted(os.listdir(path))\n",
            "OSError: [Errno 107] Transport endpoint is not connected: './train/images/'\n",
            "\n",
            "During handling of the above exception, another exception occurred:\n",
            "\n",
            "Traceback (most recent call last):\n",
            "  File \"/usr/local/lib/python3.10/dist-packages/IPython/core/interactiveshell.py\", line 2099, in showtraceback\n",
            "    stb = value._render_traceback_()\n",
            "AttributeError: 'OSError' object has no attribute '_render_traceback_'\n",
            "\n",
            "During handling of the above exception, another exception occurred:\n",
            "\n",
            "Traceback (most recent call last):\n",
            "  File \"/usr/local/lib/python3.10/dist-packages/IPython/core/interactiveshell.py\", line 3473, in run_ast_nodes\n",
            "    if (await self.run_code(code, result,  async_=asy)):\n",
            "  File \"/usr/local/lib/python3.10/dist-packages/IPython/core/interactiveshell.py\", line 3575, in run_code\n",
            "    self.showtraceback(running_compiled_code=True)\n",
            "  File \"/usr/local/lib/python3.10/dist-packages/IPython/core/interactiveshell.py\", line 2101, in showtraceback\n",
            "    stb = self.InteractiveTB.structured_traceback(etype,\n",
            "  File \"/usr/local/lib/python3.10/dist-packages/IPython/core/ultratb.py\", line 1367, in structured_traceback\n",
            "    return FormattedTB.structured_traceback(\n",
            "  File \"/usr/local/lib/python3.10/dist-packages/IPython/core/ultratb.py\", line 1267, in structured_traceback\n",
            "    return VerboseTB.structured_traceback(\n",
            "  File \"/usr/local/lib/python3.10/dist-packages/IPython/core/ultratb.py\", line 1124, in structured_traceback\n",
            "    formatted_exception = self.format_exception_as_a_whole(etype, evalue, etb, number_of_lines_of_context,\n",
            "  File \"/usr/local/lib/python3.10/dist-packages/IPython/core/ultratb.py\", line 1082, in format_exception_as_a_whole\n",
            "    last_unique, recursion_repeat = find_recursion(orig_etype, evalue, records)\n",
            "  File \"/usr/local/lib/python3.10/dist-packages/IPython/core/ultratb.py\", line 382, in find_recursion\n",
            "    return len(records), 0\n",
            "TypeError: object of type 'NoneType' has no len()\n",
            "\n",
            "During handling of the above exception, another exception occurred:\n",
            "\n",
            "Traceback (most recent call last):\n",
            "  File \"/usr/local/lib/python3.10/dist-packages/IPython/core/interactiveshell.py\", line 2099, in showtraceback\n",
            "    stb = value._render_traceback_()\n",
            "AttributeError: 'TypeError' object has no attribute '_render_traceback_'\n",
            "\n",
            "During handling of the above exception, another exception occurred:\n",
            "\n",
            "Traceback (most recent call last):\n",
            "  File \"/usr/local/lib/python3.10/dist-packages/IPython/core/ultratb.py\", line 1101, in get_records\n",
            "    return _fixed_getinnerframes(etb, number_of_lines_of_context, tb_offset)\n",
            "  File \"/usr/local/lib/python3.10/dist-packages/IPython/core/ultratb.py\", line 248, in wrapped\n",
            "    return f(*args, **kwargs)\n",
            "  File \"/usr/local/lib/python3.10/dist-packages/IPython/core/ultratb.py\", line 281, in _fixed_getinnerframes\n",
            "    records = fix_frame_records_filenames(inspect.getinnerframes(etb, context))\n",
            "  File \"/usr/lib/python3.10/inspect.py\", line 1662, in getinnerframes\n",
            "    frameinfo = (tb.tb_frame,) + getframeinfo(tb, context)\n",
            "  File \"/usr/lib/python3.10/inspect.py\", line 1620, in getframeinfo\n",
            "    filename = getsourcefile(frame) or getfile(frame)\n",
            "  File \"/usr/lib/python3.10/inspect.py\", line 829, in getsourcefile\n",
            "    module = getmodule(object, filename)\n",
            "  File \"/usr/lib/python3.10/inspect.py\", line 861, in getmodule\n",
            "    file = getabsfile(object, _filename)\n",
            "  File \"/usr/lib/python3.10/inspect.py\", line 845, in getabsfile\n",
            "    return os.path.normcase(os.path.abspath(_filename))\n",
            "  File \"/usr/lib/python3.10/posixpath.py\", line 384, in abspath\n",
            "    cwd = os.getcwd()\n",
            "OSError: [Errno 107] Transport endpoint is not connected\n",
            "Traceback (most recent call last):\n",
            "  File \"/usr/local/lib/python3.10/dist-packages/IPython/core/interactiveshell.py\", line 3553, in run_code\n",
            "    exec(code_obj, self.user_global_ns, self.user_ns)\n",
            "  File \"<ipython-input-107-0b6a69bff807>\", line 9, in <cell line: 9>\n",
            "    train_images = train_test_img_loader(train_image_path,224) # We are choosing this size so that Maxpooling works well\n",
            "  File \"<ipython-input-98-5d94ab944490>\", line 8, in train_test_img_loader\n",
            "    image_files = sorted(os.listdir(path))\n",
            "OSError: [Errno 107] Transport endpoint is not connected: './train/images/'\n",
            "\n",
            "During handling of the above exception, another exception occurred:\n",
            "\n",
            "Traceback (most recent call last):\n",
            "  File \"/usr/local/lib/python3.10/dist-packages/IPython/core/interactiveshell.py\", line 2099, in showtraceback\n",
            "    stb = value._render_traceback_()\n",
            "AttributeError: 'OSError' object has no attribute '_render_traceback_'\n",
            "\n",
            "During handling of the above exception, another exception occurred:\n",
            "\n",
            "Traceback (most recent call last):\n",
            "  File \"/usr/local/lib/python3.10/dist-packages/IPython/core/interactiveshell.py\", line 3473, in run_ast_nodes\n",
            "    if (await self.run_code(code, result,  async_=asy)):\n",
            "  File \"/usr/local/lib/python3.10/dist-packages/IPython/core/interactiveshell.py\", line 3575, in run_code\n",
            "    self.showtraceback(running_compiled_code=True)\n",
            "  File \"/usr/local/lib/python3.10/dist-packages/IPython/core/interactiveshell.py\", line 2101, in showtraceback\n",
            "    stb = self.InteractiveTB.structured_traceback(etype,\n",
            "  File \"/usr/local/lib/python3.10/dist-packages/IPython/core/ultratb.py\", line 1367, in structured_traceback\n",
            "    return FormattedTB.structured_traceback(\n",
            "  File \"/usr/local/lib/python3.10/dist-packages/IPython/core/ultratb.py\", line 1267, in structured_traceback\n",
            "    return VerboseTB.structured_traceback(\n",
            "  File \"/usr/local/lib/python3.10/dist-packages/IPython/core/ultratb.py\", line 1124, in structured_traceback\n",
            "    formatted_exception = self.format_exception_as_a_whole(etype, evalue, etb, number_of_lines_of_context,\n",
            "  File \"/usr/local/lib/python3.10/dist-packages/IPython/core/ultratb.py\", line 1082, in format_exception_as_a_whole\n",
            "    last_unique, recursion_repeat = find_recursion(orig_etype, evalue, records)\n",
            "  File \"/usr/local/lib/python3.10/dist-packages/IPython/core/ultratb.py\", line 382, in find_recursion\n",
            "    return len(records), 0\n",
            "TypeError: object of type 'NoneType' has no len()\n",
            "\n",
            "During handling of the above exception, another exception occurred:\n",
            "\n",
            "Traceback (most recent call last):\n",
            "  File \"/usr/local/lib/python3.10/dist-packages/IPython/core/interactiveshell.py\", line 2099, in showtraceback\n",
            "    stb = value._render_traceback_()\n",
            "AttributeError: 'TypeError' object has no attribute '_render_traceback_'\n",
            "\n",
            "During handling of the above exception, another exception occurred:\n",
            "\n",
            "Traceback (most recent call last):\n",
            "  File \"/usr/local/lib/python3.10/dist-packages/IPython/core/interactiveshell.py\", line 3030, in _run_cell\n",
            "    return runner(coro)\n",
            "  File \"/usr/local/lib/python3.10/dist-packages/IPython/core/async_helpers.py\", line 78, in _pseudo_sync_runner\n",
            "    coro.send(None)\n",
            "  File \"/usr/local/lib/python3.10/dist-packages/IPython/core/interactiveshell.py\", line 3257, in run_cell_async\n",
            "    has_raised = await self.run_ast_nodes(code_ast.body, cell_name,\n",
            "  File \"/usr/local/lib/python3.10/dist-packages/IPython/core/interactiveshell.py\", line 3492, in run_ast_nodes\n",
            "    self.showtraceback()\n",
            "  File \"/usr/local/lib/python3.10/dist-packages/IPython/core/interactiveshell.py\", line 2101, in showtraceback\n",
            "    stb = self.InteractiveTB.structured_traceback(etype,\n",
            "  File \"/usr/local/lib/python3.10/dist-packages/IPython/core/ultratb.py\", line 1367, in structured_traceback\n",
            "    return FormattedTB.structured_traceback(\n",
            "  File \"/usr/local/lib/python3.10/dist-packages/IPython/core/ultratb.py\", line 1267, in structured_traceback\n",
            "    return VerboseTB.structured_traceback(\n",
            "  File \"/usr/local/lib/python3.10/dist-packages/IPython/core/ultratb.py\", line 1142, in structured_traceback\n",
            "    formatted_exceptions += self.format_exception_as_a_whole(etype, evalue, etb, lines_of_context,\n",
            "  File \"/usr/local/lib/python3.10/dist-packages/IPython/core/ultratb.py\", line 1082, in format_exception_as_a_whole\n",
            "    last_unique, recursion_repeat = find_recursion(orig_etype, evalue, records)\n",
            "  File \"/usr/local/lib/python3.10/dist-packages/IPython/core/ultratb.py\", line 382, in find_recursion\n",
            "    return len(records), 0\n",
            "TypeError: object of type 'NoneType' has no len()\n",
            "\n",
            "During handling of the above exception, another exception occurred:\n",
            "\n",
            "Traceback (most recent call last):\n",
            "  File \"/usr/local/lib/python3.10/dist-packages/IPython/core/interactiveshell.py\", line 2099, in showtraceback\n",
            "    stb = value._render_traceback_()\n",
            "AttributeError: 'TypeError' object has no attribute '_render_traceback_'\n",
            "\n",
            "During handling of the above exception, another exception occurred:\n",
            "\n",
            "Traceback (most recent call last):\n",
            "  File \"/usr/local/lib/python3.10/dist-packages/IPython/core/ultratb.py\", line 1101, in get_records\n",
            "    return _fixed_getinnerframes(etb, number_of_lines_of_context, tb_offset)\n",
            "  File \"/usr/local/lib/python3.10/dist-packages/IPython/core/ultratb.py\", line 248, in wrapped\n",
            "    return f(*args, **kwargs)\n",
            "  File \"/usr/local/lib/python3.10/dist-packages/IPython/core/ultratb.py\", line 281, in _fixed_getinnerframes\n",
            "    records = fix_frame_records_filenames(inspect.getinnerframes(etb, context))\n",
            "  File \"/usr/lib/python3.10/inspect.py\", line 1662, in getinnerframes\n",
            "    frameinfo = (tb.tb_frame,) + getframeinfo(tb, context)\n",
            "  File \"/usr/lib/python3.10/inspect.py\", line 1620, in getframeinfo\n",
            "    filename = getsourcefile(frame) or getfile(frame)\n",
            "  File \"/usr/lib/python3.10/inspect.py\", line 829, in getsourcefile\n",
            "    module = getmodule(object, filename)\n",
            "  File \"/usr/lib/python3.10/inspect.py\", line 861, in getmodule\n",
            "    file = getabsfile(object, _filename)\n",
            "  File \"/usr/lib/python3.10/inspect.py\", line 845, in getabsfile\n",
            "    return os.path.normcase(os.path.abspath(_filename))\n",
            "  File \"/usr/lib/python3.10/posixpath.py\", line 384, in abspath\n",
            "    cwd = os.getcwd()\n",
            "OSError: [Errno 107] Transport endpoint is not connected\n"
          ]
        }
      ],
      "source": [
        "# Directories of images\n",
        "train_image_path = './train/images/'\n",
        "train_label_path = './train/labels/'\n",
        "val_image_path = './val/images/'\n",
        "val_label_path = './val/labels/'\n",
        "test_image_path = './test/images/'\n",
        "\n",
        "# Loading the images from dirs\n",
        "train_images = train_test_img_loader(train_image_path,224) # We are choosing this size so that Maxpooling works well\n",
        "val_images = train_test_img_loader(val_image_path,224)\n",
        "train_labels = label_img_loader(train_label_path,224)\n",
        "val_labels = label_img_loader(val_label_path,224)\n",
        "test_images = train_test_img_loader(test_image_path,224)\n",
        "\n",
        "# Normalizing the images and making label images having enough channels for NN.\n",
        "processed_train_images = train_images.astype('float32')\n",
        "processed_val_images = val_images.astype('float32')\n",
        "processed_test_images = test_images.astype('float32')\n",
        "processed_train_labels = train_labels\n",
        "processed_val_labels = val_labels\n",
        "\n",
        "# Augmenting the images\n",
        "train_aug_images, train_aug_labels = augment_images(processed_train_images,processed_train_labels)\n",
        "val_aug_images, val_aug_labels = augment_images(processed_val_images,processed_val_labels)"
      ]
    },
    {
      "cell_type": "code",
      "execution_count": 107,
      "metadata": {
        "colab": {
          "base_uri": "https://localhost:8080/"
        },
        "id": "lOrmrM14KQAS",
        "outputId": "2f41b375-b732-4be0-debf-76bcd64c7727"
      },
      "outputs": [
        {
          "output_type": "execute_result",
          "data": {
            "text/plain": [
              "((140, 224, 224, 3), (140, 224, 224, 1), (35, 224, 224, 3), (35, 224, 224, 1))"
            ]
          },
          "metadata": {},
          "execution_count": 107
        }
      ],
      "source": [
        "# Checking the shape of images\n",
        "#train_labels.shape,processed_train_images.shape,processed_val_images.shape,processed_val_labels.shape\n",
        "train_aug_images.shape, train_aug_labels.shape, val_aug_images.shape, val_aug_labels.shape"
      ]
    },
    {
      "cell_type": "markdown",
      "metadata": {
        "id": "l8iUXQZuQMZ4"
      },
      "source": [
        "### Viewing the images"
      ]
    },
    {
      "cell_type": "code",
      "execution_count": 108,
      "metadata": {
        "colab": {
          "base_uri": "https://localhost:8080/",
          "height": 0
        },
        "id": "kM-2BVxQnG-j",
        "outputId": "4791e6a7-1777-4ff8-d263-8c8fd309f1df"
      },
      "outputs": [
        {
          "output_type": "display_data",
          "data": {
            "text/plain": [
              "<Figure size 640x480 with 3 Axes>"
            ],
            "image/png": "[encoded data removed]"
          },
          "metadata": {}
        }
      ],
      "source": [
        "fig, axs = plt.subplots(1, 3)\n",
        "axs[0].imshow(train_aug_images[110])\n",
        "axs[1].imshow(train_aug_labels[110].squeeze(), cmap='gray')\n",
        "axs[2].imshow(processed_test_images[0])\n",
        "plt.show()"
      ]
    },
    {
      "cell_type": "code",
      "execution_count": 109,
      "metadata": {
        "colab": {
          "base_uri": "https://localhost:8080/",
          "height": 0
        },
        "id": "LJk5Evjlq7mP",
        "outputId": "dc4b0b8e-1dbb-4f5b-8974-0d35ae8bb71a"
      },
      "outputs": [
        {
          "output_type": "display_data",
          "data": {
            "text/plain": [
              "<Figure size 640x480 with 3 Axes>"
            ],
            "image/png": "[encoded data removed]"
          },
          "metadata": {}
        }
      ],
      "source": [
        "fig, axs = plt.subplots(1, 3)\n",
        "axs[0].imshow(processed_train_images[0])\n",
        "axs[1].imshow(processed_train_labels[0].squeeze(), cmap='gray')\n",
        "axs[2].imshow(processed_test_images[0])\n",
        "plt.show()"
      ]
    },
    {
      "cell_type": "markdown",
      "metadata": {
        "id": "GFuWIGHaOQNc",
        "tags": []
      },
      "source": [
        "## Training Models with Various Architectures"
      ]
    },
    {
      "cell_type": "markdown",
      "metadata": {
        "id": "zwKFUCn_QUgm",
        "tags": []
      },
      "source": [
        "### Base CNN Model: Trained From Scratch"
      ]
    },
    {
      "cell_type": "code",
      "execution_count": 110,
      "metadata": {
        "id": "G-FbQ2OwMOt1"
      },
      "outputs": [],
      "source": [
        "# Define the CNN model\n",
        "def Cnn(input_size=(224, 224, 3), n_filters=16, n_classes=1, dropout_prob=0.5):\n",
        "    '''\n",
        "    Returns a CNN architecture\n",
        "    @param: input_size: input size of image\n",
        "    @param: n_filters: Number of filters to be used in architecture layers\n",
        "    @param: n_classes: Total Classes to be predicted\n",
        "    @param: dropout_prob: Dropout probabilities\n",
        "    '''\n",
        "    input_shape = input_size\n",
        "    model = Sequential(name='CNN')\n",
        "    \n",
        "    # Dropouts are used to avoid overfitting \n",
        "    \n",
        "    # Downsampling an image by conv layers to extract feature maps from images\n",
        "    model.add(Conv2D(n_filters*2, (5, 5), activation='relu', input_shape=input_shape, padding='valid'))\n",
        "    model.add(MaxPooling2D(pool_size=(2, 2)))\n",
        "    model.add(Dropout(dropout_prob))\n",
        "    model.add(Conv2D(n_filters*4, (3, 3), activation='relu', padding='same'))\n",
        "    model.add(MaxPooling2D(pool_size=(2, 2)))\n",
        "    model.add(Dropout(dropout_prob))\n",
        "    model.add(Conv2D(n_filters*8, (3, 3), activation='relu', padding='same'))\n",
        "    model.add(MaxPooling2D(pool_size=(2, 2)))\n",
        "    model.add(Dropout(dropout_prob))\n",
        "    model.add(Conv2D(n_filters*16, (3, 3), activation='relu', padding='same'))\n",
        "\n",
        "    # Upsampling process to recover the spatial details and enhance the resolution of the feature maps to produce more accurate outputs.\n",
        "    model.add(Conv2DTranspose(n_filters*8, (4, 4), strides=(2, 2), activation='relu', padding='same'))\n",
        "    model.add(Dropout(dropout_prob))\n",
        "    model.add(Conv2DTranspose(n_filters*4, (4, 4), strides=(2, 2), activation='relu', padding='same'))\n",
        "    model.add(Dropout(dropout_prob))\n",
        "    model.add(Conv2DTranspose(n_filters*2, (4, 4), strides=(2, 2), activation='relu', padding='same'))\n",
        "    model.add(Dropout(dropout_prob))\n",
        "    model.add(Conv2D(n_filters*4, (3, 3), activation='relu', padding='same'))\n",
        "    model.add(Dropout(dropout_prob))\n",
        "    \n",
        "    # This layer produces the final image output, representing the predicted probabilities for each pixel.\n",
        "    # The sigmoid activation function is used to ensure the output values are between 0 and 1, representing the class probabilities.\n",
        "    model.add(Conv2D(n_classes, (3, 3), activation='sigmoid', padding='same'))\n",
        "    \n",
        "    # Adding padding to get an image of the same size as the label\n",
        "    model.add(ZeroPadding2D(padding=((4, 4), (4, 4))))\n",
        "    \n",
        "    model.compile(optimizer='adam', loss='binary_crossentropy', metrics=['accuracy'])\n",
        "    return model\n"
      ]
    },
    {
      "cell_type": "markdown",
      "metadata": {
        "id": "9gPFcy2CJCp8",
        "tags": []
      },
      "source": [
        "#### Loading and training the CNN model without augmented images"
      ]
    },
    {
      "cell_type": "code",
      "execution_count": null,
      "metadata": {
        "id": "kmNiZnwJtei6",
        "colab": {
          "base_uri": "https://localhost:8080/"
        },
        "outputId": "56448062-4752-4365-97d1-5b596ef08b79"
      },
      "outputs": [
        {
          "output_type": "stream",
          "name": "stdout",
          "text": [
            "Epoch 1/15\n"
          ]
        }
      ],
      "source": [
        "# Define the model\n",
        "cnn = Cnn()\n",
        "\n",
        "# Get the model info\n",
        "## model_info(cnn)\n",
        "\n",
        "# Getting images\n",
        "imgs = img('normal')\n",
        "\n",
        "# Train the model\n",
        "h_cnn = cnn.fit(imgs[0],imgs[1],epochs=15, batch_size=5, validation_data = (imgs[2],imgs[3]))\n",
        "\n",
        "# Storing the history \n",
        "model_histories['cnn'] = h_cnn\n",
        "# Plotting the accuracy and loss for train and validation data\n",
        "# We see all plots together at the end\n",
        "# acc_loss_plot(h_cnn) "
      ]
    },
    {
      "cell_type": "code",
      "execution_count": null,
      "metadata": {
        "id": "w52ss_sfL_zZ"
      },
      "outputs": [],
      "source": [
        "# Plotting the ROC curve\n",
        "tprs,fprs = roc_curve(cnn,processed_val_images,processed_val_labels)\n",
        "models['cnn'] = [cnn,tprs,fprs]"
      ]
    },
    {
      "cell_type": "code",
      "execution_count": null,
      "metadata": {
        "id": "eqNzgTaPWxHq"
      },
      "outputs": [],
      "source": [
        "# Generating model scores on validation images with best threshold\n",
        "# model_score(cnn,processed_val_images,processed_val_labels,tprs,fprs)"
      ]
    },
    {
      "cell_type": "code",
      "execution_count": null,
      "metadata": {
        "id": "WPOD0DrGjwvN"
      },
      "outputs": [],
      "source": [
        "# Predictions on the test set by getting the best threshold from the ROC tprs, fprs values\n",
        "# test_predictions(cnn,processed_test_images,tprs,fprs)"
      ]
    },
    {
      "cell_type": "code",
      "execution_count": null,
      "metadata": {
        "id": "YeGMcd4wRAYt"
      },
      "outputs": [],
      "source": [
        "# Observing the results of 5-fold Cross_Validation with Normal Images\n",
        "# cv_cnn = CNN()\n",
        "# cv(cv_cnn, 5,'normal')"
      ]
    },
    {
      "cell_type": "markdown",
      "metadata": {
        "id": "SmT2UTjzJCp9",
        "tags": []
      },
      "source": [
        "#### Loading and training the CNN model with augmented images"
      ]
    },
    {
      "cell_type": "code",
      "execution_count": null,
      "metadata": {
        "id": "BUV_bjC0JCp9"
      },
      "outputs": [],
      "source": [
        "# Define the model\n",
        "aug_cnn = Cnn()\n",
        "\n",
        "# Getting images\n",
        "imgs = img('augmented')\n",
        "\n",
        "# Train the model\n",
        "h_aug_cnn = aug_cnn.fit(imgs[0],imgs[1],epochs=15, batch_size=5, validation_data = (imgs[2],imgs[3]))\n",
        "\n",
        "# Storing the history\n",
        "model_histories['aug_cnn'] = h_aug_cnn\n",
        "# Plotting the accuracy and loss for train and validation data\n",
        "# acc_loss_plot(h_aug_cnn)"
      ]
    },
    {
      "cell_type": "code",
      "execution_count": null,
      "metadata": {
        "id": "en9AtZRVJCp-"
      },
      "outputs": [],
      "source": [
        "# Plotting the ROC curve\n",
        "tprs,fprs = roc_curve(aug_cnn,processed_val_images,processed_val_labels)\n",
        "\n",
        "# Storing the model, tprs, fprs\n",
        "models['aug_cnn'] = [aug_cnn,tprs,fprs]"
      ]
    },
    {
      "cell_type": "code",
      "execution_count": null,
      "metadata": {
        "id": "FE6k6OFEaizB"
      },
      "outputs": [],
      "source": [
        "# Generating model scores on validation images with best threshold\n",
        "# model_score(aug_cnn,processed_val_images,processed_val_labels,tprs,fprs)"
      ]
    },
    {
      "cell_type": "code",
      "execution_count": null,
      "metadata": {
        "id": "SX6TA9tzJCp-"
      },
      "outputs": [],
      "source": [
        "# Predictions on the test set\n",
        "# test_predictions(aug_cnn,processed_test_images,tprs,fprs)"
      ]
    },
    {
      "cell_type": "code",
      "execution_count": null,
      "metadata": {
        "id": "j9rgFPheBQ7L"
      },
      "outputs": [],
      "source": [
        "# Observing the results of 5-fold Cross_Validation with Augmented Images\n",
        "# cv_cnn = CNN()\n",
        "# cv(aug_cnn, 5,'augmented')"
      ]
    },
    {
      "cell_type": "markdown",
      "metadata": {
        "id": "QCc7qn2xjr1y",
        "jp-MarkdownHeadingCollapsed": true,
        "tags": []
      },
      "source": [
        "### Base UNET: Trained From Scratch"
      ]
    },
    {
      "cell_type": "code",
      "execution_count": null,
      "metadata": {
        "id": "jOeimh3C0Bpb"
      },
      "outputs": [],
      "source": [
        "def EncoderMiniBlock(inputs, n_filters:int=32, dropout_prob:float=0.3, max_pooling:bool=True):\n",
        "  '''\n",
        "  Return the encoding blocks to UNET architecture\n",
        "  @param: inputs:  A prev layer architecture\n",
        "  @param: n_filters: Number of filters to be used in conv layers\n",
        "  @param: dropout_prob: Dropout Probabilities\n",
        "  @param: max_pooling: Max pooling addition to encoder block\n",
        "  '''\n",
        "  conv = Conv2D(n_filters, (3,3), activation='relu', padding='same', kernel_initializer='HeNormal')(inputs)\n",
        "  conv = Conv2D(n_filters, (3,3), activation='relu', padding='same', kernel_initializer='HeNormal')(conv)\n",
        "  conv = BatchNormalization()(conv, training=False)\n",
        "  \n",
        "  if dropout_prob > 0:     \n",
        "      conv = tf.keras.layers.Dropout(dropout_prob)(conv)\n",
        "  if max_pooling:\n",
        "      next_layer = tf.keras.layers.MaxPooling2D(pool_size = (2,2))(conv)    \n",
        "  else:\n",
        "      next_layer = conv\n",
        "  \n",
        "  skip_connection = conv    \n",
        "  return next_layer, skip_connection\n",
        "\n",
        "def DecoderMiniBlock(prev_layer_input, skip_layer_input, n_filters:int=32):\n",
        "  '''\n",
        "  Return the encoding blocks to UNET architecture\n",
        "  @param: prev_layer_input:  A prev layer architecture\n",
        "  @param: skip_layer_input: Conv Layers to be linked to Transpose layer\n",
        "  @param: n_filtes: Number of filters to be used in transpose and conv layers\n",
        "  '''\n",
        "  up = Conv2DTranspose(n_filters, (3,3), strides=(2,2), padding='same')(prev_layer_input)\n",
        "  merge = concatenate([up, skip_layer_input],axis = 3)\n",
        "  conv = Conv2D(n_filters, (3,3), activation='relu', padding='same', kernel_initializer='HeNormal')(merge)\n",
        "  conv = Conv2D(n_filters, (3,3), activation='relu', padding='same', kernel_initializer='HeNormal')(conv)\n",
        "  return conv"
      ]
    },
    {
      "cell_type": "code",
      "execution_count": null,
      "metadata": {
        "id": "No4LrPOZ1VLP"
      },
      "outputs": [],
      "source": [
        "# Defining the UNET using the encoder and decoder functions\n",
        "def Unet(input_size=(224, 224, 3), n_filters=16, n_classes=1,dropout_prob = 0):\n",
        "  '''\n",
        "  Returns a Unet Architecture Model\n",
        "  @param: input_size: input size of image\n",
        "  @param: n_filters: Number of filters to be used in architecture layers\n",
        "  @param: n_classes: Total Classes to be predicted\n",
        "  @param: dropout_prob: Dropout probabilities\n",
        "  '''\n",
        "  # Input size represent the size of 1 image (the size used for pre-processing)\n",
        "  inputs = Input(input_size)\n",
        "\n",
        "  # Encoder includes multiple convolutional mini blocks with different maxpooling, dropout and filter parameters\n",
        "  # keeping dropout to be 0 because we have small dataset itself\n",
        "  # We increase n_filters per layer to extract more features\n",
        "  cblock1 = EncoderMiniBlock(inputs, n_filters,dropout_prob=0, max_pooling=True)\n",
        "  cblock2 = EncoderMiniBlock(cblock1[0],n_filters*2,dropout_prob=0, max_pooling=True)\n",
        "  cblock3 = EncoderMiniBlock(cblock2[0], n_filters*4,dropout_prob=0, max_pooling=True)\n",
        "  cblock4 = EncoderMiniBlock(cblock3[0], n_filters*8,dropout_prob=dropout_prob, max_pooling=True)\n",
        "  cblock5 = EncoderMiniBlock(cblock4[0], n_filters*16, dropout_prob=dropout_prob, max_pooling=False) \n",
        "\n",
        "  # Decoder includes multiple mini blocks with decreasing number of filters\n",
        "  # Skip connections from the encoder are given as input to the decoder\n",
        "  # Recall the 2nd output of encoder block was skip connection, hence cblockn[1] is used\n",
        "  ublock6 = DecoderMiniBlock(cblock5[0], cblock4[1],  n_filters * 8)\n",
        "  ublock7 = DecoderMiniBlock(ublock6, cblock3[1],  n_filters * 4)\n",
        "  ublock8 = DecoderMiniBlock(ublock7, cblock2[1],  n_filters * 2)\n",
        "  ublock9 = DecoderMiniBlock(ublock8, cblock1[1],  n_filters)\n",
        "\n",
        "  # Complete the model with 1 3x3 convolution layer (Same as the prev Conv Layers)\n",
        "  # Followed by a 1x1 Conv layer to get the image to the desired size. \n",
        "  # Observe the number of channels will be equal to number of output classes\n",
        "  conv9 = Conv2D(n_filters, (3,3), activation='relu', padding='same', kernel_initializer='he_normal')(ublock9)\n",
        "\n",
        "  conv10 = Conv2D(n_classes, (1,1), padding='same', activation = 'sigmoid')(conv9)\n",
        "  # This layer produces the final image output, representing the predicted probabilities for each pixel.\n",
        "  # The sigmoid activation function is used to ensure the output values are between 0 and 1, representing the class probabilities.\n",
        "\n",
        "  # Define the model\n",
        "  model = Model(inputs=inputs, outputs=conv10,name = 'UNET')\n",
        "  model.compile(optimizer='adam', loss='binary_crossentropy', metrics=['accuracy'])\n",
        "  return model"
      ]
    },
    {
      "cell_type": "markdown",
      "metadata": {
        "id": "AP2b3S8pJCp_",
        "jp-MarkdownHeadingCollapsed": true,
        "tags": []
      },
      "source": [
        "#### Loading and training the UNET model without augmented images"
      ]
    },
    {
      "cell_type": "code",
      "execution_count": null,
      "metadata": {
        "id": "bV7FKFsP2aTE"
      },
      "outputs": [],
      "source": [
        "# Define the model\n",
        "unet = Unet()\n",
        "\n",
        "# Getting images\n",
        "imgs = img('normal')\n",
        "\n",
        "# Train the model\n",
        "h_unet = unet.fit(imgs[0],imgs[1],epochs=15, batch_size=5, validation_data = (imgs[2],imgs[3]))\n",
        "\n",
        "# Storing the history\n",
        "model_histories['unet'] = h_unet\n",
        "\n",
        "# Plotting the accuracy and loss for train and validation data\n",
        "# acc_loss_plot(h_unet)"
      ]
    },
    {
      "cell_type": "code",
      "execution_count": null,
      "metadata": {
        "id": "k3bo_WIuJCqA"
      },
      "outputs": [],
      "source": [
        "# Plotting the ROC curve\n",
        "tprs,fprs = roc_curve(unet,processed_val_images,processed_val_labels)\n",
        "models['unet'] = [unet,tprs,fprs]"
      ]
    },
    {
      "cell_type": "code",
      "execution_count": null,
      "metadata": {
        "id": "B9cOfHNYb_Wk"
      },
      "outputs": [],
      "source": [
        "# Generating model scores on validation images with best threshold\n",
        "# model_score(unet,processed_val_images,processed_val_labels,tprs,fprs)"
      ]
    },
    {
      "cell_type": "code",
      "execution_count": null,
      "metadata": {
        "id": "93GvVERDJCqA"
      },
      "outputs": [],
      "source": [
        "# Predictions on the test set\n",
        "# test_predictions(unet,processed_test_images,tprs,fprs)"
      ]
    },
    {
      "cell_type": "code",
      "execution_count": null,
      "metadata": {
        "id": "yFFCMQSmRlKk"
      },
      "outputs": [],
      "source": [
        "# Observing the results of 5-fold Cross_Validation with Normal Images\n",
        "# cv_unet = UNet()\n",
        "# cv(cv_unet, 5,'normal')"
      ]
    },
    {
      "cell_type": "markdown",
      "metadata": {
        "id": "SBiKg7PkJCqA",
        "jp-MarkdownHeadingCollapsed": true,
        "tags": []
      },
      "source": [
        "#### Loading and training the CNN model with augmented images"
      ]
    },
    {
      "cell_type": "code",
      "execution_count": null,
      "metadata": {
        "id": "jYh9GTMCJCqA"
      },
      "outputs": [],
      "source": [
        "# Define the model\n",
        "aug_unet = Unet()\n",
        "\n",
        "# Getting images\n",
        "imgs = img('augmented')\n",
        "\n",
        "# Train the model\n",
        "h_aug_unet = aug_unet.fit(imgs[0],imgs[1],epochs=15, batch_size=5, validation_data = (imgs[2],imgs[3]))\n",
        "\n",
        "# Storing the history\n",
        "model_histories['aug_unet'] = h_aug_unet\n",
        "\n",
        "# Plotting the accuracy and loss for train and validation data\n",
        "# acc_loss_plot(h_aug_unet)"
      ]
    },
    {
      "cell_type": "code",
      "execution_count": null,
      "metadata": {
        "id": "5H0c3DGZJCqB"
      },
      "outputs": [],
      "source": [
        "# Plotting the ROC curve\n",
        "tprs,fprs = roc_curve(aug_unet,processed_val_images,processed_val_labels)\n",
        "models['aug_unet'] = [aug_unet,tprs,fprs]"
      ]
    },
    {
      "cell_type": "code",
      "execution_count": null,
      "metadata": {
        "id": "HbmI0MR5cOAk"
      },
      "outputs": [],
      "source": [
        "# Generating model scores on validation images with best threshold\n",
        "# model_score(aug_unet,processed_val_images,processed_val_labels,tprs,fprs)"
      ]
    },
    {
      "cell_type": "code",
      "execution_count": null,
      "metadata": {
        "id": "HjigjHh_JCqB"
      },
      "outputs": [],
      "source": [
        "# Predictions on the test set\n",
        "# test_predictions(aug_unet,processed_test_images,tprs,fprs)"
      ]
    },
    {
      "cell_type": "code",
      "execution_count": null,
      "metadata": {
        "id": "Xt8T14eNR3nk"
      },
      "outputs": [],
      "source": [
        "# Observing the results of 5-fold Cross_Validation with Augmented Images\n",
        "# cv_unet = UNet()\n",
        "# cv(cv_unet, 5,'augmented')"
      ]
    },
    {
      "cell_type": "markdown",
      "metadata": {
        "id": "2laXwHDO-Wv_",
        "jp-MarkdownHeadingCollapsed": true,
        "tags": []
      },
      "source": [
        "### Fine Tuned VGG16 and combined with Unet"
      ]
    },
    {
      "cell_type": "code",
      "execution_count": null,
      "metadata": {
        "id": "LbtRUUCTIZii"
      },
      "outputs": [],
      "source": [
        "conv1 = ['block1_conv1','block1_conv2']\n",
        "conv2 = ['block2_conv1','block2_conv2']\n",
        "conv3 = ['block3_conv1','block3_conv2','block3_conv3']\n",
        "conv4 = ['block4_conv1','block4_conv2','block4_conv3']\n",
        "conv5 = ['block5_conv1','block5_conv2','block5_conv3']\n",
        "pool1 = ['block1_pool']\n",
        "pool2 = ['block2_pool']\n",
        "pool3 = ['block3_pool']\n",
        "pool4 = ['block4_pool']\n",
        "pool5 = ['block5_pool']\n",
        "\n",
        "## Observing the layers of the model\n",
        "# VGG16 = vgg16.VGG16(include_top = False, weights = 'imagenet',input_shape = (224,224,3))\n",
        "# train_layers =  conv5 \n",
        "# non_train_layers = ['input_21']+pool1 + pool2 + pool3 + pool4 + pool5+conv1 + conv2  + conv3 + conv4\n",
        "# for layer in VGG16.layers:\n",
        "#   if layer.name in train_layers:\n",
        "#     layer.trainable = True\n",
        "#   if layer.name in non_train_layers:\n",
        "#     layer.trainable = False\n",
        "# layers = [(layer, layer.name, layer.trainable,layer.output.shape) for layer in VGG16.layers]\n",
        "# pd.DataFrame(layers, columns=['Layer Type', 'Layer Name', 'Layer Trainable', 'Layer Op'])"
      ]
    },
    {
      "cell_type": "code",
      "execution_count": null,
      "metadata": {
        "id": "7TTgRYuhVpTL"
      },
      "outputs": [],
      "source": [
        "# def DecoderMiniBlock(prev_layer_input, skip_layer_input, n_filters=32):\n",
        "#   up = Conv2DTranspose(n_filters, (3, 3), \n",
        "#                        strides=(2, 2),\n",
        "#                        padding='same',\n",
        "#                        activation=LeakyReLU(0.1), \n",
        "#                        kernel_initializer='he_normal')(prev_layer_input)\n",
        "#   up = BatchNormalization()(up)\n",
        "#   merge = concatenate([up, skip_layer_input],axis = 3)\n",
        "#   conv = Conv2D(n_filters, \n",
        "#                 3,  \n",
        "#                 activation='relu',\n",
        "#                 padding='same',\n",
        "#                 kernel_initializer='HeNormal')(merge)\n",
        "#   conv = Conv2D(n_filters,\n",
        "#                 3, \n",
        "#                 activation='relu',\n",
        "#                 padding='same',\n",
        "#                 kernel_initializer='HeNormal')(conv)\n",
        "#   return conv\n",
        "def DecoderMiniBlock(prev_layer_input, skip_layer_input, n_filters:int=32):\n",
        "  '''\n",
        "  Return the encoding blocks to UNET architecture\n",
        "  @param: prev_layer_input:  A prev layer architecture\n",
        "  @param: skip_layer_input: Conv Layers to be linked to Transpose layer\n",
        "  @param: n_filtes: Number of filters to be used in transpose and conv layers\n",
        "  '''\n",
        "  up = Conv2DTranspose(n_filters, (3,3), strides=(2,2), padding='same')(prev_layer_input)\n",
        "  up = BatchNormalization()(up)\n",
        "  merge = concatenate([up, skip_layer_input],axis = 3)\n",
        "  conv = Conv2D(n_filters, (3,3), activation='relu', padding='same', kernel_initializer='HeNormal')(merge)\n",
        "  conv = Conv2D(n_filters, (3,3), activation='relu', padding='same', kernel_initializer='HeNormal')(conv)\n",
        "  return conv"
      ]
    },
    {
      "cell_type": "code",
      "execution_count": null,
      "metadata": {
        "id": "dAn1cw2MAXa4"
      },
      "outputs": [],
      "source": [
        "def Vgg_Unet(input_size=(224, 224, 3), n_filters=16, n_classes=1,dropout_prob = 0):\n",
        "  '''\n",
        "  Returns a VGG Unet Architecture Model\n",
        "  @param: input_size: input size of image\n",
        "  @param: n_filters: Number of filters to be used in architecture layers\n",
        "  @param: n_classes: Total Classes to be predicted\n",
        "  @param: dropout_prob: Dropout probabilities\n",
        "  '''\n",
        "\n",
        "  # Loading a pretrained VGG 16 model\n",
        "  VGG16 = vgg16.VGG16(include_top = False, weights = 'imagenet',input_shape = input_size)\n",
        "  last_layer = VGG16.output\n",
        "\n",
        "  # Defining which layers to train and which not to, since we have less images it's a good strategy to freeze the initial layers and only fine tune the last layer.\n",
        "  train_layers =  conv5 \n",
        "  non_train_layers = ['input_21'] + pool1 + pool2 + pool3 + pool4 + pool5+conv1 + conv2  + conv3 + conv4\n",
        "\n",
        "  for layer in VGG16.layers:\n",
        "    if layer.name in train_layers:\n",
        "      layer.trainable = True\n",
        "    if layer.name in non_train_layers:\n",
        "      layer.trainable = False\n",
        "  \n",
        "  # Extending the VGG16 via unet's decoder block, similar to UNET Decoder Architecture Explanation.\n",
        "  last_layer = VGG16.output\n",
        "  unet = DecoderMiniBlock(last_layer,VGG16.get_layer(\"block5_conv3\").output, n_filters*32)\n",
        "  unet = DecoderMiniBlock(unet,VGG16.get_layer(\"block4_conv3\").output, n_filters*32)\n",
        "  unet = DecoderMiniBlock(unet,VGG16.get_layer(\"block3_conv3\").output, n_filters*16)\n",
        "  unet = DecoderMiniBlock(unet,VGG16.get_layer(\"block2_conv2\").output, n_filters*8)\n",
        "  unet = DecoderMiniBlock(unet,VGG16.get_layer(\"block1_conv2\").output, n_filters*4)\n",
        "\n",
        "  # Adding few final conv layers to get image output with the same size as that of the labels\n",
        "  conv9 = Conv2D(n_filters*2, (3,3), activation='relu', padding='same', kernel_initializer='he_normal')(unet)\n",
        "  conv10 = Conv2D(n_filters, (3,3), activation='relu', padding='same', kernel_initializer='he_normal')(conv9)\n",
        "\n",
        "  conv11 = Conv2D(n_classes, (1,1), activation='sigmoid', padding='same', kernel_initializer='he_normal')(conv10)\n",
        "  # This layer produces the final image output, representing the predicted probabilities for each pixel.\n",
        "  # The sigmoid activation function is used to ensure the output values are between 0 and 1, representing the class probabilities.\n",
        "\n",
        "  model = Model(VGG16.input, conv11)\n",
        "  model.compile(optimizer='adam', loss='binary_crossentropy', metrics=['accuracy'])\n",
        "  return model"
      ]
    },
    {
      "cell_type": "markdown",
      "metadata": {
        "id": "9qizGuVOJCqC",
        "jp-MarkdownHeadingCollapsed": true,
        "tags": []
      },
      "source": [
        "#### Loading and training the VGG combined with UNET model without augmented images"
      ]
    },
    {
      "cell_type": "code",
      "execution_count": null,
      "metadata": {
        "id": "X1zQpq0TAXzf"
      },
      "outputs": [],
      "source": [
        "# Define the model\n",
        "vgg_unet = Vgg_Unet()\n",
        "\n",
        "# Getting images\n",
        "imgs = img('normal')\n",
        "\n",
        "# Train the model\n",
        "h_vgg_unet = vgg_unet.fit(imgs[0],imgs[1],epochs=15, batch_size=5, validation_data = (imgs[2],imgs[3]))\n",
        "\n",
        "# Storing the history\n",
        "model_histories['vgg_unet'] = h_vgg_unet\n",
        "# Plotting the accuracy and loss for train and validation data\n",
        "# acc_loss_plot(h_vgg_unet)"
      ]
    },
    {
      "cell_type": "code",
      "execution_count": null,
      "metadata": {
        "id": "0c08ExTNOAx3"
      },
      "outputs": [],
      "source": [
        "# from tensorflow.keras.utils import plot_model\n",
        "# plot_model(vgg_unet, to_file='UNET with VGG16.png', show_shapes=True, rankdir='TB')\n",
        "# layers = [(layer, layer.name, layer.trainable,layer.output.shape) for layer in vgg_unet.layers]\n",
        "# pd.DataFrame(layers, columns=['Layer Type', 'Layer Name', 'Layer Trainable', 'Layer Op'])"
      ]
    },
    {
      "cell_type": "code",
      "execution_count": null,
      "metadata": {
        "id": "yhgWAgohxV0O"
      },
      "outputs": [],
      "source": [
        "# Plotting the ROC curve\n",
        "tprs,fprs = roc_curve(vgg_unet,processed_val_images,processed_val_labels)\n",
        "models['vgg_unet'] = [vgg_unet,tprs,fprs]"
      ]
    },
    {
      "cell_type": "code",
      "execution_count": null,
      "metadata": {
        "id": "U8ZPZm0VcwaU"
      },
      "outputs": [],
      "source": [
        "# Generating model scores on validation images with best threshold\n",
        "# model_score(vgg_unet,processed_val_images,processed_val_labels,tprs,fprs)"
      ]
    },
    {
      "cell_type": "code",
      "execution_count": null,
      "metadata": {
        "id": "hI2i7IDrx2Fu"
      },
      "outputs": [],
      "source": [
        "# Predictions on the test set\n",
        "# test_predictions(vgg_unet,processed_test_images,tprs,fprs)"
      ]
    },
    {
      "cell_type": "code",
      "execution_count": null,
      "metadata": {
        "id": "Yu0Lcq2sTlae"
      },
      "outputs": [],
      "source": [
        "# Observing the results of 5-fold Cross_Validation with Normal Images\n",
        "# cv_vgg_unet = Vgg_Unet()\n",
        "# cv(vgg_unet, 5,'normal')"
      ]
    },
    {
      "cell_type": "markdown",
      "metadata": {
        "id": "MtdpAD5fJCqD",
        "jp-MarkdownHeadingCollapsed": true,
        "tags": []
      },
      "source": [
        "#### Loading and training the VGG combined with UNET model with augmented images"
      ]
    },
    {
      "cell_type": "code",
      "execution_count": null,
      "metadata": {
        "id": "6YI6cnrwyvkD"
      },
      "outputs": [],
      "source": [
        "# Define the model\n",
        "aug_vgg_unet = Vgg_Unet()\n",
        "\n",
        "# Getting images\n",
        "imgs = img('augmented')\n",
        "\n",
        "# Train the model\n",
        "h_aug_vgg_unet = aug_vgg_unet.fit(imgs[0],imgs[1],epochs=15, batch_size=5, validation_data = (imgs[2],imgs[3]))\n",
        "\n",
        "# Storing the history\n",
        "model_histories['aug_vgg_unet'] = h_aug_vgg_unet\n",
        "\n",
        "# Plotting the accuracy and loss for train and validation data\n",
        "# acc_loss_plot(h_aug_vgg_unet)"
      ]
    },
    {
      "cell_type": "code",
      "execution_count": null,
      "metadata": {
        "id": "uf-622q6zMaI"
      },
      "outputs": [],
      "source": [
        "# Plotting the ROC curve\n",
        "tprs,fprs = roc_curve(aug_vgg_unet,processed_val_images,processed_val_labels)\n",
        "models['aug_vgg_unet'] = [aug_vgg_unet,tprs,fprs]"
      ]
    },
    {
      "cell_type": "code",
      "execution_count": null,
      "metadata": {
        "id": "12XFm5lQdxyH"
      },
      "outputs": [],
      "source": [
        "# Generating model scores on validation images with best threshold\n",
        "# model_score(aug_vgg_unet,processed_val_images,processed_val_labels,tprs,fprs)"
      ]
    },
    {
      "cell_type": "code",
      "execution_count": null,
      "metadata": {
        "id": "oc_Nbv7Zzxtj"
      },
      "outputs": [],
      "source": [
        "# Predictions on the test set\n",
        "# test_predictions(aug_vgg_unet,processed_test_images,tprs,fprs)"
      ]
    },
    {
      "cell_type": "code",
      "execution_count": null,
      "metadata": {
        "id": "1gcP6hDCTzTM"
      },
      "outputs": [],
      "source": [
        "# Observing the results of 5-fold Cross_Validation with Augmented Images\n",
        "# cv_vgg_unet = Vgg_Unet()\n",
        "# cv(cv_vgg_unet, 5,'augmented')"
      ]
    },
    {
      "cell_type": "markdown",
      "metadata": {
        "id": "NYW6YDIf6tnC",
        "jp-MarkdownHeadingCollapsed": true,
        "tags": []
      },
      "source": [
        "### Fine Tuned MobileNet and combined with Unet"
      ]
    },
    {
      "cell_type": "code",
      "execution_count": null,
      "metadata": {
        "id": "PhVOyl7FmVU3"
      },
      "outputs": [],
      "source": [
        "def mobunet_model(input_size=(224, 224, 3), n_filters=16, n_classes=1,dropout_prob = 0):\n",
        "  '''\n",
        "  Returns a MobUnet Architecture Model\n",
        "  @param: input_size: input size of image\n",
        "  @param: n_filters: Number of filters to be used in architecture layers\n",
        "  @param: n_classes: Total Classes to be predicted\n",
        "  @param: dropout_prob: Dropout probabilities\n",
        "  '''  \n",
        "  # Using a pretrained mobileNet V2 architecture\n",
        "  base_model = MobileNetV2(input_shape=[224, 224, 3], include_top=False)\n",
        "\n",
        "  # Specify the layers whose activations will be used as skip connections\n",
        "  layer_names = [\n",
        "        'block_1_expand_relu',   # 64x64\n",
        "        'block_3_expand_relu',   # 32x32\n",
        "        'block_6_expand_relu',   # 16x16\n",
        "        'block_13_expand_relu',  # 8x8\n",
        "        'block_16_project',      # 4x4\n",
        "    ]\n",
        "  \n",
        "  # Retrieve the output tensors of the specified layers\n",
        "  base_model_outputs = [base_model.get_layer(name).output for name in layer_names]\n",
        "\n",
        "  # Create the feature extraction model\n",
        "  down_stack = tf.keras.Model(inputs=base_model.input, outputs=base_model_outputs)\n",
        "  down_stack.trainable = False\n",
        "\n",
        "  # Define the upsampling layers\n",
        "  up_stack = [\n",
        "        pix2pix.upsample(512, 3),  # 4x4 -> 8x8\n",
        "        pix2pix.upsample(256, 3),  # 8x8 -> 16x16\n",
        "        pix2pix.upsample(128, 3),  # 16x16 -> 32x32\n",
        "        pix2pix.upsample(64, 3),   # 32x32 -> 64x64\n",
        "    ]\n",
        "\n",
        "  # Define the input layer\n",
        "  inputs = Input(shape=input_size)\n",
        "\n",
        "  # Downsampling through the model\n",
        "  skips = down_stack(inputs)\n",
        "  x = skips[-1]\n",
        "  skips = reversed(skips[:-1])\n",
        "\n",
        "  # Upsampling and establishing the skip connections\n",
        "  for up, skip in zip(up_stack, skips):\n",
        "    x = up(x)\n",
        "    concat = tf.keras.layers.Concatenate()\n",
        "    x = concat([x, skip])\n",
        "\n",
        "  # Append another Conv2DTranspose layer with appropriate parameters\n",
        "  x = tf.keras.layers.Conv2DTranspose(filters=64, kernel_size=(3,3), strides=2, padding='same')(x)\n",
        "\n",
        "  x = tf.keras.layers.Conv2D( filters=n_classes, kernel_size=(1,1), strides=1, padding='valid')(x)\n",
        "    \n",
        "  \n",
        "  # Apply sigmoid activation function to obtain pixel-wise probabilities\n",
        "  x = tf.keras.activations.sigmoid(x)\n",
        "\n",
        "  x = Model(inputs = inputs, outputs = x)\n",
        "  x.compile(optimizer='adam', loss='binary_crossentropy', metrics=['accuracy'])\n",
        "  return x"
      ]
    },
    {
      "cell_type": "markdown",
      "metadata": {
        "id": "Zs7oo9zTJCqF",
        "jp-MarkdownHeadingCollapsed": true,
        "tags": []
      },
      "source": [
        "#### Loading and training the MobileNet combined with UNET model without augmented images"
      ]
    },
    {
      "cell_type": "code",
      "execution_count": null,
      "metadata": {
        "id": "wzu8S8VFJCqF"
      },
      "outputs": [],
      "source": [
        "# Define the model\n",
        "mob_unet = mobunet_model()\n",
        "\n",
        "# Getting images\n",
        "imgs = img('normal')\n",
        "\n",
        "# Train the model\n",
        "h_mob_unet = mob_unet.fit(imgs[0],imgs[1],epochs=15, batch_size=5, validation_data = (imgs[2],imgs[3]))\n",
        "\n",
        "# Storing the History\n",
        "model_histories['mob_unet'] = h_mob_unet\n",
        "\n",
        "# Plotting the accuracy and loss for train and validation data\n",
        "# acc_loss_plot(h_mob_unet)"
      ]
    },
    {
      "cell_type": "code",
      "execution_count": null,
      "metadata": {
        "id": "COUMXyu2KVgV"
      },
      "outputs": [],
      "source": [
        "# from tensorflow.keras.utils import plot_model\n",
        "# plot_model(mob_unet, to_file='UNET_Mob.png', show_shapes=True, rankdir='TB')\n",
        "# layers = [(layer, layer.name, layer.trainable,layer.output) for layer in mob_unet.layers]\n",
        "# pd.DataFrame(layers, columns=['Layer Type', 'Layer Name', 'Layer Trainable', 'Layer Op'])"
      ]
    },
    {
      "cell_type": "code",
      "execution_count": null,
      "metadata": {
        "id": "_6_yi9BX1CAt"
      },
      "outputs": [],
      "source": [
        "# Plotting the ROC curve\n",
        "tprs,fprs = roc_curve(mob_unet,processed_val_images,processed_val_labels)\n",
        "models['mob_unet'] = [mob_unet,tprs,fprs]"
      ]
    },
    {
      "cell_type": "code",
      "execution_count": null,
      "metadata": {
        "id": "xMGyNKwC1UcA"
      },
      "outputs": [],
      "source": [
        "# Predictions on the test set\n",
        "# test_predictions(mob_unet,processed_test_images,tprs,fprs)"
      ]
    },
    {
      "cell_type": "code",
      "execution_count": null,
      "metadata": {
        "id": "S7ljupJIUOaW"
      },
      "outputs": [],
      "source": [
        "# Observing the results of 5-fold Cross_Validation with Normal Images\n",
        "# cv_mob_unet = mobunet_model()\n",
        "# cv(cv_mob_unet, 5,'normal')"
      ]
    },
    {
      "cell_type": "markdown",
      "metadata": {
        "id": "m1iYE29BJCqG",
        "jp-MarkdownHeadingCollapsed": true,
        "tags": []
      },
      "source": [
        "#### Loading and training the MobileNet combined with UNET model with augmented images"
      ]
    },
    {
      "cell_type": "code",
      "execution_count": null,
      "metadata": {
        "id": "asbyHfJO2YZn"
      },
      "outputs": [],
      "source": [
        "# Define the model\n",
        "aug_mob_unet = mobunet_model()\n",
        "\n",
        "# Getting images\n",
        "imgs = img('augmented')\n",
        "\n",
        "# Train the model\n",
        "h_aug_mob_unet = aug_mob_unet.fit(imgs[0],imgs[1],epochs=15, batch_size=5, validation_data = (imgs[2],imgs[3]))\n",
        "\n",
        "# Storing the History\n",
        "model_histories['aug_mob_unet'] = h_aug_mob_unet\n",
        "\n",
        "# Plotting the accuracy and loss for train and validation data\n",
        "# acc_loss_plot(h_aug_mob_unet)"
      ]
    },
    {
      "cell_type": "code",
      "execution_count": null,
      "metadata": {
        "id": "wfKCmOAXBRx9"
      },
      "outputs": [],
      "source": [
        "# Plotting the ROC curve and storing model with it's metrics\n",
        "tprs,fprs = roc_curve(aug_mob_unet,processed_val_images,processed_val_labels)\n",
        "models['aug_mob_unet'] = [aug_mob_unet,tprs,fprs]"
      ]
    },
    {
      "cell_type": "code",
      "execution_count": null,
      "metadata": {
        "id": "uhWXGhN-fERU"
      },
      "outputs": [],
      "source": [
        "# Generating model scores on validation images with best threshold\n",
        "# model_score(aug_mob_unet,processed_val_images,processed_val_labels,tprs,fprs)"
      ]
    },
    {
      "cell_type": "code",
      "execution_count": null,
      "metadata": {
        "id": "mHZAiEG92uQt"
      },
      "outputs": [],
      "source": [
        "# Predictions on the test set\n",
        "# test_predictions(aug_mob_unet,processed_test_images,tprs,fprs)"
      ]
    },
    {
      "cell_type": "code",
      "execution_count": null,
      "metadata": {
        "id": "pmDwidxGUdvy"
      },
      "outputs": [],
      "source": [
        "# Observing the results of 5-fold Cross_Validation with Augmented Images\n",
        "# cv_mob_unet = mobunet_model()\n",
        "# cv(cv_mob_unet, 5,'augmented')"
      ]
    },
    {
      "cell_type": "markdown",
      "metadata": {
        "id": "LVvwTu0VloSU",
        "tags": []
      },
      "source": [
        "## Final Observations & Take Aways"
      ]
    },
    {
      "cell_type": "code",
      "execution_count": null,
      "metadata": {
        "id": "gTTqhn0VloSU"
      },
      "outputs": [],
      "source": [
        "joint_plots(model_histories)"
      ]
    },
    {
      "cell_type": "code",
      "execution_count": null,
      "metadata": {
        "id": "w_0hskSRiozL"
      },
      "outputs": [],
      "source": [
        "joint_roc(models)"
      ]
    },
    {
      "cell_type": "code",
      "execution_count": null,
      "metadata": {
        "id": "m9Zjbf4rzZdI"
      },
      "outputs": [],
      "source": [
        "joint_preds(models)"
      ]
    },
    {
      "cell_type": "code",
      "source": [
        "joint_metrics(models)"
      ],
      "metadata": {
        "id": "k2DXScjVzmsA"
      },
      "execution_count": null,
      "outputs": []
    }
  ],
  "metadata": {
    "accelerator": "GPU",
    "colab": {
      "collapsed_sections": [
        "Fd1amPZscNbB",
        "ZjloPmupPd7Y",
        "Ko9iIW6GJCp5",
        "OR0xMSJKP4DC",
        "n64jFX78JCp6"
      ],
      "provenance": [],
      "include_colab_link": true
    },
    "gpuClass": "standard",
    "kernelspec": {
      "display_name": "Python 3 (ipykernel)",
      "language": "python",
      "name": "python3"
    },
    "language_info": {
      "codemirror_mode": {
        "name": "ipython",
        "version": 3
      },
      "file_extension": ".py",
      "mimetype": "text/x-python",
      "name": "python",
      "nbconvert_exporter": "python",
      "pygments_lexer": "ipython3",
      "version": "3.11.3"
    }
  },
  "nbformat": 4,
  "nbformat_minor": 0
}