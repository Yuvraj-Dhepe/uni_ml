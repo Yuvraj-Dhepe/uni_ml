{
 "cells": [
  {
   "attachments": {},
   "cell_type": "markdown",
   "metadata": {},
   "source": [
    "# Evaluation of Segmentation Datasets"
   ]
  },
  {
   "cell_type": "code",
   "execution_count": null,
   "metadata": {},
   "outputs": [],
   "source": [
    "import fiftyone as fo\n",
    "import fiftyone.zoo as foz"
   ]
  },
  {
   "attachments": {},
   "cell_type": "markdown",
   "metadata": {},
   "source": [
    "Download images with apples that have been annotated with masks for segmentation tasks."
   ]
  },
  {
   "cell_type": "code",
   "execution_count": null,
   "metadata": {},
   "outputs": [],
   "source": [
    "dataset_name = \"open-images-apples-validset\"\n",
    "\n",
    "try:\n",
    "    # Load previously downloaded dataset.\n",
    "    dataset = fo.load_dataset(dataset_name).delete()\n",
    "except Exception:\n",
    "    dataset = foz.load_zoo_dataset(\n",
    "        \"open-images-v7\",\n",
    "        split=\"validation\",\n",
    "        label_types=[\"segmentations\"],\n",
    "        classes = [\"Apple\"],\n",
    "        max_samples=100,\n",
    "        seed=51,\n",
    "        shuffle=True,\n",
    "        dataset_name=dataset_name,\n",
    "    )"
   ]
  },
  {
   "attachments": {},
   "cell_type": "markdown",
   "metadata": {},
   "source": [
    "Visualize the dataset with FiftyOne."
   ]
  },
  {
   "cell_type": "code",
   "execution_count": null,
   "metadata": {},
   "outputs": [],
   "source": [
    "session = fo.launch_app(dataset.view())"
   ]
  },
  {
   "attachments": {},
   "cell_type": "markdown",
   "metadata": {},
   "source": [
    "## Tasks\n",
    "\n",
    "1. Write code that finds instances where the masks overlap and visualize\n",
    "   some positive and negative cases.\n",
    "2. Remove images that also show objects that are not labeled as apple.\n",
    "3. Which model would you use to train an instance segmentation model for this dataset and which\n",
    "   steps are necessary to train it?\n"
   ]
  }
 ],
 "metadata": {
  "kernelspec": {
   "display_name": "open-images-instance-segmentation",
   "language": "python",
   "name": "python3"
  },
  "language_info": {
   "codemirror_mode": {
    "name": "ipython",
    "version": 3
   },
   "file_extension": ".py",
   "mimetype": "text/x-python",
   "name": "python",
   "nbconvert_exporter": "python",
   "pygments_lexer": "ipython3",
   "version": "3.11.3"
  },
  "orig_nbformat": 4
 },
 "nbformat": 4,
 "nbformat_minor": 2
}
