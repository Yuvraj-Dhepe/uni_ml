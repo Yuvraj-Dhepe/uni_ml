{
 "cells": [
  {
   "cell_type": "markdown",
   "metadata": {
    "id": "lY6Srt5R1li0"
   },
   "source": [
    "# Linear Regression\n",
    "\n",
    "In this tutorial we will implement a linear regression model. We will also implement a function that splits the available data into a training and a testing part.\n",
    "\n",
    "## Problem Setting\n",
    "\n",
    "We will use the Boston Housing Dataset. This dataset contains information collected by the U.S Census Service concerning housing in the city of Boston in the state of Massachusetts in 1978. Our goal is to predict the median value of the houses in a particular town in the city of Boston given its attributes. Check the file ’housing_features_description.txt’ for more information on the attributes."
   ]
  },
  {
   "cell_type": "code",
   "execution_count": 95,
   "metadata": {
    "id": "kHxSLZ7w1li1",
    "scrolled": true,
    "tags": []
   },
   "outputs": [
    {
     "name": "stdout",
     "output_type": "stream",
     "text": [
      "The autoreload extension is already loaded. To reload it, use:\n",
      "  %reload_ext autoreload\n"
     ]
    }
   ],
   "source": [
    "import urllib\n",
    "import pandas as pd\n",
    "import numpy as np\n",
    "import matplotlib.pyplot as plt\n",
    "import seaborn as sns\n",
    "from sklearn.model_selection import train_test_split\n",
    "# for auto-reloading external modules\n",
    "# see http://stackoverflow.com/questions/1907993/autoreload-of-modules-in-ipython\n",
    "%load_ext autoreload\n",
    "%autoreload 2\n",
    "\n",
    "### NOTE: The boston dataset has an ethical problem. More on this can e.g. be found in the scikit documentation. ###\n",
    "### Summary: The dataset contains the proportion of black people, which was assumed that racial self-segregation had a positive impact on house prices. ###\n",
    "\n",
    "\n",
    "data_url = \"http://lib.stat.cmu.edu/datasets/boston\"\n",
    "raw_df = pd.read_csv(data_url, sep=\"\\s+\", skiprows=22, header=None)\n",
    "boston_data = np.hstack([raw_df.values[::2, :], raw_df.values[1::2, :2]])\n",
    "boston_target = raw_df.values[1::2, 2]\n",
    "\n",
    "df=pd.DataFrame(boston_data)\n",
    "df.columns=['crime_rate','res_land_zoned','industry','charles_river','nox','avg_num_rooms','prop_bf_1940','dst_emply_center','rd_highway_idx','tax_rate','stdnt_tchr_ratio','prop_blacks','low_status_pct']\n",
    "\n",
    "target = pd.DataFrame(boston_target,columns=[\"Price\"])\n",
    "X=boston_data\n",
    "y=boston_target"
   ]
  },
  {
   "cell_type": "code",
   "execution_count": 91,
   "metadata": {
    "id": "BkyIMHZN1li3",
    "tags": []
   },
   "outputs": [
    {
     "data": {
      "text/html": [
       "<div>\n",
       "<style scoped>\n",
       "    .dataframe tbody tr th:only-of-type {\n",
       "        vertical-align: middle;\n",
       "    }\n",
       "\n",
       "    .dataframe tbody tr th {\n",
       "        vertical-align: top;\n",
       "    }\n",
       "\n",
       "    .dataframe thead th {\n",
       "        text-align: right;\n",
       "    }\n",
       "</style>\n",
       "<table border=\"1\" class=\"dataframe\">\n",
       "  <thead>\n",
       "    <tr style=\"text-align: right;\">\n",
       "      <th></th>\n",
       "      <th>crime_rate</th>\n",
       "      <th>res_land_zoned</th>\n",
       "      <th>industry</th>\n",
       "      <th>charles_river</th>\n",
       "      <th>nox</th>\n",
       "      <th>avg_num_rooms</th>\n",
       "      <th>prop_bf_1940</th>\n",
       "      <th>dst_emply_center</th>\n",
       "      <th>rd_highway_idx</th>\n",
       "      <th>tax_rate</th>\n",
       "      <th>stdnt_tchr_ratio</th>\n",
       "      <th>prop_blacks</th>\n",
       "      <th>low_status_pct</th>\n",
       "    </tr>\n",
       "  </thead>\n",
       "  <tbody>\n",
       "    <tr>\n",
       "      <th>0</th>\n",
       "      <td>0.00632</td>\n",
       "      <td>18.0</td>\n",
       "      <td>2.31</td>\n",
       "      <td>0.0</td>\n",
       "      <td>0.538</td>\n",
       "      <td>6.575</td>\n",
       "      <td>65.2</td>\n",
       "      <td>4.0900</td>\n",
       "      <td>1.0</td>\n",
       "      <td>296.0</td>\n",
       "      <td>15.3</td>\n",
       "      <td>396.90</td>\n",
       "      <td>4.98</td>\n",
       "    </tr>\n",
       "    <tr>\n",
       "      <th>1</th>\n",
       "      <td>0.02731</td>\n",
       "      <td>0.0</td>\n",
       "      <td>7.07</td>\n",
       "      <td>0.0</td>\n",
       "      <td>0.469</td>\n",
       "      <td>6.421</td>\n",
       "      <td>78.9</td>\n",
       "      <td>4.9671</td>\n",
       "      <td>2.0</td>\n",
       "      <td>242.0</td>\n",
       "      <td>17.8</td>\n",
       "      <td>396.90</td>\n",
       "      <td>9.14</td>\n",
       "    </tr>\n",
       "    <tr>\n",
       "      <th>2</th>\n",
       "      <td>0.02729</td>\n",
       "      <td>0.0</td>\n",
       "      <td>7.07</td>\n",
       "      <td>0.0</td>\n",
       "      <td>0.469</td>\n",
       "      <td>7.185</td>\n",
       "      <td>61.1</td>\n",
       "      <td>4.9671</td>\n",
       "      <td>2.0</td>\n",
       "      <td>242.0</td>\n",
       "      <td>17.8</td>\n",
       "      <td>392.83</td>\n",
       "      <td>4.03</td>\n",
       "    </tr>\n",
       "    <tr>\n",
       "      <th>3</th>\n",
       "      <td>0.03237</td>\n",
       "      <td>0.0</td>\n",
       "      <td>2.18</td>\n",
       "      <td>0.0</td>\n",
       "      <td>0.458</td>\n",
       "      <td>6.998</td>\n",
       "      <td>45.8</td>\n",
       "      <td>6.0622</td>\n",
       "      <td>3.0</td>\n",
       "      <td>222.0</td>\n",
       "      <td>18.7</td>\n",
       "      <td>394.63</td>\n",
       "      <td>2.94</td>\n",
       "    </tr>\n",
       "    <tr>\n",
       "      <th>4</th>\n",
       "      <td>0.06905</td>\n",
       "      <td>0.0</td>\n",
       "      <td>2.18</td>\n",
       "      <td>0.0</td>\n",
       "      <td>0.458</td>\n",
       "      <td>7.147</td>\n",
       "      <td>54.2</td>\n",
       "      <td>6.0622</td>\n",
       "      <td>3.0</td>\n",
       "      <td>222.0</td>\n",
       "      <td>18.7</td>\n",
       "      <td>396.90</td>\n",
       "      <td>5.33</td>\n",
       "    </tr>\n",
       "    <tr>\n",
       "      <th>...</th>\n",
       "      <td>...</td>\n",
       "      <td>...</td>\n",
       "      <td>...</td>\n",
       "      <td>...</td>\n",
       "      <td>...</td>\n",
       "      <td>...</td>\n",
       "      <td>...</td>\n",
       "      <td>...</td>\n",
       "      <td>...</td>\n",
       "      <td>...</td>\n",
       "      <td>...</td>\n",
       "      <td>...</td>\n",
       "      <td>...</td>\n",
       "    </tr>\n",
       "    <tr>\n",
       "      <th>501</th>\n",
       "      <td>0.06263</td>\n",
       "      <td>0.0</td>\n",
       "      <td>11.93</td>\n",
       "      <td>0.0</td>\n",
       "      <td>0.573</td>\n",
       "      <td>6.593</td>\n",
       "      <td>69.1</td>\n",
       "      <td>2.4786</td>\n",
       "      <td>1.0</td>\n",
       "      <td>273.0</td>\n",
       "      <td>21.0</td>\n",
       "      <td>391.99</td>\n",
       "      <td>9.67</td>\n",
       "    </tr>\n",
       "    <tr>\n",
       "      <th>502</th>\n",
       "      <td>0.04527</td>\n",
       "      <td>0.0</td>\n",
       "      <td>11.93</td>\n",
       "      <td>0.0</td>\n",
       "      <td>0.573</td>\n",
       "      <td>6.120</td>\n",
       "      <td>76.7</td>\n",
       "      <td>2.2875</td>\n",
       "      <td>1.0</td>\n",
       "      <td>273.0</td>\n",
       "      <td>21.0</td>\n",
       "      <td>396.90</td>\n",
       "      <td>9.08</td>\n",
       "    </tr>\n",
       "    <tr>\n",
       "      <th>503</th>\n",
       "      <td>0.06076</td>\n",
       "      <td>0.0</td>\n",
       "      <td>11.93</td>\n",
       "      <td>0.0</td>\n",
       "      <td>0.573</td>\n",
       "      <td>6.976</td>\n",
       "      <td>91.0</td>\n",
       "      <td>2.1675</td>\n",
       "      <td>1.0</td>\n",
       "      <td>273.0</td>\n",
       "      <td>21.0</td>\n",
       "      <td>396.90</td>\n",
       "      <td>5.64</td>\n",
       "    </tr>\n",
       "    <tr>\n",
       "      <th>504</th>\n",
       "      <td>0.10959</td>\n",
       "      <td>0.0</td>\n",
       "      <td>11.93</td>\n",
       "      <td>0.0</td>\n",
       "      <td>0.573</td>\n",
       "      <td>6.794</td>\n",
       "      <td>89.3</td>\n",
       "      <td>2.3889</td>\n",
       "      <td>1.0</td>\n",
       "      <td>273.0</td>\n",
       "      <td>21.0</td>\n",
       "      <td>393.45</td>\n",
       "      <td>6.48</td>\n",
       "    </tr>\n",
       "    <tr>\n",
       "      <th>505</th>\n",
       "      <td>0.04741</td>\n",
       "      <td>0.0</td>\n",
       "      <td>11.93</td>\n",
       "      <td>0.0</td>\n",
       "      <td>0.573</td>\n",
       "      <td>6.030</td>\n",
       "      <td>80.8</td>\n",
       "      <td>2.5050</td>\n",
       "      <td>1.0</td>\n",
       "      <td>273.0</td>\n",
       "      <td>21.0</td>\n",
       "      <td>396.90</td>\n",
       "      <td>7.88</td>\n",
       "    </tr>\n",
       "  </tbody>\n",
       "</table>\n",
       "<p>506 rows × 13 columns</p>\n",
       "</div>"
      ],
      "text/plain": [
       "     crime_rate  res_land_zoned  industry  charles_river    nox   \n",
       "0       0.00632            18.0      2.31            0.0  0.538  \\\n",
       "1       0.02731             0.0      7.07            0.0  0.469   \n",
       "2       0.02729             0.0      7.07            0.0  0.469   \n",
       "3       0.03237             0.0      2.18            0.0  0.458   \n",
       "4       0.06905             0.0      2.18            0.0  0.458   \n",
       "..          ...             ...       ...            ...    ...   \n",
       "501     0.06263             0.0     11.93            0.0  0.573   \n",
       "502     0.04527             0.0     11.93            0.0  0.573   \n",
       "503     0.06076             0.0     11.93            0.0  0.573   \n",
       "504     0.10959             0.0     11.93            0.0  0.573   \n",
       "505     0.04741             0.0     11.93            0.0  0.573   \n",
       "\n",
       "     avg_num_rooms  prop_bf_1940  dst_emply_center  rd_highway_idx  tax_rate   \n",
       "0            6.575          65.2            4.0900             1.0     296.0  \\\n",
       "1            6.421          78.9            4.9671             2.0     242.0   \n",
       "2            7.185          61.1            4.9671             2.0     242.0   \n",
       "3            6.998          45.8            6.0622             3.0     222.0   \n",
       "4            7.147          54.2            6.0622             3.0     222.0   \n",
       "..             ...           ...               ...             ...       ...   \n",
       "501          6.593          69.1            2.4786             1.0     273.0   \n",
       "502          6.120          76.7            2.2875             1.0     273.0   \n",
       "503          6.976          91.0            2.1675             1.0     273.0   \n",
       "504          6.794          89.3            2.3889             1.0     273.0   \n",
       "505          6.030          80.8            2.5050             1.0     273.0   \n",
       "\n",
       "     stdnt_tchr_ratio  prop_blacks  low_status_pct  \n",
       "0                15.3       396.90            4.98  \n",
       "1                17.8       396.90            9.14  \n",
       "2                17.8       392.83            4.03  \n",
       "3                18.7       394.63            2.94  \n",
       "4                18.7       396.90            5.33  \n",
       "..                ...          ...             ...  \n",
       "501              21.0       391.99            9.67  \n",
       "502              21.0       396.90            9.08  \n",
       "503              21.0       396.90            5.64  \n",
       "504              21.0       393.45            6.48  \n",
       "505              21.0       396.90            7.88  \n",
       "\n",
       "[506 rows x 13 columns]"
      ]
     },
     "execution_count": 91,
     "metadata": {},
     "output_type": "execute_result"
    }
   ],
   "source": [
    "df"
   ]
  },
  {
   "cell_type": "code",
   "execution_count": 4,
   "metadata": {
    "tags": []
   },
   "outputs": [
    {
     "data": {
      "text/html": [
       "<div>\n",
       "<style scoped>\n",
       "    .dataframe tbody tr th:only-of-type {\n",
       "        vertical-align: middle;\n",
       "    }\n",
       "\n",
       "    .dataframe tbody tr th {\n",
       "        vertical-align: top;\n",
       "    }\n",
       "\n",
       "    .dataframe thead th {\n",
       "        text-align: right;\n",
       "    }\n",
       "</style>\n",
       "<table border=\"1\" class=\"dataframe\">\n",
       "  <thead>\n",
       "    <tr style=\"text-align: right;\">\n",
       "      <th></th>\n",
       "      <th>crime_rate</th>\n",
       "      <th>res_land_zoned</th>\n",
       "      <th>industry</th>\n",
       "      <th>charles_river</th>\n",
       "      <th>nox</th>\n",
       "      <th>avg_num_rooms</th>\n",
       "      <th>prop_bf_1940</th>\n",
       "      <th>dst_emply_center</th>\n",
       "      <th>rd_highway_idx</th>\n",
       "      <th>tax_rate</th>\n",
       "      <th>stdnt_tchr_ratio</th>\n",
       "      <th>prop_blacks</th>\n",
       "      <th>low_status_pct</th>\n",
       "    </tr>\n",
       "  </thead>\n",
       "  <tbody>\n",
       "    <tr>\n",
       "      <th>count</th>\n",
       "      <td>506.000000</td>\n",
       "      <td>506.000000</td>\n",
       "      <td>506.000000</td>\n",
       "      <td>506.000000</td>\n",
       "      <td>506.000000</td>\n",
       "      <td>506.000000</td>\n",
       "      <td>506.000000</td>\n",
       "      <td>506.000000</td>\n",
       "      <td>506.000000</td>\n",
       "      <td>506.000000</td>\n",
       "      <td>506.000000</td>\n",
       "      <td>506.000000</td>\n",
       "      <td>506.000000</td>\n",
       "    </tr>\n",
       "    <tr>\n",
       "      <th>mean</th>\n",
       "      <td>3.613524</td>\n",
       "      <td>11.363636</td>\n",
       "      <td>11.136779</td>\n",
       "      <td>0.069170</td>\n",
       "      <td>0.554695</td>\n",
       "      <td>6.284634</td>\n",
       "      <td>68.574901</td>\n",
       "      <td>3.795043</td>\n",
       "      <td>9.549407</td>\n",
       "      <td>408.237154</td>\n",
       "      <td>18.455534</td>\n",
       "      <td>356.674032</td>\n",
       "      <td>12.653063</td>\n",
       "    </tr>\n",
       "    <tr>\n",
       "      <th>std</th>\n",
       "      <td>8.601545</td>\n",
       "      <td>23.322453</td>\n",
       "      <td>6.860353</td>\n",
       "      <td>0.253994</td>\n",
       "      <td>0.115878</td>\n",
       "      <td>0.702617</td>\n",
       "      <td>28.148861</td>\n",
       "      <td>2.105710</td>\n",
       "      <td>8.707259</td>\n",
       "      <td>168.537116</td>\n",
       "      <td>2.164946</td>\n",
       "      <td>91.294864</td>\n",
       "      <td>7.141062</td>\n",
       "    </tr>\n",
       "    <tr>\n",
       "      <th>min</th>\n",
       "      <td>0.006320</td>\n",
       "      <td>0.000000</td>\n",
       "      <td>0.460000</td>\n",
       "      <td>0.000000</td>\n",
       "      <td>0.385000</td>\n",
       "      <td>3.561000</td>\n",
       "      <td>2.900000</td>\n",
       "      <td>1.129600</td>\n",
       "      <td>1.000000</td>\n",
       "      <td>187.000000</td>\n",
       "      <td>12.600000</td>\n",
       "      <td>0.320000</td>\n",
       "      <td>1.730000</td>\n",
       "    </tr>\n",
       "    <tr>\n",
       "      <th>25%</th>\n",
       "      <td>0.082045</td>\n",
       "      <td>0.000000</td>\n",
       "      <td>5.190000</td>\n",
       "      <td>0.000000</td>\n",
       "      <td>0.449000</td>\n",
       "      <td>5.885500</td>\n",
       "      <td>45.025000</td>\n",
       "      <td>2.100175</td>\n",
       "      <td>4.000000</td>\n",
       "      <td>279.000000</td>\n",
       "      <td>17.400000</td>\n",
       "      <td>375.377500</td>\n",
       "      <td>6.950000</td>\n",
       "    </tr>\n",
       "    <tr>\n",
       "      <th>50%</th>\n",
       "      <td>0.256510</td>\n",
       "      <td>0.000000</td>\n",
       "      <td>9.690000</td>\n",
       "      <td>0.000000</td>\n",
       "      <td>0.538000</td>\n",
       "      <td>6.208500</td>\n",
       "      <td>77.500000</td>\n",
       "      <td>3.207450</td>\n",
       "      <td>5.000000</td>\n",
       "      <td>330.000000</td>\n",
       "      <td>19.050000</td>\n",
       "      <td>391.440000</td>\n",
       "      <td>11.360000</td>\n",
       "    </tr>\n",
       "    <tr>\n",
       "      <th>75%</th>\n",
       "      <td>3.677083</td>\n",
       "      <td>12.500000</td>\n",
       "      <td>18.100000</td>\n",
       "      <td>0.000000</td>\n",
       "      <td>0.624000</td>\n",
       "      <td>6.623500</td>\n",
       "      <td>94.075000</td>\n",
       "      <td>5.188425</td>\n",
       "      <td>24.000000</td>\n",
       "      <td>666.000000</td>\n",
       "      <td>20.200000</td>\n",
       "      <td>396.225000</td>\n",
       "      <td>16.955000</td>\n",
       "    </tr>\n",
       "    <tr>\n",
       "      <th>max</th>\n",
       "      <td>88.976200</td>\n",
       "      <td>100.000000</td>\n",
       "      <td>27.740000</td>\n",
       "      <td>1.000000</td>\n",
       "      <td>0.871000</td>\n",
       "      <td>8.780000</td>\n",
       "      <td>100.000000</td>\n",
       "      <td>12.126500</td>\n",
       "      <td>24.000000</td>\n",
       "      <td>711.000000</td>\n",
       "      <td>22.000000</td>\n",
       "      <td>396.900000</td>\n",
       "      <td>37.970000</td>\n",
       "    </tr>\n",
       "  </tbody>\n",
       "</table>\n",
       "</div>"
      ],
      "text/plain": [
       "       crime_rate  res_land_zoned    industry  charles_river         nox   \n",
       "count  506.000000      506.000000  506.000000     506.000000  506.000000  \\\n",
       "mean     3.613524       11.363636   11.136779       0.069170    0.554695   \n",
       "std      8.601545       23.322453    6.860353       0.253994    0.115878   \n",
       "min      0.006320        0.000000    0.460000       0.000000    0.385000   \n",
       "25%      0.082045        0.000000    5.190000       0.000000    0.449000   \n",
       "50%      0.256510        0.000000    9.690000       0.000000    0.538000   \n",
       "75%      3.677083       12.500000   18.100000       0.000000    0.624000   \n",
       "max     88.976200      100.000000   27.740000       1.000000    0.871000   \n",
       "\n",
       "       avg_num_rooms  prop_bf_1940  dst_emply_center  rd_highway_idx   \n",
       "count     506.000000    506.000000        506.000000      506.000000  \\\n",
       "mean        6.284634     68.574901          3.795043        9.549407   \n",
       "std         0.702617     28.148861          2.105710        8.707259   \n",
       "min         3.561000      2.900000          1.129600        1.000000   \n",
       "25%         5.885500     45.025000          2.100175        4.000000   \n",
       "50%         6.208500     77.500000          3.207450        5.000000   \n",
       "75%         6.623500     94.075000          5.188425       24.000000   \n",
       "max         8.780000    100.000000         12.126500       24.000000   \n",
       "\n",
       "         tax_rate  stdnt_tchr_ratio  prop_blacks  low_status_pct  \n",
       "count  506.000000        506.000000   506.000000      506.000000  \n",
       "mean   408.237154         18.455534   356.674032       12.653063  \n",
       "std    168.537116          2.164946    91.294864        7.141062  \n",
       "min    187.000000         12.600000     0.320000        1.730000  \n",
       "25%    279.000000         17.400000   375.377500        6.950000  \n",
       "50%    330.000000         19.050000   391.440000       11.360000  \n",
       "75%    666.000000         20.200000   396.225000       16.955000  \n",
       "max    711.000000         22.000000   396.900000       37.970000  "
      ]
     },
     "execution_count": 4,
     "metadata": {},
     "output_type": "execute_result"
    }
   ],
   "source": [
    "df.describe()"
   ]
  },
  {
   "cell_type": "markdown",
   "metadata": {
    "id": "a2pPZJYnLNVj"
   },
   "source": [
    "# Note 1:\n",
    "\n",
    "Think about the ethical aspects of this dataset and machine learning in general. \n",
    "Can you always trust your data source? Can we use every possible information for our models?\n",
    "- It will be a good idea to compare the data attributes and brief EDA with other data sources about the same topics. Using every possible information is good if the dataset provided is accurate"
   ]
  },
  {
   "cell_type": "markdown",
   "metadata": {
    "id": "VJG66FPb1li3"
   },
   "source": [
    "### Exercise 1\n",
    "\n",
    "Write the *split_train_test(X,y,split,seed)*, given an instance matrix $X \\in \\mathbb{R}^{N \\times D}$, labels $y \\in Y^N$, a split ratio in $[0, 1]$ and a random seed $\\in \\mathbb{Z}$. Split the dataset in $(split×100)\\%$ of the instances for training our model and the rest for testing, i.e. \n",
    "\n",
    "$$ \\left|X_{\\text{train}}\\right| = \\lceil \\text{split} \\cdot N \\rceil, \\qquad |X_{\\text{train}}| + |X_{\\text{test}}| = N. $$\n",
    "Make sure you use the given random number generator seed so we all get the same results. The function is supposed to return:\n",
    "\n",
    "- X_train, y_train: the training instances and labels;\n",
    "- X_test, y_test: the test instances and labels,\n",
    "\n",
    "in the same order as was mentioned.\n",
    "\n",
    "Hint: It may be helpful to use shuffling functionality (e.g. np.random.shuffle)."
   ]
  },
  {
   "cell_type": "code",
   "execution_count": 9,
   "metadata": {
    "id": "eZ2by_fO1li4",
    "tags": []
   },
   "outputs": [],
   "source": [
    "def split_train_test(X,y,split,seed):\n",
    "    ##################\n",
    "    X_train, X_test, y_train, y_test = train_test_split(X,y,train_size = split, random_state=seed)\n",
    "    ##################\n",
    "    return X_train, y_train, X_test, y_test"
   ]
  },
  {
   "cell_type": "markdown",
   "metadata": {
    "id": "Pxm9S36_1li4"
   },
   "source": [
    "### Exercise 2\n",
    "\n",
    "Write the function *train_linear_reg(X_train,y_train,lmbd)*.\n",
    "Implement the ridge regression model (slide 24). The function should output the learned weight vector $\\theta \\in \\mathbb{R}^D$ or $\\mathbb{R}^{D+1}$ (depending on whether you are adding *bias*)."
   ]
  },
  {
   "cell_type": "markdown",
   "metadata": {},
   "source": [
    "- For Lasso regression there will also be a analytical solution right with same equation as the ridge regression, just with lmbda in additon???????????????"
   ]
  },
  {
   "cell_type": "code",
   "execution_count": 180,
   "metadata": {
    "id": "3LDp7ssz1li5",
    "tags": []
   },
   "outputs": [],
   "source": [
    "def train_linear_reg(X, y, lmbd):\n",
    "    ##################\n",
    "    I = np.eye(X.shape[1]) # Creating an identity matrix of mxm\n",
    "    \n",
    "    inverse = np.linalg.inv(np.dot(X.T, X) + lmbd * I)\n",
    "    #print(inverse.shape)\n",
    "    theta = np.linalg.multi_dot([inverse,X.T,y])\n",
    "    ##################\n",
    "    return theta"
   ]
  },
  {
   "cell_type": "markdown",
   "metadata": {
    "id": "VzAAV9et1li5"
   },
   "source": [
    "### Exercise 3\n",
    "\n",
    "Write the function *predict(X,theta)* which predicts housing values vector pred for a dataset X and a previously trained parameter vector $\\theta$."
   ]
  },
  {
   "cell_type": "code",
   "execution_count": 181,
   "metadata": {
    "id": "1k7w4Iyq1li6",
    "tags": []
   },
   "outputs": [],
   "source": [
    "def predict(X, theta):\n",
    "    ##################\n",
    "    y_pred =np.dot(X,theta)\n",
    "    ##################\n",
    "    return y_pred"
   ]
  },
  {
   "cell_type": "markdown",
   "metadata": {
    "id": "H83oY9Zn1li6"
   },
   "source": [
    "### Exercise 4\n",
    "\n",
    "Write the function *mean_abs_loss(y_true,y_pred)* which computes the mean of the absolute differences between our prediction vector $y\\_pred$ and the real housing values $y\\_true$."
   ]
  },
  {
   "cell_type": "code",
   "execution_count": 182,
   "metadata": {
    "id": "hiNjDcM-1li7",
    "tags": []
   },
   "outputs": [],
   "source": [
    "def mean_abs_loss(y_true,y_pred):\n",
    "    ##################\n",
    "    loss = np.mean(np.abs(y_true-y_pred))\n",
    "    ##################\n",
    "    return loss"
   ]
  },
  {
   "cell_type": "markdown",
   "metadata": {
    "id": "G9CXkha41li7"
   },
   "source": [
    "### Exercise 5\n",
    "\n",
    "Evaluate your solutions by running the following code. \n",
    "\n",
    "Moreover, answer the following questions: What is the most important feature in your model? Are there features that are not so important? What happens if you remove them? Are there outliers with a high absolute loss?"
   ]
  },
  {
   "cell_type": "code",
   "execution_count": 185,
   "metadata": {
    "id": "v-hRUKyC1li8",
    "tags": []
   },
   "outputs": [
    {
     "name": "stdout",
     "output_type": "stream",
     "text": [
      "The mean absolute loss is 3.623\n"
     ]
    }
   ],
   "source": [
    "seed = 3\n",
    "lmbd=1\n",
    "split=0.7\n",
    "X_train,y_train,X_test,y_test=split_train_test(X,y,split,seed)\n",
    "\n",
    "theta=train_linear_reg(X_train,y_train,lmbd)\n",
    "\n",
    "y_pred=predict(X_test,theta)\n",
    "\n",
    "mae=mean_abs_loss(y_test,y_pred)\n",
    "\n",
    "print(f\"The mean absolute loss is {mae:0.3f}\")"
   ]
  },
  {
   "cell_type": "code",
   "execution_count": 187,
   "metadata": {
    "tags": []
   },
   "outputs": [
    {
     "name": "stdout",
     "output_type": "stream",
     "text": [
      "The mean absolute loss is 2.364\n"
     ]
    }
   ],
   "source": [
    "from sklearn.ensemble import RandomForestRegressor\n",
    "from sklearn.metrics import accuracy_score\n",
    "rfr = RandomForestRegressor(n_estimators = 100, criterion = 'squared_error', random_state = 42)\n",
    "y_train, y_test = np.ravel(y_train),np.ravel(y_test)\n",
    "rfr.fit(X_train,y_train)\n",
    "y_pred = rfr.predict(X_test)\n",
    "\n",
    "mae=mean_abs_loss(y_test,y_pred)\n",
    "\n",
    "print(f\"The mean absolute loss is {mae:0.3f}\")"
   ]
  },
  {
   "cell_type": "markdown",
   "metadata": {},
   "source": [
    "### Using Feature Importance Plot & Correlation cf's to find the features that are least improvement"
   ]
  },
  {
   "cell_type": "code",
   "execution_count": 189,
   "metadata": {
    "tags": []
   },
   "outputs": [
    {
     "data": {
      "image/png": "[encoded data removed]",
      "text/plain": [
       "<Figure size 1200x1000 with 1 Axes>"
      ]
     },
     "metadata": {},
     "output_type": "display_data"
    }
   ],
   "source": [
    "def feature_imp_plot(data,labels,seed):\n",
    "    X_train, X_test, y_train,y_test = train_test_split(data, labels, test_size = 0.3, random_state=seed)\n",
    "    rf = RandomForestRegressor(n_estimators=30, max_depth = 30, random_state = 42)\n",
    "    y_train, y_test = np.ravel(y_train), np.ravel(y_test)\n",
    "    rf.fit(X_train,y_train)\n",
    "    imp_features = np.array((rf.feature_importances_))\n",
    "    dc = dict(zip(data.columns,imp_features))\n",
    "    dc = dict(sorted(dc.items(),key = lambda x:x[1],reverse = True))\n",
    "    \n",
    "    fig = plt.figure(figsize=(12, 10))\n",
    "    sns.barplot(y=list(dc.keys()), x=list(dc.values()), orient='h')\n",
    "\n",
    "    # Adjust the spacing between y-ticks\n",
    "    ax = plt.gca()\n",
    "    ax.set_yticklabels(list(dc.keys()))\n",
    "    ax.tick_params(axis='y', which = 'minor', pad=220)  # Adjust the padding between entries\n",
    "\n",
    "    fig.tight_layout()\n",
    "    plt.show()\n",
    "    return list(dc.keys())[-4:]\n",
    "\n",
    "rf_less_cor = feature_imp_plot(df,target,3)"
   ]
  },
  {
   "cell_type": "code",
   "execution_count": 190,
   "metadata": {
    "tags": []
   },
   "outputs": [
    {
     "data": {
      "image/png": "[encoded data removed]",
      "text/plain": [
       "<Figure size 2000x1200 with 1 Axes>"
      ]
     },
     "metadata": {},
     "output_type": "display_data"
    }
   ],
   "source": [
    "#### Use of Correlation cf's between each column and house price for selecting features\n",
    "labels = df.columns\n",
    "values = []\n",
    "\n",
    "for col in labels:\n",
    "    values.append(np.corrcoef(df[col].values,target.values,rowvar=False)[0,1])\n",
    "\n",
    "corr_df = pd.DataFrame({'col_labels':labels,'corr_values':values})\n",
    "corr_df = (corr_df.sort_values(by = 'corr_values', ascending = False)).reset_index()\n",
    "\n",
    "ind = np.arange(len(labels))\n",
    "width = 0.9\n",
    "fig, ax = plt.subplots(figsize=(20,12))\n",
    "rects = ax.barh(ind, np.array(corr_df.corr_values.values), color='orange')\n",
    "ax.set_yticks(ind)\n",
    "ax.set_yticklabels(corr_df.col_labels.values, rotation='horizontal')\n",
    "ax.set_xlabel(\"Correlation coefficient\")\n",
    "ax.set_title(\"Correlation coefficient of the variables\")\n",
    "plt.show()"
   ]
  },
  {
   "cell_type": "markdown",
   "metadata": {
    "tags": []
   },
   "source": [
    "#### So by taking consensus from the feature_importances and correlation plot we can train the model on data without these cols"
   ]
  },
  {
   "cell_type": "code",
   "execution_count": 193,
   "metadata": {
    "tags": []
   },
   "outputs": [
    {
     "data": {
      "text/plain": [
       "['rd_highway_idx', 'industry', 'charles_river', 'res_land_zoned']"
      ]
     },
     "execution_count": 193,
     "metadata": {},
     "output_type": "execute_result"
    }
   ],
   "source": [
    "less_corr_features = corr_df[(corr_df.corr_values>=-0.5) & (corr_df.corr_values<=0.5)].col_labels[:]\n",
    "less_corr = less_corr_features.to_list()\n",
    "less_corr_fs = list(set(less_corr)&set(rf_less_cor))\n",
    "less_corr_fs"
   ]
  },
  {
   "cell_type": "markdown",
   "metadata": {},
   "source": [
    "### Dropping all the less important features from the consensus & obtaining the score"
   ]
  },
  {
   "cell_type": "code",
   "execution_count": 196,
   "metadata": {
    "tags": []
   },
   "outputs": [],
   "source": [
    "X_new = df.drop(less_corr_fs, axis = 1)\n",
    "y = target"
   ]
  },
  {
   "cell_type": "code",
   "execution_count": 197,
   "metadata": {
    "tags": []
   },
   "outputs": [
    {
     "name": "stdout",
     "output_type": "stream",
     "text": [
      "The mean absolute loss is 3.642\n"
     ]
    }
   ],
   "source": [
    "seed = 3\n",
    "lmbd=1\n",
    "split=0.7\n",
    "X_train,y_train,X_test,y_test=split_train_test(X_new,y,split,seed)\n",
    "\n",
    "theta=train_linear_reg(X_train,y_train,lmbd)\n",
    "\n",
    "y_pred=predict(X_test,theta)\n",
    "\n",
    "mae=mean_abs_loss(y_test,y_pred)\n",
    "\n",
    "print(f\"The mean absolute loss is {mae:0.3f}\")"
   ]
  },
  {
   "cell_type": "markdown",
   "metadata": {},
   "source": [
    "### Observations\n",
    "- The mae has increased if we drop all the cols, so we can try dropping them one by one and drop only those that decrease the mae"
   ]
  },
  {
   "cell_type": "code",
   "execution_count": 198,
   "metadata": {
    "tags": []
   },
   "outputs": [
    {
     "name": "stdout",
     "output_type": "stream",
     "text": [
      "Columns to drop: ['industry', 'charles_river']\n"
     ]
    }
   ],
   "source": [
    "seed = 3\n",
    "lmbd=1\n",
    "split=0.7\n",
    "X_train,y_train,X_test,y_test=split_train_test(df,y,split,seed)\n",
    "theta=train_linear_reg(X_train,y_train,lmbd)\n",
    "y_pred=predict(X_test,theta)\n",
    "mae=mean_abs_loss(y_test,y_pred)\n",
    "baseline_mae = mae\n",
    "\n",
    "# Step 2: Initialize the dropping_cols list\n",
    "dropping_cols = []\n",
    "\n",
    "# Step 3-9: Iterate over each column and compare MAE\n",
    "for col in less_cor_fs:\n",
    "    # Step 4: Create a new dataset by dropping the current column\n",
    "    updated_X_train = X_train.drop(col, axis=1)\n",
    "    updated_X_test = X_test.drop(col, axis=1)\n",
    "\n",
    "    # Step 5: Train a new model and calculate the MAE\n",
    "    theta=train_linear_reg(updated_X_train,y_train,lmbd)\n",
    "    y_pred=predict(updated_X_test,theta)\n",
    "    updated_mae=mean_abs_loss(y_test,y_pred)\n",
    "\n",
    "    # Step 6-8: Compare MAE and add column to dropping_cols if it improves MAE\n",
    "    if updated_mae < baseline_mae:\n",
    "        dropping_cols.append(col)\n",
    "\n",
    "# Print the columns that improve MAE\n",
    "print(\"Columns to drop:\", dropping_cols)"
   ]
  },
  {
   "cell_type": "code",
   "execution_count": 200,
   "metadata": {
    "tags": []
   },
   "outputs": [
    {
     "name": "stdout",
     "output_type": "stream",
     "text": [
      "The mean absolute loss after dropping ['industry', 'charles_river'] is 3.609\n"
     ]
    }
   ],
   "source": [
    "X_new = df.drop(dropping_cols, axis = 1)\n",
    "y = target\n",
    "seed = 3\n",
    "lmbd=1\n",
    "split=0.7\n",
    "X_train,y_train,X_test,y_test=split_train_test(X_new,y,split,seed)\n",
    "\n",
    "theta=train_linear_reg(X_train,y_train,lmbd)\n",
    "\n",
    "y_pred=predict(X_test,theta)\n",
    "\n",
    "mae=mean_abs_loss(y_test,y_pred)\n",
    "\n",
    "print(f\"The mean absolute loss after dropping {dropping_cols} is {mae:0.3f}\")"
   ]
  },
  {
   "cell_type": "markdown",
   "metadata": {},
   "source": [
    "### By observation only dropping 'industry' leads to high score from those 2"
   ]
  },
  {
   "cell_type": "code",
   "execution_count": 203,
   "metadata": {
    "tags": []
   },
   "outputs": [
    {
     "name": "stdout",
     "output_type": "stream",
     "text": [
      "The mean absolute loss after dropping industry is 3.591\n"
     ]
    }
   ],
   "source": [
    "X_new = df.drop(['industry'], axis = 1)\n",
    "y = target\n",
    "seed = 3\n",
    "lmbd=1\n",
    "split=0.7\n",
    "X_train,y_train,X_test,y_test=split_train_test(X_new,y,split,seed)\n",
    "\n",
    "theta=train_linear_reg(X_train,y_train,lmbd)\n",
    "\n",
    "y_pred=predict(X_test,theta)\n",
    "\n",
    "mae=mean_abs_loss(y_test,y_pred)\n",
    "\n",
    "print(f\"The mean absolute loss after dropping industry is {mae:0.3f}\")"
   ]
  }
 ],
 "metadata": {
  "colab": {
   "name": "Lab07_LinearRegression.ipynb",
   "provenance": []
  },
  "kernelspec": {
   "display_name": "Python 3 (ipykernel)",
   "language": "python",
   "name": "python3"
  },
  "language_info": {
   "codemirror_mode": {
    "name": "ipython",
    "version": 3
   },
   "file_extension": ".py",
   "mimetype": "text/x-python",
   "name": "python",
   "nbconvert_exporter": "python",
   "pygments_lexer": "ipython3",
   "version": "3.11.3"
  }
 },
 "nbformat": 4,
 "nbformat_minor": 4
}
